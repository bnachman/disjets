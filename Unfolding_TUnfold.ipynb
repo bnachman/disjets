{
 "cells": [
  {
   "cell_type": "markdown",
   "metadata": {},
   "source": [
    "## This notebook illustrates unfolding using the RooUnfold methods "
   ]
  },
  {
   "cell_type": "code",
   "execution_count": 2,
   "metadata": {
    "scrolled": true
   },
   "outputs": [
    {
     "name": "stdout",
     "output_type": "stream",
     "text": [
      "Welcome to JupyROOT 6.15/01\n"
     ]
    }
   ],
   "source": [
    "import time\n",
    "import ROOT\n",
    "import numpy as np\n",
    "import pandas as pd\n",
    "import root_pandas as rpd\n",
    "import matplotlib.pyplot as plt\n",
    "import matplotlib.ticker as mticker\n",
    "from matplotlib.colors import LogNorm\n",
    "from root_pandas import read_root\n",
    "from matplotlib import rc\n",
    "from numpy import inf\n",
    "\n",
    "rc('text', usetex=True)"
   ]
  },
  {
   "cell_type": "code",
   "execution_count": 3,
   "metadata": {},
   "outputs": [
    {
     "name": "stderr",
     "output_type": "stream",
     "text": [
      "/mnt/c/Users/marratia/Linux/buildroot/lib/ROOT.py:579: UserWarning: \"from ROOT import *\" is not supported under IPython\n",
      "  warnings.warn( '\"from ROOT import *\" is not supported under IPython' )\n"
     ]
    }
   ],
   "source": [
    "from AtlasCommonUtils import SetAtlasStyle\n",
    "from Legend import Legend\n",
    "from ROOT import TLatex"
   ]
  },
  {
   "cell_type": "code",
   "execution_count": 4,
   "metadata": {
    "scrolled": true
   },
   "outputs": [
    {
     "data": {
      "text/plain": [
       "0L"
      ]
     },
     "execution_count": 4,
     "metadata": {},
     "output_type": "execute_result"
    }
   ],
   "source": [
    "ROOT.gInterpreter.ProcessLine('#include \"MyTUnfoldDensity.h\"')\n"
   ]
  },
  {
   "cell_type": "code",
   "execution_count": 5,
   "metadata": {},
   "outputs": [],
   "source": [
    "def applyCut(inputDataframe, cut, text=None):\n",
    "    dataframe = inputDataframe\n",
    "    nbeforecut = dataframe.shape[0]\n",
    "    cutDataframe = dataframe.query(cut)\n",
    "    if text:\n",
    "        print text, cutDataframe.shape[0], ' fraction kept: %2.1f'%(100.0*float(cutDataframe.shape[0])/nbeforecut)\n",
    "    return cutDataframe"
   ]
  },
  {
   "cell_type": "code",
   "execution_count": 6,
   "metadata": {},
   "outputs": [],
   "source": [
    "def getJetData(inputFiles, isMC=False):\n",
    "    \n",
    "    cols = []\n",
    "    scalar = []\n",
    "  \n",
    "    scalar.append('x')\n",
    "    scalar.append('y')\n",
    "    scalar.append('Q2')\n",
    "\n",
    "    scalar.append('e_eta')\n",
    "    scalar.append('e_theta')\n",
    "    scalar.append('e_p')\n",
    "    scalar.append('e_pt')\n",
    "\n",
    "    cols.append('jet_p')\n",
    "    cols.append('jet_pt')\n",
    "    cols.append('jet_qt')\n",
    "    cols.append('jet_dphi')\n",
    "    cols.append('jet_z')\n",
    "    \n",
    "    if(isMC):\n",
    "        cols.append('genjet_p')\n",
    "        cols.append('genjet_pt')\n",
    "        cols.append('genjet_qt')\n",
    "        cols.append('genjet_dphi')\n",
    "        cols.append('genjet_z')\n",
    "\n",
    "    lists = scalar\n",
    "    dataframes = []\n",
    "    for inputFilename in inputFiles:\n",
    "        start = time.time()\n",
    "        df = read_root(inputFilename, columns=lists+cols,flatten=cols)\n",
    "        dataframes.append(df)\n",
    "        end = time.time()\n",
    "        print '\\n', 'Processed', inputFilename, 'in',  '%2.1f'%(end-start), 'seconds'\n",
    "    return pd.concat([x for x in dataframes])"
   ]
  },
  {
   "cell_type": "code",
   "execution_count": 7,
   "metadata": {},
   "outputs": [],
   "source": [
    "def printSummary(df):\n",
    "    print df['e_pt'].mean(), ' mean lepton pt'\n",
    "    print df['y'].mean(), ' mean inelasticity'\n",
    "    print df['jet_p'].mean(), ' mean jet p'\n",
    "    print df['jet_pt'].mean(), ' mean jet pT'\n",
    "    print df['jet_pt'].describe()\n",
    "\n",
    "    print df['x'].mean(), ' mean x'\n",
    "    print df['Q2'].mean(), ' mean Q2'\n",
    "    print df['Q2'].describe()\n",
    "    return"
   ]
  },
  {
   "cell_type": "code",
   "execution_count": 8,
   "metadata": {},
   "outputs": [],
   "source": [
    "def getData(inputFiles):\n",
    "    \n",
    "    cols = []\n",
    "    scalar = []  \n",
    "    scalar.append('x')\n",
    "    scalar.append('y')\n",
    "    scalar.append('Q2')\n",
    "    scalar.append('e_eta')\n",
    "    scalar.append('e_theta')\n",
    "    scalar.append('e_p')\n",
    "    scalar.append('e_pt')\n",
    "\n",
    "    \n",
    "    \n",
    "    lists = scalar\n",
    "    dataframes = []\n",
    "    for inputFilename in inputFiles:\n",
    "        start = time.time()\n",
    "        df = read_root(inputFilename, columns=lists+cols,flatten=cols)\n",
    "        dataframes.append(df)\n",
    "        end = time.time()\n",
    "        print '\\n', 'Processed', inputFilename, 'in',  '%2.1f'%(end-start), 'seconds'\n",
    "    return pd.concat([x for x in dataframes])"
   ]
  },
  {
   "cell_type": "code",
   "execution_count": 9,
   "metadata": {},
   "outputs": [],
   "source": [
    "def applyCuts(df):\n",
    "    temp = df\n",
    "    temp = applyCut(temp, '0.2 < y < 0.7', '0.2 < y < 0.7')\n",
    "    temp = applyCut(temp, 'Q2>150', 'Q2>150')\n",
    "    temp = applyCut(temp, 'e_pt>10', 'e_pt >10')\n",
    "    #temp = applyCut(temp, 'x > 0.05', 'x>0.05')\n",
    "    temp.eval('logQ2= log(Q2)/2.3025850', inplace=True)\n",
    "    temp.eval('logx= log(x)/2.3025850', inplace=True)\n",
    "    return temp"
   ]
  },
  {
   "cell_type": "code",
   "execution_count": 10,
   "metadata": {},
   "outputs": [],
   "source": [
    "def applyCutsJets(df,isMC=False):\n",
    "    temp = df\n",
    "    temp = applyCut(temp, '0.2 < y < 0.7', '0.2 < y < 0.7')\n",
    "    temp = applyCut(temp, 'Q2>150', 'Q2>150')\n",
    "    temp = applyCut(temp, 'e_pt>10', 'e_pt >10')\n",
    "    temp = applyCut(temp, 'jet_pt>5', 'jet_pt>5')\n",
    "    #temp = applyCut(temp, 'jet_qt<5', 'jet_qt<5')\n",
    "\n",
    "    #temp = applyCut(temp, 'dphi_e_jet > 2.74', 'dphi_e_jet>3.14159-0.4')\n",
    "    #temp = applyCut(temp, 'Q2>100.0', ' Q2>100.0')\n",
    "    \n",
    "    #temp.eval('dphi = 3.14159-jet_dphi', inplace=True)\n",
    "    temp.eval('jet_qtnormjetpt= jet_qt/jet_pt', inplace=True)\n",
    "    temp.eval('jet_qtnormept= jet_qt/e_pt', inplace=True)\n",
    "    if(isMC):\n",
    "        temp.eval('genjet_qtnormept= genjet_qt/e_pt', inplace=True)\n",
    "        temp.eval('genjet_qtnormjetpt= genjet_qt/genjet_pt', inplace=True)\n",
    "\n",
    "\n",
    "    #df = applyCut(df, 'n_total>1', ' n>1')\n",
    "    return temp"
   ]
  },
  {
   "cell_type": "code",
   "execution_count": 11,
   "metadata": {},
   "outputs": [
    {
     "name": "stdout",
     "output_type": "stream",
     "text": [
      "\n",
      "Processed data.root in 0.4 seconds\n",
      "0.2 < y < 0.7 170849  fraction kept: 100.0\n",
      "Q2>150 170849  fraction kept: 100.0\n",
      "e_pt >10 137246  fraction kept: 80.3\n",
      "\n",
      "Processed mc.root in 0.1 seconds\n",
      "0.2 < y < 0.7 118567  fraction kept: 100.0\n",
      "Q2>150 118567  fraction kept: 100.0\n",
      "e_pt >10 97889  fraction kept: 82.6\n"
     ]
    }
   ],
   "source": [
    "df = getData(['data.root'])\n",
    "df = applyCuts(df)\n",
    "\n",
    "mc = getData(['mc.root'])\n",
    "mc = applyCuts(mc)"
   ]
  },
  {
   "cell_type": "code",
   "execution_count": 12,
   "metadata": {},
   "outputs": [
    {
     "name": "stdout",
     "output_type": "stream",
     "text": [
      "\n",
      "Processed data.root in 2.7 seconds\n",
      "0.2 < y < 0.7 82882  fraction kept: 100.0\n",
      "Q2>150 82882  fraction kept: 100.0\n",
      "e_pt >10 70103  fraction kept: 84.6\n",
      "jet_pt>5 70103  fraction kept: 100.0\n",
      "\n",
      "Processed mc.root in 3.1 seconds\n",
      "0.2 < y < 0.7 145313  fraction kept: 100.0\n",
      "Q2>150 145313  fraction kept: 100.0\n",
      "e_pt >10 125072  fraction kept: 86.1\n",
      "jet_pt>5 125072  fraction kept: 100.0\n"
     ]
    }
   ],
   "source": [
    "df_jet      = getJetData(['data.root'])\n",
    "df_jet = applyCutsJets(df_jet)\n",
    "\n",
    "mc_jet = getJetData(['mc.root'],isMC=True)\n",
    "mc_jet = applyCutsJets(mc_jet, isMC=True)"
   ]
  },
  {
   "cell_type": "code",
   "execution_count": 14,
   "metadata": {},
   "outputs": [
    {
     "name": "stdout",
     "output_type": "stream",
     "text": [
      "29316\n",
      "14589\n",
      "14727\n"
     ]
    }
   ],
   "source": [
    "eptmin = 15\n",
    "eptmax = 20\n",
    "data_cut = df_jet.query('e_pt > %2.2f and e_pt<%2.2f'%(eptmin,eptmax))\n",
    "mc_cut = mc_jet.query('e_pt > %2.2f and e_pt<%2.2f'%(eptmin,eptmax))\n",
    "print len(mc_cut)\n",
    "msk = np.random.rand(len(mc_cut)) < 0.5\n",
    "mctest_cut = mc_cut[msk]\n",
    "mc_cut   = mc_cut[~msk]\n",
    "print len(mctest_cut)\n",
    "print len(mc_cut)"
   ]
  },
  {
   "cell_type": "code",
   "execution_count": 16,
   "metadata": {},
   "outputs": [],
   "source": [
    "coarsebins = 10\n",
    "finebins = 10\n",
    "#minval = 2.5\n",
    "#maxval = np.pi\n",
    "#variable    = 'jet_dphi' \n",
    "#genvariable = 'genjet_dphi'\n",
    "\n",
    "#minval = 0.0\n",
    "#maxval = 10\n",
    "#variable = 'jet_qt'\n",
    "#genvariable = 'genjet_qt'\n",
    "\n",
    "#minval = 0.0 \n",
    "#maxval = 1.0\n",
    "#variable = 'jet_qtnormept'\n",
    "#genvariable = 'genjet_qtnormept'\n",
    "\n",
    "minval = 0.0\n",
    "maxval = 0.50\n",
    "variable = 'jet_qtnormjetpt'\n",
    "genvariable = 'genjet_qtnormjetpt'\n",
    "namevariable = r'$q_{T}/p_{T}^{jet}$'\n",
    "\n",
    "#minval = 0\n",
    "#maxval = 1.0\n",
    "#variable = 'jet_z'\n",
    "#genvariable = 'genjet_z'\n",
    "#namevariable = r'$z_{jet}$'\n",
    "\n",
    "\n",
    "binwidth = (maxval - minval)/coarsebins\n",
    "\n",
    "M = ROOT.TH2D(\"M\", \"Response Matrix\", coarsebins,minval,maxval, finebins,minval,maxval)\n",
    "M1 = M.Clone(\"M1\")\n",
    "M2 = M.Clone(\"M2\")\n",
    "M1.SetTitle(\"+1#sigma\")\n",
    "M2.SetTitle(\"-1#sigma\")\n",
    "\n",
    "scaleup = 1.001\n",
    "scaledn = 0.999\n",
    "\n",
    "eptmin = 15\n",
    "eptmax = 20"
   ]
  },
  {
   "cell_type": "code",
   "execution_count": 17,
   "metadata": {},
   "outputs": [
    {
     "data": {
      "text/plain": [
       "<function matplotlib.pyplot.hist>"
      ]
     },
     "execution_count": 17,
     "metadata": {},
     "output_type": "execute_result"
    },
    {
     "data": {
      "image/png": "[encoded data removed]",
      "text/plain": [
       "<matplotlib.figure.Figure at 0x7fbc74af0850>"
      ]
     },
     "metadata": {
      "needs_background": "light"
     },
     "output_type": "display_data"
    }
   ],
   "source": [
    "plt.hist(data_cut[variable],range=(0,1),bins=50,normed=True)\n",
    "plt.hist(mc_cut[variable],range=(0,1),bins=50,normed=True,alpha=0.5)\n",
    "plt.hist(mc_cut[genvariable],range=(0,1),bins=50, normed=True,alpha=0.5)\n",
    "\n",
    "plt.hist"
   ]
  },
  {
   "cell_type": "code",
   "execution_count": 18,
   "metadata": {},
   "outputs": [
    {
     "data": {
      "text/plain": [
       "(array([2.26925204, 4.34570631, 3.51246506, 2.47534641, 1.92576189,\n",
       "        1.46703566, 1.2055406 , 1.11911331, 0.81772882, 0.86204966]),\n",
       " array([0.  , 0.05, 0.1 , 0.15, 0.2 , 0.25, 0.3 , 0.35, 0.4 , 0.45, 0.5 ],\n",
       "       dtype=float32),\n",
       " <a list of 10 Patch objects>)"
      ]
     },
     "execution_count": 18,
     "metadata": {},
     "output_type": "execute_result"
    },
    {
     "data": {
      "image/png": "[encoded data removed]",
      "text/plain": [
       "<matplotlib.figure.Figure at 0x7fbc711787d0>"
      ]
     },
     "metadata": {
      "needs_background": "light"
     },
     "output_type": "display_data"
    }
   ],
   "source": [
    "plt.hist(data_cut[variable],range=(0,maxval),bins=coarsebins,normed=True)\n",
    "plt.hist(mc_cut[variable],range=(0,maxval),bins=coarsebins,normed=True,alpha=0.5)\n",
    "plt.hist(mc_cut[genvariable],range=(0,maxval),bins=coarsebins, normed=True,alpha=0.5)\n"
   ]
  },
  {
   "cell_type": "code",
   "execution_count": 20,
   "metadata": {},
   "outputs": [],
   "source": [
    "Npe = len(mc_cut[variable])\n",
    "\n",
    "for i in np.arange(len(mc_cut[variable])):\n",
    "    x = mc_cut.iloc[i][variable]\n",
    "    y = mc_cut.iloc[i][genvariable]\n",
    "    M.Fill(x, y, 1./Npe)\n",
    "#\n",
    "#plt.hist(df_cut['jet_qt'],bins=10,range=(0,10.0),normed=True,alpha=0.9, label='MC reco',histtype='step',lw=2)\n"
   ]
  },
  {
   "cell_type": "code",
   "execution_count": null,
   "metadata": {},
   "outputs": [],
   "source": [
    "h_fakedata = ROOT.TH1D(\"h_fakedata\", \"h_fakedata\", finebins, minval, maxval)   \n",
    "    \n",
    "for i in np.arange(len(mctest_cut[variable])):\n",
    "    h_fakedata.Fill(mctest_cut.iloc[i][variable])\n",
    "    \n",
    "    \n",
    "    \n",
    "h_data = ROOT.TH1D(\"h_data\", \"h_data\", finebins, minval, maxval)   \n",
    "for i in np.arange(len(data_cut[variable])):\n",
    "    h_data.Fill(data_cut.iloc[i][variable])\n",
    "    \n",
    "h_mcreco = ROOT.TH1D(\"h_mcreco\", \"h_mcreco\", finebins, minval, maxval)\n",
    "h_mctrue = ROOT.TH1D(\"h_mctrue\", \"h_mctrue\", finebins, minval, maxval)\n",
    "\n",
    "   \n",
    "for i in np.arange(len(mc_cut[variable])):\n",
    "    h_mctrue.Fill(mc_cut.iloc[i][genvariable])\n",
    "    h_mcreco.Fill(mc_cut.iloc[i][variable])\n"
   ]
  },
  {
   "cell_type": "code",
   "execution_count": 19,
   "metadata": {},
   "outputs": [
    {
     "ename": "NameError",
     "evalue": "name 'hdata' is not defined",
     "output_type": "error",
     "traceback": [
      "\u001b[0;31m\u001b[0m",
      "\u001b[0;31mNameError\u001b[0mTraceback (most recent call last)",
      "\u001b[0;32m<ipython-input-19-85bab26b7994>\u001b[0m in \u001b[0;36m<module>\u001b[0;34m()\u001b[0m\n\u001b[1;32m      6\u001b[0m \u001b[0;34m\u001b[0m\u001b[0m\n\u001b[1;32m      7\u001b[0m \u001b[0mu\u001b[0m \u001b[0;34m=\u001b[0m \u001b[0mROOT\u001b[0m\u001b[0;34m.\u001b[0m\u001b[0mMyTUnfoldDensity\u001b[0m\u001b[0;34m(\u001b[0m\u001b[0mM\u001b[0m\u001b[0;34m,\u001b[0m\u001b[0morientation\u001b[0m\u001b[0;34m,\u001b[0m\u001b[0mregMode\u001b[0m\u001b[0;34m,\u001b[0m\u001b[0mcon\u001b[0m\u001b[0;34m)\u001b[0m\u001b[0;34m\u001b[0m\u001b[0m\n\u001b[0;32m----> 8\u001b[0;31m \u001b[0mu\u001b[0m\u001b[0;34m.\u001b[0m\u001b[0mSetInput\u001b[0m\u001b[0;34m(\u001b[0m \u001b[0mhdata\u001b[0m \u001b[0;34m)\u001b[0m\u001b[0;34m\u001b[0m\u001b[0m\n\u001b[0m\u001b[1;32m      9\u001b[0m \u001b[0mu\u001b[0m\u001b[0;34m.\u001b[0m\u001b[0mAddSysError\u001b[0m\u001b[0;34m(\u001b[0m\u001b[0mM1\u001b[0m\u001b[0;34m,\u001b[0m \u001b[0;34m\"Up\"\u001b[0m\u001b[0;34m,\u001b[0m \u001b[0morientation\u001b[0m\u001b[0;34m,\u001b[0m \u001b[0mROOT\u001b[0m\u001b[0;34m.\u001b[0m\u001b[0mTUnfoldDensity\u001b[0m\u001b[0;34m.\u001b[0m\u001b[0mkSysErrModeMatrix\u001b[0m\u001b[0;34m)\u001b[0m\u001b[0;34m\u001b[0m\u001b[0m\n\u001b[1;32m     10\u001b[0m \u001b[0mu\u001b[0m\u001b[0;34m.\u001b[0m\u001b[0mAddSysError\u001b[0m\u001b[0;34m(\u001b[0m\u001b[0mM2\u001b[0m\u001b[0;34m,\u001b[0m \u001b[0;34m\"Dn\"\u001b[0m\u001b[0;34m,\u001b[0m \u001b[0morientation\u001b[0m\u001b[0;34m,\u001b[0m \u001b[0mROOT\u001b[0m\u001b[0;34m.\u001b[0m\u001b[0mTUnfoldDensity\u001b[0m\u001b[0;34m.\u001b[0m\u001b[0mkSysErrModeMatrix\u001b[0m\u001b[0;34m)\u001b[0m\u001b[0;34m\u001b[0m\u001b[0m\n",
      "\u001b[0;31mNameError\u001b[0m: name 'hdata' is not defined"
     ]
    },
    {
     "name": "stdout",
     "output_type": "stream",
     "text": [
      "Setup (My)TUnfoldDensity\n"
     ]
    },
    {
     "name": "stderr",
     "output_type": "stream",
     "text": [
      "Info in <TUnfold::SetConstraint>: fConstraint=1\n",
      "Warning in <TUnfold::TUnfold>: 12 output bins do not depend on the input data  0-11\n",
      "Info in <TUnfold::TUnfold>: 10 input bins and 0 output bins\n",
      "Info in <TUnfoldDensity::TUnfold>: *NOT* unfolding bin #0 (xaxis:[ufl])\n",
      "Info in <TUnfoldDensity::TUnfold>: *NOT* unfolding bin #1 (xaxis:[0,0.05])\n",
      "Info in <TUnfoldDensity::TUnfold>: *NOT* unfolding bin #2 (xaxis:[0.05,0.1])\n",
      "Info in <TUnfoldDensity::TUnfold>: *NOT* unfolding bin #3 (xaxis:[0.1,0.15])\n",
      "Info in <TUnfoldDensity::TUnfold>: *NOT* unfolding bin #4 (xaxis:[0.15,0.2])\n",
      "Info in <TUnfoldDensity::TUnfold>: *NOT* unfolding bin #5 (xaxis:[0.2,0.25])\n",
      "Info in <TUnfoldDensity::TUnfold>: *NOT* unfolding bin #6 (xaxis:[0.25,0.3])\n",
      "Info in <TUnfoldDensity::TUnfold>: *NOT* unfolding bin #7 (xaxis:[0.3,0.35])\n",
      "Info in <TUnfoldDensity::TUnfold>: *NOT* unfolding bin #8 (xaxis:[0.35,0.4])\n",
      "Info in <TUnfoldDensity::TUnfold>: *NOT* unfolding bin #9 (xaxis:[0.4,0.45])\n",
      "Info in <TUnfoldDensity::TUnfold>: *NOT* unfolding bin #10 (xaxis:[0.45,0.5])\n",
      "Info in <TUnfoldDensity::TUnfold>: *NOT* unfolding bin #11 (xaxis:[ofl])\n",
      "Info in <TUnfoldDensity::RegularizeOneDistribution>: regularizing xaxis regMode=3 densityMode=3 axisSteering=*[UOB]\n"
     ]
    }
   ],
   "source": [
    "orientation = ROOT.TUnfold.kHistMapOutputHoriz\n",
    "regMode = ROOT.TUnfold.kRegModeCurvature#Derivative#Curvature\n",
    "con = ROOT.TUnfold.kEConstraintArea #ROOT.TUnfold.kEConstraintArea\n",
    "mode =  ROOT.TUnfoldDensity.kDensityModeBinWidth\n",
    "axisSteering =  \"*[b]\"\n",
    "\n",
    "u = ROOT.MyTUnfoldDensity(M,orientation,regMode,con)\n",
    "u.SetInput( hdata )\n",
    "u.AddSysError(M1, \"Up\", orientation, ROOT.TUnfoldDensity.kSysErrModeMatrix)\n",
    "u.AddSysError(M2, \"Dn\", orientation, ROOT.TUnfoldDensity.kSysErrModeMatrix)\n",
    "#ROOT.TUnfoldDensity.kSysErrModeRelative)# ROOT.TUnfoldDensity.kSysErrModeShift)"
   ]
  },
  {
   "cell_type": "code",
   "execution_count": null,
   "metadata": {},
   "outputs": [],
   "source": [
    "# Regularize\n",
    "nScan=50\n",
    "tauMin=0.0\n",
    "tauMax=0.0\n",
    "iBest=0\n",
    "\n",
    "logTauX = ROOT.MakeNullPointer(ROOT.TSpline)\n",
    "logTauY = ROOT.MakeNullPointer(ROOT.TSpline)\n",
    "lCurve = ROOT.MakeNullPointer(ROOT.TGraph)\n",
    "u.ScanLcurve(nScan,tauMin,tauMax,lCurve,logTauX,logTauY)"
   ]
  },
  {
   "cell_type": "code",
   "execution_count": null,
   "metadata": {},
   "outputs": [],
   "source": [
    "print (lCurve)\n",
    "if lCurve:\n",
    "    cl = ROOT.TCanvas(\"cl\", \"cl\", 500, 500)\n",
    "    lCurve.Draw(\"alp\")\n",
    "    cl.Draw()"
   ]
  },
  {
   "cell_type": "code",
   "execution_count": null,
   "metadata": {},
   "outputs": [],
   "source": [
    "# Get output... DOES NOT CONTAIN SYSTEMATICS. \n",
    "o = u.GetOutput(\"o\")\n",
    "\n",
    "# Get systematic shifts of output\n",
    "o_up = u.GetDeltaSysSource(\"Up\", \"o_upshift\", \"+1#sigma\")\n",
    "o_dn = u.GetDeltaSysSource(\"Dn\", \"o_dnshift\", \"-1#sigma\")\n",
    "o_up.SetLineStyle(2)\n",
    "o_dn.SetLineStyle(2)"
   ]
  },
  {
   "cell_type": "code",
   "execution_count": null,
   "metadata": {},
   "outputs": [],
   "source": [
    "ROOT.gStyle.SetOptStat(\"\")\n",
    "\n",
    "# Get various covariances\n",
    "cov = u.GetEmatrixTotal(\"cov\", \"Covariance Matrix\")\n",
    "cov_uncorr = u.GetEmatrixSysUncorr(\"cov_uncorr\", \"Covariance Matrix from Uncorrelated Uncertainties\")\n",
    "cov_uncorr_data = u.GetEmatrixInput(\"cov_uncorr_data\", \"Covariance Matrix from Stat Uncertainties of Input Data\")\n",
    "\n",
    "# Now prepare various distributions. \n",
    "o_unfunc = o.Clone(\"o_unc\")        # Unfolding and stat unc\n",
    "o_sys = o.Clone(\"o_sys\")        # Syst uncertainty\n",
    "o_unctot = o.Clone(\"o_unctot\")  # Total uncertainty\n",
    "o_sys.SetLineStyle(2)\n",
    "\n",
    "# Create total uncertainty and sys uncertainty plots. \n",
    "# Also fix the uncertainties on the output\n",
    "for i in range( 0, o.GetNbinsX() + 1):\n",
    "    unc_tot = ROOT.TMath.Sqrt( cov.GetBinContent(i,i) )\n",
    "    o_unctot.SetBinContent(i, unc_tot )    \n",
    "    o.SetBinError(i, unc_tot )\n",
    "    \n",
    "    yup = abs( o_up.GetBinContent(i))\n",
    "    ydn = abs( o_dn.GetBinContent(i))\n",
    "    dy = ROOT.TMath.Sqrt( (yup**2 + ydn**2) )\n",
    "    o_sys.SetBinContent(i, dy )\n",
    "\n",
    "\n",
    "htrue2 = htrue.Clone(\"h2\")\n",
    "hdata2 = hdata.Clone(\"hdata2\")\n",
    "\n",
    "hdata2.Rebin(finebins//coarsebins)\n",
    "\n",
    "htrue2.Rebin(finebins//coarsebins)\n",
    "o.SetMarkerStyle(20)\n",
    "o.SetMarkerColor(1)\n",
    "o_unfunc.SetMarkerStyle(0)\n",
    "o_unfunc.SetLineColor(2)\n",
    "htrue2.SetMarkerStyle(21)\n",
    "htrue2.SetMarkerColor(4)\n",
    "htrue2.SetMarkerStyle(4)\n",
    "htrue2.SetLineColor(4)\n",
    "\n",
    "c = ROOT.TCanvas(\"c\",\"c\")\n",
    "#o.SetMinimum(0.0)\n",
    "#o.SetMaximum(0.40)\n",
    "\n",
    "o.DrawNormalized()\n",
    "#o_unfunc.DrawNormalized(\"e same\")\n",
    "htrue2.DrawNormalized(\"e same\")\n",
    "hdata2.SetMarkerColor(2)\n",
    "hdata2.SetLineColor(2)\n",
    "\n",
    "hdata2.DrawNormalized(\"e same\")\n",
    "leg2 = ROOT.TLegend(0.7, 0.7, 0.86, 0.86)\n",
    "leg2.SetBorderSize(0)\n",
    "leg2.SetFillColor(0)\n",
    "leg2.AddEntry( o, \"Unfolded, total unc\",'p')\n",
    "leg2.AddEntry(hdata, \"Reco\", 'p')\n",
    "#leg2.AddEntry( o_unfunc, \"stat+unfolding unc\",'l')\n",
    "leg2.AddEntry( htrue2, \"True\",'p')\n",
    "#o.SetMinimum(1)\n",
    "#c.SetLogy()\n",
    "#gStyle.SetOptStat(\"\")\n",
    "c.Draw()"
   ]
  },
  {
   "cell_type": "code",
   "execution_count": null,
   "metadata": {},
   "outputs": [],
   "source": [
    "ROOT.gStyle.SetOptStat(\"\")\n",
    "\n",
    "c2 = ROOT.TCanvas(\"c2\", \"c2\", 500, 500)\n",
    "closure = htrue2.Clone(\"closure\")\n",
    "closure2 = htrue2.Clone(\"closure2\")\n",
    "closure.SetMarkerColor(1)\n",
    "closure.SetLineColor(1)\n",
    "closure2.SetMarkerColor(2)\n",
    "closure2.SetLineColor(2)\n",
    "closure.SetTitle(\"true / unfolded\")\n",
    "closure.Divide(o)\n",
    "closure2.Divide(o_unfunc)\n",
    "closure.Draw('e1')\n",
    "closure2.Draw('e1 same')\n",
    "closure.SetMaximum(1.5)\n",
    "closure.SetMinimum(0.5)\n",
    "\n",
    "legclosure = ROOT.TLegend(0.4, 0.7, 0.86, 0.86)\n",
    "legclosure.SetBorderSize(0)\n",
    "legclosure.SetFillColor(0)\n",
    "legclosure.AddEntry( closure, \"True / Unfolded, All Unc.\", 'p')\n",
    "legclosure.AddEntry( closure2, \"True / Unfolded, Stat. Unc.\", 'p')\n",
    "legclosure.Draw()\n",
    "c2.Draw()"
   ]
  },
  {
   "cell_type": "code",
   "execution_count": null,
   "metadata": {},
   "outputs": [],
   "source": [
    "\n",
    "ccov = ROOT.TCanvas(\"ccov\", \"Covariance Matrix\", 400, 400)\n",
    "cov.Draw('colz')\n",
    "ccov.SetLogz()\n",
    "ccov.Draw()"
   ]
  }
 ],
 "metadata": {
  "kernelspec": {
   "display_name": "Python 3",
   "language": "python",
   "name": "python3"
  },
  "language_info": {
   "codemirror_mode": {
    "name": "ipython",
    "version": 3
   },
   "file_extension": ".py",
   "mimetype": "text/x-python",
   "name": "python",
   "nbconvert_exporter": "python",
   "pygments_lexer": "ipython3",
   "version": "3.7.8"
  }
 },
 "nbformat": 4,
 "nbformat_minor": 2
}
