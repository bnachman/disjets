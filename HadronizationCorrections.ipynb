{
 "cells": [
  {
   "cell_type": "code",
   "execution_count": 1,
   "metadata": {},
   "outputs": [],
   "source": [
    "import time\n",
    "import numpy as np\n",
    "import pandas as pd\n",
    "import matplotlib.pyplot as plt\n",
    "import matplotlib.ticker as mticker\n",
    "from matplotlib.colors import LogNorm\n",
    "from matplotlib import rc\n",
    "from numpy import inf\n",
    "\n",
    "import os\n",
    "\n",
    "rc('text', usetex=True)\n",
    "\n",
    "import matplotlib as mpl\n",
    "rc('font', family='serif')\n",
    "rc('text', usetex=True)\n",
    "rc('font', size=22)\n",
    "rc('xtick', labelsize=15)\n",
    "rc('ytick', labelsize=15)\n",
    "rc('legend', fontsize=15)\n",
    "\n",
    "#\n",
    "mpl.rcParams.update({'font.size': 19})\n",
    "#mpl.rcParams.update({'legend.fontsize': 18})\n",
    "mpl.rcParams.update({'xtick.labelsize': 18}) \n",
    "mpl.rcParams.update({'ytick.labelsize': 18}) \n",
    "mpl.rcParams.update({'text.usetex' : False})\n",
    "mpl.rcParams.update({'axes.labelsize': 18}) \n",
    "mpl.rcParams.update({'legend.frameon': False}) \n",
    "\n",
    "import matplotlib.pyplot as plt\n",
    "import mplhep as hep\n",
    "#hep.set_style(hep.style.CMS)\n",
    "hep.set_style(\"CMS\") \n"
   ]
  },
  {
   "cell_type": "code",
   "execution_count": 2,
   "metadata": {},
   "outputs": [
    {
     "name": "stdout",
     "output_type": "stream",
     "text": [
      "[12.33899634 18.11116979 26.58356175 39.01933247 57.27254762 84.06460345]\n"
     ]
    }
   ],
   "source": [
    "bins_pt = np.geomspace(10,100,7)\n",
    "binwidth_pt= (bins_pt[1:]-bins_pt[:-1])/2.0\n",
    "bins_pt = (bins_pt[1:]+bins_pt[:-1])/2.0\n",
    "\n",
    "print(bins_pt)"
   ]
  },
  {
   "cell_type": "code",
   "execution_count": 3,
   "metadata": {},
   "outputs": [
    {
     "name": "stdout",
     "output_type": "stream",
     "text": [
      "250473.0\n"
     ]
    }
   ],
   "source": [
    "rivet_pt = np.array([ 1.317540e+05 ,\n",
    "7.358000e+04, \n",
    "2.913000e+04 ,\n",
    "1.098800e+04 ,\n",
    "3.990000e+03 ,\n",
    "1.031000e+03 \n",
    "\n",
    " ])\n",
    "\n",
    "rivet_inclusive = sum(rivet_pt)\n",
    "print(rivet_inclusive)\n",
    "rivet_pt = np.divide(rivet_pt,rivet_inclusive)\n",
    "rivet_pt = np.divide(rivet_pt,binwidth_pt*2.0)\n"
   ]
  },
  {
   "cell_type": "code",
   "execution_count": 4,
   "metadata": {},
   "outputs": [
    {
     "name": "stdout",
     "output_type": "stream",
     "text": [
      "263064.0\n"
     ]
    }
   ],
   "source": [
    "rivet_pt_nohad= np.array([ 1.357160e+05 ,\n",
    "7.970300e+04 ,\n",
    "3.097000e+04 ,\n",
    "1.150100e+04 ,\n",
    "4.135000e+03 ,\n",
    "1.039000e+03 \n",
    "\n",
    "\n",
    "])\n",
    "rivet_inclusive_nohad = sum(rivet_pt_nohad)\n",
    "print(rivet_inclusive_nohad)\n",
    "rivet_pt_nohad = np.divide(rivet_pt_nohad,rivet_inclusive_nohad)\n",
    "rivet_pt_nohad = np.divide(rivet_pt_nohad,binwidth_pt*2.0)\n"
   ]
  },
  {
   "cell_type": "code",
   "execution_count": 5,
   "metadata": {},
   "outputs": [],
   "source": [
    "## Now standalone Pythia\n",
    "\n",
    "pythia_x = np.array([1.2115e+01,  \n",
    "  1.7783e+01  ,\n",
    "  2.6102e+01  ,\n",
    "  3.8312e+01 ,\n",
    "  5.6234e+01 ,\n",
    "  8.2540e+01 ])\n",
    "                     \n",
    "                     \n",
    "pythia_y = np.array([5.3527e-01,\n",
    "  2.8762e-01,\n",
    "  1.1461e-01,\n",
    "  4.2874e-02,\n",
    "  1.5303e-02,\n",
    "  4.0776e-03])\n",
    "\n",
    "\n",
    "pythia_y =  np.divide(pythia_y,binwidth_pt*2.0)\n"
   ]
  },
  {
   "cell_type": "markdown",
   "metadata": {},
   "source": [
    "## jet transverse momentum"
   ]
  },
  {
   "cell_type": "code",
   "execution_count": 6,
   "metadata": {},
   "outputs": [
    {
     "name": "stderr",
     "output_type": "stream",
     "text": [
      "findfont: Font family ['cursive'] not found. Falling back to DejaVu Sans.\n"
     ]
    },
    {
     "data": {
      "image/png": "[encoded data removed]",
      "text/plain": [
       "<Figure size 648x504 with 1 Axes>"
      ]
     },
     "metadata": {
      "needs_background": "light"
     },
     "output_type": "display_data"
    },
    {
     "name": "stderr",
     "output_type": "stream",
     "text": [
      "'texgyreheros-regular.otf' can not be subsetted into a Type 3 font. The entire font will be embedded in the output.\n"
     ]
    }
   ],
   "source": [
    "fig,ax = plt.subplots(1,1,figsize=(9,7))\n",
    "\n",
    "#ax[0].errorbar(bins_pt,rivet_pt,xerr=binwidth_pt,fmt='o',label='Pythia 8.3',alpha=0.7)\n",
    "#ax[0].errorbar(bins_pt,rivet_pt_nohad,xerr=binwidth_pt,fmt='o',label='Pythia 8.3 HAD OFF',alpha=0.7)\n",
    "#ax[0].set_yscale('log')\n",
    "#ax[0].set_xlabel('$p_{T}^{jet}$ [GeV]')\n",
    "#ax[0].set_ylabel(r'$1/\\sigma_{jet}$ $d\\sigma/dp_{T}^{jet}$')\n",
    "#ax[0].legend()\n",
    "ratio_pt = np.divide(rivet_pt_nohad,rivet_pt)\n",
    "ax.errorbar(bins_pt,ratio_pt,xerr=binwidth_pt,color='black',fmt='o')\n",
    "ax.set_ylabel('Hadronization corr.')\n",
    "ax.set_ylim([0.75,1.25])\n",
    "ax.set_xlabel('$p_{T}^{jet}$ [GeV]')\n",
    "\n",
    "\n",
    "plt.show()\n",
    "fig.savefig('figures/HadronizationCorrection_jetpt.png')\n",
    "fig.savefig('figures/HadronizationCorrection_jetpt.pdf')\n"
   ]
  },
  {
   "cell_type": "markdown",
   "metadata": {},
   "source": [
    "## qT"
   ]
  },
  {
   "cell_type": "code",
   "execution_count": 7,
   "metadata": {},
   "outputs": [
    {
     "name": "stdout",
     "output_type": "stream",
     "text": [
      "[0.03255231 0.10221884 0.20541467 0.38915407 0.71630072 1.2987829\n",
      " 2.33588812]\n"
     ]
    }
   ],
   "source": [
    "bins_qt = np.logspace(np.log10(0.03),np.log10(3.03),9) - 0.03\n",
    "bins_qt = bins_qt[1:]\n",
    "bins_qt[0]=0.0\n",
    "binwidth_qt= (bins_qt[1:]-bins_qt[:-1])/2.0\n",
    "bins_qt = (bins_qt[1:]+bins_qt[:-1])/2.0\n",
    "\n",
    "print(bins_qt)"
   ]
  },
  {
   "cell_type": "code",
   "execution_count": 8,
   "metadata": {},
   "outputs": [
    {
     "name": "stdout",
     "output_type": "stream",
     "text": [
      "250449.0\n"
     ]
    }
   ],
   "source": [
    "rivet_qt = np.array([5.756200e+04,\n",
    "6.947600e+04,\n",
    "5.501200e+04,\n",
    "3.617400e+04,\n",
    "2.029200e+04,\n",
    "1.013300e+04,\n",
    "1.800000e+03\n",
    "\n",
    "\n",
    "])\n",
    "\n",
    "\n",
    "print(sum(rivet_qt))\n",
    "rivet_qt = np.divide(rivet_qt,rivet_inclusive)\n",
    "rivet_qt = np.divide(rivet_qt,binwidth_qt*2.0)\n"
   ]
  },
  {
   "cell_type": "code",
   "execution_count": 9,
   "metadata": {},
   "outputs": [
    {
     "name": "stdout",
     "output_type": "stream",
     "text": [
      "263090.0\n"
     ]
    }
   ],
   "source": [
    "rivet_qt_nohad  = np.array([5.996200e+04 ,\n",
    "6.992400e+04 ,\n",
    "5.710600e+04 ,\n",
    "3.976100e+04 ,\n",
    "2.293900e+04 ,\n",
    "1.133100e+04 ,\n",
    "2.067000e+03 \n",
    "\n",
    "\n",
    "])\n",
    "\n",
    "print(sum(rivet_qt_nohad))\n",
    "rivet_qt_nohad = np.divide(rivet_qt_nohad,rivet_inclusive_nohad)\n",
    "rivet_qt_nohad = np.divide(rivet_qt_nohad,binwidth_qt*2.0)\n"
   ]
  },
  {
   "cell_type": "code",
   "execution_count": 10,
   "metadata": {},
   "outputs": [
    {
     "name": "stderr",
     "output_type": "stream",
     "text": [
      "'texgyreheros-regular.otf' can not be subsetted into a Type 3 font. The entire font will be embedded in the output.\n"
     ]
    },
    {
     "data": {
      "image/png": "[encoded data removed]",
      "text/plain": [
       "<Figure size 648x504 with 1 Axes>"
      ]
     },
     "metadata": {
      "needs_background": "light"
     },
     "output_type": "display_data"
    }
   ],
   "source": [
    "fig,ax = plt.subplots(1,1,figsize=(9,7))\n",
    "\n",
    "#ax[0].errorbar(bins_qt,rivet_qt,xerr=binwidth_qt,fmt='o',label='Pythia 8.3',alpha=0.7)\n",
    "#ax[0].errorbar(bins_qt,rivet_qt_nohad,xerr=binwidth_qt,fmt='o',label='Pythia 8.3 HAD OFF',alpha=0.7)\n",
    "#ax[0].set_yscale('log')\n",
    "#ax[0].set_xlabel('$q_{T}/Q$')\n",
    "#ax[0].set_ylabel(r'$1/\\sigma_{jet}$ $d\\sigma/dq_{T}/Q$')\n",
    "#ax[0].legend()\n",
    "\n",
    "ratio_qt = np.divide(rivet_qt_nohad,rivet_qt)\n",
    "ax.errorbar(bins_qt,ratio_qt,xerr=binwidth_qt,color='black',fmt='o')\n",
    "ax.set_ylabel('Hadronization corr.')\n",
    "ax.set_ylim([0.75,1.25])\n",
    "ax.set_xlabel('$q_{T}/Q$')\n",
    "ax.set_xscale('log')\n",
    "ax.set_xscale('log')\n",
    "fig.savefig('figures/HadronizationCorrection_jetqt.png')\n",
    "fig.savefig('figures/HadronizationCorrection_jetqt.pdf')\n"
   ]
  },
  {
   "cell_type": "markdown",
   "metadata": {},
   "source": [
    "## eta"
   ]
  },
  {
   "cell_type": "code",
   "execution_count": 11,
   "metadata": {},
   "outputs": [
    {
     "name": "stdout",
     "output_type": "stream",
     "text": [
      "[-0.65  0.05  0.75  1.45  2.15]\n"
     ]
    }
   ],
   "source": [
    "bins_eta = np.linspace(-1.0,2.5,6)\n",
    "binwidth_eta= (bins_eta[1:]-bins_eta[:-1])/2.0\n",
    "bins_eta = (bins_eta[1:]+bins_eta[:-1])/2.0\n",
    "\n",
    "print(bins_eta)"
   ]
  },
  {
   "cell_type": "code",
   "execution_count": 12,
   "metadata": {},
   "outputs": [
    {
     "name": "stdout",
     "output_type": "stream",
     "text": [
      "250525.0\n"
     ]
    }
   ],
   "source": [
    "rivet_eta = np.array([6.328700e+04,\n",
    "1.097340e+05,\n",
    "5.464600e+04,\n",
    "1.702400e+04,\n",
    "5.834000e+03\n",
    "\n",
    "\n",
    " ])\n",
    "\n",
    "\n",
    "\n",
    "print(sum(rivet_eta))\n",
    "rivet_eta = np.divide(rivet_eta,rivet_inclusive)\n",
    "rivet_eta = np.divide(rivet_eta,binwidth_eta*2.0)\n"
   ]
  },
  {
   "cell_type": "code",
   "execution_count": 13,
   "metadata": {},
   "outputs": [
    {
     "name": "stdout",
     "output_type": "stream",
     "text": [
      "263170.0\n"
     ]
    }
   ],
   "source": [
    "rivet_eta_nohad = np.array([7.538100e+04 ,\n",
    "1.144220e+05 ,\n",
    "5.119200e+04 ,\n",
    "1.653600e+04 ,\n",
    "5.639000e+03 \n",
    "\n",
    "\n",
    " ])\n",
    "\n",
    "\n",
    "\n",
    "print(sum(rivet_eta_nohad))\n",
    "rivet_eta_nohad = np.divide(rivet_eta_nohad,rivet_inclusive_nohad)\n",
    "rivet_eta_nohad = np.divide(rivet_eta_nohad,binwidth_eta*2.0)\n"
   ]
  },
  {
   "cell_type": "code",
   "execution_count": 14,
   "metadata": {},
   "outputs": [
    {
     "name": "stderr",
     "output_type": "stream",
     "text": [
      "'texgyreheros-regular.otf' can not be subsetted into a Type 3 font. The entire font will be embedded in the output.\n"
     ]
    },
    {
     "data": {
      "image/png": "[encoded data removed]",
      "text/plain": [
       "<Figure size 648x504 with 1 Axes>"
      ]
     },
     "metadata": {
      "needs_background": "light"
     },
     "output_type": "display_data"
    }
   ],
   "source": [
    "fig,ax = plt.subplots(1,1,figsize=(9,7))\n",
    "\n",
    "#ax[0].errorbar(bins_eta,rivet_eta,xerr=binwidth_eta,fmt='o',label='Pythia 8.3',alpha=0.7)\n",
    "#ax[0].errorbar(bins_eta,rivet_eta_nohad,xerr=binwidth_eta,fmt='o',label='Pythia 8.3 HAD OFF',alpha=0.7)\n",
    "#ax[0].set_yscale('log')\n",
    "#ax[0].set_xlabel('$\\eta$')\n",
    "#ax[0].set_ylabel(r'$1/\\sigma_{jet}$ $d\\sigma/d\\eta$')\n",
    "#ax[0].legend()\n",
    "\n",
    "ratio_eta = np.divide(rivet_eta_nohad,rivet_eta)\n",
    "ax.errorbar(bins_eta,ratio_eta,xerr=binwidth_eta,color='black',fmt='o')\n",
    "ax.set_ylabel('Hadronization corr.')\n",
    "ax.set_ylim([0.75,1.25])\n",
    "ax.set_xlabel('$\\eta$')\n",
    "#ax[1].set_xscale('log')\n",
    "#ax[0].set_xscale('log')\n",
    "fig.savefig('figures/HadronizationCorrection_jeteta.png')\n",
    "fig.savefig('figures/HadronizationCorrection_jeteta.pdf')\n"
   ]
  },
  {
   "cell_type": "code",
   "execution_count": 15,
   "metadata": {
    "scrolled": true
   },
   "outputs": [
    {
     "name": "stdout",
     "output_type": "stream",
     "text": [
      "[-0.65  0.05  0.75  1.45  2.15]\n",
      "243432.0\n"
     ]
    }
   ],
   "source": [
    "\n",
    "bins_dphi = np.logspace(np.log10(0.03),np.log10(np.pi/2.0),9) - 0.03\n",
    "bins_dphi = bins_dphi[1:]\n",
    "bins_dphi[0] = 0.0\n",
    "\n",
    "binwidth_dphi= (bins_dphi[1:]-bins_dphi[:-1])/2.0\n",
    "bins_dphi = (bins_dphi[1:]+bins_dphi[:-1])/2.0\n",
    "\n",
    "print(bins_eta)\n",
    "\n",
    "\n",
    "rivet_dphi = np.array([7.366900e+04,\n",
    "4.897900e+04,\n",
    "4.368600e+04,\n",
    "3.135800e+04,\n",
    "2.243800e+04,\n",
    "1.456500e+04,\n",
    "8.737000e+03\n",
    "\n",
    "\n",
    " ])\n",
    "\n",
    "\n",
    "\n",
    "print(sum(rivet_dphi))\n",
    "rivet_dphi = np.divide(rivet_dphi,rivet_inclusive)\n",
    "rivet_dphi = np.divide(rivet_dphi,binwidth_dphi*2.0)\n",
    "\n",
    "\n",
    "\n"
   ]
  },
  {
   "cell_type": "code",
   "execution_count": 16,
   "metadata": {},
   "outputs": [
    {
     "name": "stdout",
     "output_type": "stream",
     "text": [
      "255109.0\n"
     ]
    }
   ],
   "source": [
    "\n",
    "rivet_dphi_nohad = np.array([7.570900e+04,\n",
    "5.006000e+04,\n",
    "4.475900e+04,\n",
    "3.361100e+04,\n",
    "2.481900e+04,\n",
    "1.643000e+04,\n",
    "9.721000e+03\n",
    "])\n",
    "print(sum(rivet_dphi_nohad))\n",
    "rivet_dphi_nohad = np.divide(rivet_dphi_nohad,rivet_inclusive_nohad)\n",
    "rivet_dphi_nohad = np.divide(rivet_dphi_nohad,binwidth_dphi*2.0)\n",
    "\n"
   ]
  },
  {
   "cell_type": "code",
   "execution_count": 17,
   "metadata": {},
   "outputs": [
    {
     "name": "stderr",
     "output_type": "stream",
     "text": [
      "'texgyreheros-regular.otf' can not be subsetted into a Type 3 font. The entire font will be embedded in the output.\n"
     ]
    },
    {
     "data": {
      "image/png": "[encoded data removed]",
      "text/plain": [
       "<Figure size 648x504 with 1 Axes>"
      ]
     },
     "metadata": {
      "needs_background": "light"
     },
     "output_type": "display_data"
    }
   ],
   "source": [
    "fig,ax = plt.subplots(1,1,figsize=(9,7))\n",
    "\n",
    "#ax[0].errorbar(bins_dphi,rivet_dphi,xerr=binwidth_dphi,fmt='o',label='Pythia 8.3',alpha=0.7)\n",
    "#ax[0].errorbar(bins_dphi,rivet_dphi_nohad,xerr=binwidth_dphi,fmt='o',label='Pythia 8.3 HAD OFF',alpha=0.7)\n",
    "#ax[0].set_yscale('log')\n",
    "#ax[0].set_xlabel('$\\Delta\\phi$')\n",
    "#ax[0].set_ylabel(r'$1/\\sigma_{jet}$ $d\\sigma/d\\Delta\\phi$')\n",
    "#ax[0].legend()\n",
    "\n",
    "ratio_dphi = np.divide(rivet_dphi_nohad,rivet_dphi)\n",
    "ax.errorbar(bins_dphi,ratio_dphi,xerr=binwidth_dphi,color='black',fmt='o')\n",
    "ax.set_ylabel('HAD OFF / HAD ON')\n",
    "ax.set_ylim([0.75,1.25])\n",
    "ax.set_xlabel('$\\Delta\\phi$')\n",
    "#ax[1].set_xscale('log')\n",
    "#ax[0].set_xscale('log')\n",
    "fig.savefig('figures/HadronizationCorrection_jetdphi.png')\n",
    "fig.savefig('figures/HadronizationCorrection_jetdphi.pdf')\n"
   ]
  },
  {
   "cell_type": "code",
   "execution_count": 18,
   "metadata": {},
   "outputs": [
    {
     "name": "stdout",
     "output_type": "stream",
     "text": [
      "[0.98076902 1.03136973 1.01227898 0.99658983 0.9867386  0.95952519]\n",
      "[1.13408833 0.99281384 0.89195556 0.92484372 0.92031218]\n",
      "[0.99183569 0.95827676 0.98837967 1.04655068 1.07633912 1.06470598\n",
      " 1.0933708 ]\n",
      "[0.97850316 0.97315144 0.97552318 1.02054598 1.0531728  1.07405513\n",
      " 1.05937106]\n"
     ]
    }
   ],
   "source": [
    "print(ratio_pt)\n",
    "print(ratio_eta)\n",
    "print(ratio_qt)\n",
    "print(ratio_dphi)\n",
    "with open('outputfiles/HadronizationCorrections.npy', 'wb') as f:\n",
    "    np.save(f, ratio_pt)\n",
    "    np.save(f, ratio_eta)\n",
    "    np.save(f, ratio_qt)\n",
    "    np.save(f, ratio_dphi)"
   ]
  },
  {
   "cell_type": "code",
   "execution_count": 19,
   "metadata": {},
   "outputs": [
    {
     "name": "stdout",
     "output_type": "stream",
     "text": [
      "[0.98076902 1.03136973 1.01227898 0.99658983 0.9867386  0.95952519]\n",
      "[1.13408833 0.99281384 0.89195556 0.92484372 0.92031218]\n",
      "[0.99183569 0.95827676 0.98837967 1.04655068 1.07633912 1.06470598\n",
      " 1.0933708 ]\n",
      "[0.97850316 0.97315144 0.97552318 1.02054598 1.0531728  1.07405513\n",
      " 1.05937106]\n"
     ]
    }
   ],
   "source": [
    "with open('outputfiles/HadronizationCorrections.npy','rb') as f:\n",
    "    x = np.load(f)\n",
    "    y= np.load(f)\n",
    "    w = np.load(f)\n",
    "    z = np.load(f)\n",
    "print (x)\n",
    "print(y)\n",
    "print(w)\n",
    "print(z)"
   ]
  },
  {
   "cell_type": "code",
   "execution_count": 20,
   "metadata": {},
   "outputs": [
    {
     "name": "stdout",
     "output_type": "stream",
     "text": [
      "[0.11244583 0.04278314 0.01153949 0.0029655  0.00073364 0.00012915]\n",
      "[3.52990627 3.7368314  1.66182757 0.61374065 0.19336285 0.05423081\n",
      " 0.00541054]\n",
      "[5.80122988 3.78546061 2.05862039 0.90096416 0.39306871 0.1555679\n",
      " 0.056898  ]\n",
      "[0.36095707 0.62586729 0.31167317 0.09709629 0.03327419]\n"
     ]
    }
   ],
   "source": [
    "print(rivet_pt)\n",
    "with open('outputfiles/Rivet_jetpt.npy', 'wb') as f:\n",
    "    np.save(f, rivet_pt)\n",
    "\n",
    "print(rivet_qt)\n",
    "with open('outputfiles/Rivet_qt.npy', 'wb') as f:\n",
    "    np.save(f, rivet_qt)\n",
    "\n",
    "print(rivet_dphi)\n",
    "with open('outputfiles/Rivet_dphi.npy', 'wb') as f:\n",
    "    np.save(f, rivet_dphi)\n",
    "    \n",
    "print(rivet_eta)\n",
    "with open('outputfiles/Rivet_jeteta.npy', 'wb') as f:\n",
    "    np.save(f, rivet_eta)"
   ]
  },
  {
   "cell_type": "code",
   "execution_count": 21,
   "metadata": {},
   "outputs": [],
   "source": [
    "\n",
    "sherpa_pt = np.array([1.096672e+07,\n",
    "3.663350e+06,\n",
    "7.744270e+05,\n",
    "1.846414e+05,\n",
    "3.798783e+04,\n",
    "8.229815e+03])\n",
    "\n",
    "\n",
    "\n",
    "\n",
    "\n",
    "\n",
    "sherpa_eta = np.array([3.054459e+07,\n",
    "4.094090e+07,\n",
    "2.349797e+07,\n",
    "1.414355e+06,\n",
    "0.000000e+00,\n",
    "])\n",
    "\n",
    "\n",
    "\n",
    "sherpa_qt = np.array([3.175639e+08,\n",
    "2.290067e+08,\n",
    "1.016503e+08,\n",
    "3.950074e+07,\n",
    "1.275374e+07,\n",
    "2.115423e+06,\n",
    "1.154842e+05\n",
    " ])\n",
    "\n",
    "sherpa_dphi = np.array([4.667303e+08 ,\n",
    "2.447153e+08 ,\n",
    "1.187852e+08 ,\n",
    "6.155782e+07 ,\n",
    "2.440302e+07 ,\n",
    "1.065274e+07 ,\n",
    "3.502846e+06 \n",
    "                      ])\n",
    "\n",
    "sherpa_inclusive = np.sum(sherpa_pt)\n",
    "sherpa_qt = np.divide(sherpa_qt,sherpa_inclusive)\n",
    "sherpa_qt = np.divide(sherpa_qt,binwidth_qt*2.0)\n",
    "\n",
    "sherpa_pt = np.divide(sherpa_pt,sherpa_inclusive)\n",
    "sherpa_pt = np.divide(sherpa_pt,binwidth_pt*2.0)\n",
    "\n",
    "sherpa_eta = np.divide(sherpa_eta,sherpa_inclusive)\n",
    "sherpa_eta = np.divide(sherpa_eta,binwidth_eta*2.0)\n",
    "\n",
    "sherpa_dphi = np.divide(sherpa_dphi,sherpa_inclusive)\n",
    "sherpa_dphi = np.divide(sherpa_dphi,binwidth_dphi*2.0)\n",
    "\n"
   ]
  },
  {
   "cell_type": "code",
   "execution_count": 22,
   "metadata": {},
   "outputs": [
    {
     "data": {
      "image/png": "[encoded data removed]",
      "text/plain": [
       "<Figure size 720x720 with 1 Axes>"
      ]
     },
     "metadata": {
      "needs_background": "light"
     },
     "output_type": "display_data"
    }
   ],
   "source": [
    "plt.errorbar(bins_qt,sherpa_qt,fmt='o',label='Sherpa')\n",
    "plt.errorbar(bins_qt,rivet_qt,fmt='o', label='Rivet')\n",
    "plt.legend()\n",
    "plt.yscale('log')"
   ]
  },
  {
   "cell_type": "code",
   "execution_count": 23,
   "metadata": {},
   "outputs": [
    {
     "data": {
      "image/png": "[encoded data removed]",
      "text/plain": [
       "<Figure size 720x720 with 1 Axes>"
      ]
     },
     "metadata": {
      "needs_background": "light"
     },
     "output_type": "display_data"
    }
   ],
   "source": [
    "plt.errorbar(bins_pt,sherpa_pt,fmt='o',label='Sherpa')\n",
    "plt.errorbar(bins_pt,rivet_pt,fmt='o', label='Rivet')\n",
    "plt.legend()\n",
    "plt.yscale('log')"
   ]
  },
  {
   "cell_type": "code",
   "execution_count": 24,
   "metadata": {},
   "outputs": [
    {
     "data": {
      "text/plain": [
       "<matplotlib.legend.Legend at 0x7f2e09527550>"
      ]
     },
     "execution_count": 24,
     "metadata": {},
     "output_type": "execute_result"
    },
    {
     "data": {
      "image/png": "[encoded data removed]",
      "text/plain": [
       "<Figure size 720x720 with 1 Axes>"
      ]
     },
     "metadata": {
      "needs_background": "light"
     },
     "output_type": "display_data"
    }
   ],
   "source": [
    "plt.errorbar(bins_eta,sherpa_eta,fmt='o',label='Sherpa')\n",
    "plt.errorbar(bins_eta,rivet_eta,fmt='o', label='Rivet')\n",
    "plt.legend()"
   ]
  },
  {
   "cell_type": "code",
   "execution_count": 25,
   "metadata": {},
   "outputs": [
    {
     "data": {
      "text/plain": [
       "<matplotlib.legend.Legend at 0x7f2e065f4e20>"
      ]
     },
     "execution_count": 25,
     "metadata": {},
     "output_type": "execute_result"
    },
    {
     "data": {
      "image/png": "[encoded data removed]",
      "text/plain": [
       "<Figure size 720x720 with 1 Axes>"
      ]
     },
     "metadata": {
      "needs_background": "light"
     },
     "output_type": "display_data"
    }
   ],
   "source": [
    "plt.errorbar(bins_dphi,sherpa_dphi,fmt='o',label='Sherpa')\n",
    "plt.errorbar(bins_dphi,rivet_dphi,fmt='o', label='Rivet')\n",
    "plt.legend()"
   ]
  },
  {
   "cell_type": "code",
   "execution_count": 26,
   "metadata": {},
   "outputs": [],
   "source": [
    "with open('outputfiles/Sherpa.npy', 'wb') as f:\n",
    "    np.save(f, sherpa_pt)\n",
    "    np.save(f, sherpa_eta)\n",
    "    np.save(f, sherpa_qt)\n",
    "    np.save(f, sherpa_dphi)"
   ]
  },
  {
   "cell_type": "code",
   "execution_count": 45,
   "metadata": {},
   "outputs": [],
   "source": [
    "katie_pt = np.array([1.929584e+04, \n",
    " 1.067586e+04 ,\n",
    " 4.215051e+03 ,\n",
    " 1.669669e+03 ,\n",
    " 4.936269e+02 ,\n",
    " 8.501038e+01 ])\n",
    "\n",
    "\n",
    "\n",
    "katie_eta = np.array([ 1.065820e+04,\n",
    " 1.574451e+04,\n",
    " 7.127737e+03,\n",
    " 2.247577e+03,\n",
    " 6.609413e+02\n",
    "                     ])\n",
    "\n",
    "\n",
    "katie_qt = np.array([9.767400e+03, \n",
    "9.152785e+03 ,\n",
    "7.937754e+03 ,\n",
    "5.070557e+03 ,\n",
    "2.441479e+03 ,\n",
    "1.374250e+03 ,\n",
    "5.931184e+02 \n",
    "])\n",
    "\n",
    "katie_dphi = np.array([\n",
    "    1.184673e+04,\n",
    "    6.802665e+03,\n",
    "    5.985532e+03,\n",
    "    4.660614e+03,\n",
    "    3.188430e+03,\n",
    "    1.815965e+03,\n",
    "    1.017149e+03\n",
    "])"
   ]
  },
  {
   "cell_type": "code",
   "execution_count": 46,
   "metadata": {},
   "outputs": [],
   "source": [
    "\n",
    "katie_inclusive = np.sum(katie_pt)\n",
    "katie_qt = np.divide(katie_qt,katie_inclusive)\n",
    "katie_qt = np.divide(katie_qt,binwidth_qt*2.0)\n",
    "\n",
    "katie_dphi = np.divide(katie_dphi,katie_inclusive)\n",
    "katie_dphi = np.divide(katie_dphi,binwidth_dphi*2.0)\n",
    "\n",
    "katie_pt = np.divide(katie_pt,katie_inclusive)\n",
    "katie_pt = np.divide(katie_pt,binwidth_pt*2.0)\n",
    "\n",
    "katie_eta = np.divide(katie_eta,katie_inclusive)\n",
    "katie_eta = np.divide(katie_eta,binwidth_eta*2.0)"
   ]
  },
  {
   "cell_type": "code",
   "execution_count": 49,
   "metadata": {},
   "outputs": [],
   "source": [
    "katie2_dphi = np.array([7.455975e+03,\n",
    "4.841805e+03,\n",
    "4.763091e+03,\n",
    "3.662802e+03,\n",
    "2.506890e+03,\n",
    "1.446853e+03,\n",
    "7.219262e+02])\n",
    "\n",
    "katie2_eta = np.array([7.539463e+03,\n",
    "1.144946e+04,\n",
    "5.146973e+03,\n",
    "1.580512e+03,\n",
    "4.891418e+02])\n",
    "\n",
    "katie2_pt = np.array([1.368936e+04, \n",
    "7.786074e+03 ,\n",
    "3.142440e+03 ,\n",
    "1.195772e+03 ,\n",
    "3.231479e+02 ,\n",
    "6.875488e+01 ])\n",
    "\n",
    "katie2_qt = np.array([5.689957e+03, \n",
    "6.820484e+03 ,\n",
    "6.240978e+03 ,\n",
    "4.122601e+03 ,\n",
    "1.818129e+03 ,\n",
    "1.018098e+03 ,\n",
    "4.285139e+02 \n",
    "])\n",
    "\n",
    "\n",
    "\n",
    "katie2_inclusive = np.sum(katie2_pt)\n",
    "katie2_qt = np.divide(katie2_qt,katie2_inclusive)\n",
    "katie2_qt = np.divide(katie2_qt,binwidth_qt*2.0)\n",
    "\n",
    "katie2_dphi = np.divide(katie2_dphi,katie2_inclusive)\n",
    "katie2_dphi = np.divide(katie2_dphi,binwidth_dphi*2.0)\n",
    "\n",
    "katie2_pt = np.divide(katie2_pt,katie2_inclusive)\n",
    "katie2_pt = np.divide(katie2_pt,binwidth_pt*2.0)\n",
    "\n",
    "katie2_eta = np.divide(katie2_eta,katie2_inclusive)\n",
    "katie2_eta = np.divide(katie2_eta,binwidth_eta*2.0)\n"
   ]
  },
  {
   "cell_type": "code",
   "execution_count": 51,
   "metadata": {},
   "outputs": [
    {
     "data": {
      "text/plain": [
       "<matplotlib.legend.Legend at 0x7f2e0699b6d0>"
      ]
     },
     "execution_count": 51,
     "metadata": {},
     "output_type": "execute_result"
    },
    {
     "data": {
      "image/png": "[encoded data removed]",
      "text/plain": [
       "<Figure size 720x720 with 1 Axes>"
      ]
     },
     "metadata": {
      "needs_background": "light"
     },
     "output_type": "display_data"
    }
   ],
   "source": [
    "plt.errorbar(bins_qt,rivet_qt,fmt='o',label='rivet')\n",
    "plt.errorbar(bins_qt,katie_qt,fmt='o',label='katie')\n",
    "plt.errorbar(bins_qt,katie2_qt,fmt='o',label='katie')\n",
    "plt.yscale('log')\n",
    "plt.legend()\n"
   ]
  },
  {
   "cell_type": "code",
   "execution_count": 48,
   "metadata": {},
   "outputs": [],
   "source": [
    "with open('outputfiles/Katie.npy', 'wb') as f:\n",
    "    np.save(f, katie_pt)\n",
    "    np.save(f, katie_eta)\n",
    "    np.save(f, katie_qt)\n",
    "    np.save(f, katie_dphi)"
   ]
  },
  {
   "cell_type": "code",
   "execution_count": 52,
   "metadata": {},
   "outputs": [],
   "source": [
    "with open('outputfiles/Katie2.npy', 'wb') as f:\n",
    "    np.save(f, katie2_pt)\n",
    "    np.save(f, katie2_eta)\n",
    "    np.save(f, katie2_qt)\n",
    "    np.save(f, katie2_dphi)"
   ]
  },
  {
   "cell_type": "code",
   "execution_count": null,
   "metadata": {},
   "outputs": [],
   "source": []
  }
 ],
 "metadata": {
  "kernelspec": {
   "display_name": "Python 3",
   "language": "python",
   "name": "python3"
  },
  "language_info": {
   "codemirror_mode": {
    "name": "ipython",
    "version": 3
   },
   "file_extension": ".py",
   "mimetype": "text/x-python",
   "name": "python",
   "nbconvert_exporter": "python",
   "pygments_lexer": "ipython3",
   "version": "3.8.5"
  }
 },
 "nbformat": 4,
 "nbformat_minor": 4
}
