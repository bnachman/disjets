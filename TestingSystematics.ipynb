{
 "cells": [
  {
   "cell_type": "code",
   "execution_count": null,
   "metadata": {},
   "outputs": [],
   "source": [
    "import time\n",
    "import numpy as np\n",
    "import pandas as pd\n",
    "import matplotlib.pyplot as plt\n",
    "import matplotlib.ticker as mticker\n",
    "from matplotlib.colors import LogNorm\n",
    "from matplotlib import rc\n",
    "from numpy import inf\n",
    "import os\n",
    "\n",
    "from os import listdir\n",
    "\n",
    "\n",
    "import uproot3\n",
    "\n",
    "\n",
    "rc('text', usetex=True)\n",
    "\n",
    "import matplotlib as mpl\n",
    "rc('font', family='serif')\n",
    "rc('text', usetex=True)\n",
    "rc('font', size=22)\n",
    "rc('xtick', labelsize=15)\n",
    "rc('ytick', labelsize=15)\n",
    "rc('legend', fontsize=15)\n",
    "\n",
    "#\n",
    "mpl.rcParams.update({'font.size': 19})\n",
    "#mpl.rcParams.update({'legend.fontsize': 18})\n",
    "mpl.rcParams.update({'xtick.labelsize': 18}) \n",
    "mpl.rcParams.update({'ytick.labelsize': 18}) \n",
    "mpl.rcParams.update({'text.usetex' : False})\n",
    "mpl.rcParams.update({'axes.labelsize': 18}) \n",
    "mpl.rcParams.update({'legend.frameon': False}) \n",
    "\n",
    "#import mplhep as hep\n",
    "#hep.set_style(hep.style.ROOT)"
   ]
  },
  {
   "cell_type": "code",
   "execution_count": null,
   "metadata": {},
   "outputs": [],
   "source": [
    "# Define default plot styles\n",
    "plot_style_0 = {\n",
    "    'histtype': 'step',\n",
    "    'color': 'black',\n",
    "    'linewidth': 2,\n",
    "    'linestyle': '--',\n",
    "    'density': True\n",
    "}\n",
    "\n",
    "plot_style_1 = {\n",
    "    'histtype': 'step',\n",
    "    'color': 'black',\n",
    "    'linewidth': 2,\n",
    "    'density': True\n",
    "}\n",
    "\n",
    "plot_style_2 = {'alpha': 0.5, 'density': True}\n",
    "\n",
    "plot_style_1A = {\n",
    "    'histtype': 'step',\n",
    "    'color': 'black',\n",
    "    'linewidth': 2,\n",
    "    'density': False\n",
    "}\n",
    "\n",
    "plot_style_2A = {'alpha': 0.5, 'density': False}\n"
   ]
  },
  {
   "cell_type": "code",
   "execution_count": null,
   "metadata": {},
   "outputs": [],
   "source": [
    "def get_Dataframe(path, name='Data', tag='nom'):\n",
    "    Files = listdir(path) \n",
    "    #print (Files)\n",
    "    df = None\n",
    "    for i, f in enumerate(Files):\n",
    "   \n",
    "        if name not in f: continue\n",
    "        if tag not in f: continue\n",
    "        filename = path+f\n",
    "        print ('filename is' , filename)\n",
    "        \n",
    "        temp_file = uproot3.open(filename)\n",
    "        \n",
    "        hasTree = False \n",
    "        for key in temp_file[name].keys():\n",
    "            if('minitree' in str(key)):\n",
    "                hasTree=True\n",
    "        if (not hasTree):\n",
    "            print('file has not minitree, skipping')\n",
    "            continue\n",
    "\n",
    "        temp_tree = temp_file[name+'/minitree']\n",
    "\n",
    "        \n",
    "        temp_df = None\n",
    "        \n",
    "        if 'Data' not in name:\n",
    "            try:\n",
    "                temp_df   =  temp_tree.pandas.df([\"jet*\", \"genjet*\",\"Q2\",\"gen_Q2\",\"y\",'gen_y',\"e_*\",\"gene*\",\"tau*\",\"gen_tau*\"], entrystop=3e6,flatten=True)\n",
    "                df = pd.concat([df,temp_df])\n",
    "            except ValueError:\n",
    "                print ('oops, there is a problem in flattening the TTree ')\n",
    "        else:\n",
    "            try:\n",
    "                temp_df   =  temp_tree.pandas.df([\"jet*\",\"Q2\",\"y\",\"e_*\",\"tau*\"], entrystop=3e6,flatten=True) \n",
    "                df = pd.concat([df,temp_df])\n",
    "            except ValueError:\n",
    "                print ('oops, there is a problem in flattening the TTree ')\n",
    "        \n",
    "        #try:\n",
    "        #    df.shape[0]\n",
    "        #except ValueError:\n",
    "        #    print('no valid dataframe')\n",
    "    print('####################################################################')\n",
    "    print('Dataframe has a total of ', df.shape[0], ' entries')\n",
    "    print('####################################################################')\n",
    "\n",
    "    return df"
   ]
  },
  {
   "cell_type": "code",
   "execution_count": null,
   "metadata": {},
   "outputs": [],
   "source": [
    "def applyCut(inputDataframe, cut, text=None):\n",
    "    dataframe = inputDataframe\n",
    "    nbeforecut = dataframe.shape[0]\n",
    "    cutDataframe = dataframe.query(cut)\n",
    "    if text:\n",
    "        print (text, cutDataframe.shape[0], ' fraction kept: %2.1f'%(100.0*float(cutDataframe.shape[0])/nbeforecut))\n",
    "    return cutDataframe"
   ]
  },
  {
   "cell_type": "code",
   "execution_count": null,
   "metadata": {},
   "outputs": [],
   "source": [
    "def applyCutsJets(df,isMC=False):\n",
    "    temp = df\n",
    "    #temp = applyCut(temp, 'abs(vertex_z)<25 and vertex_z!=0','abs(vertex_z)<25 and and vertex_z!=0')\n",
    "    #temp = applyCut(temp, 'tau1b>0 and tau1b<1', '0<tau1b<1')\n",
    "    temp.eval('jet_px = jet_pt*cos(jet_phi)', inplace=True)\n",
    "    temp.eval('jet_py = jet_pt*sin(jet_phi)', inplace=True)\n",
    "    temp.eval('jet_pz = jet_pt*sinh(jet_eta)', inplace=True)\n",
    "\n",
    "    temp.eval('jet_qt = sqrt( (jet_px + e_px)**2 + (jet_py + e_py)**2) ', inplace=True)\n",
    "    temp.eval('jet_qtnorm = jet_qt/sqrt(Q2)', inplace=True)\n",
    "    temp.eval('e_pt = sqrt(e_px*e_px + e_py*e_py)',inplace=True)\n",
    "    temp.eval('e_phi = arctan(e_py/e_px)', inplace=True)\n",
    "    temp.eval('e_theta = abs(arctan(e_py/e_pz))', inplace=True)\n",
    "    temp.eval('jet_theta = abs(arctan(jet_py/jet_pz))', inplace=True)\n",
    "\n",
    "    temp.eval('e_p = sqrt(e_px*e_px + e_py*e_py + e_pz*e_pz)', inplace=True)\n",
    "\n",
    "    temp.eval('jet_phi = arctan(jet_py/jet_px)',inplace=True)\n",
    "    temp.eval('jet_dphi = e_phi-jet_phi',inplace=True)\n",
    "    temp.eval('logQ2= log(Q2)/2.3025850', inplace=True)\n",
    "    temp.eval('Q = sqrt(Q2)', inplace=True)\n",
    "    temp = applyCut(temp, '0.08 < y < 0.7', '0.08 < y < 0.7')\n",
    "    temp = applyCut(temp, 'Q2>150', 'Q2>150')\n",
    "    temp = applyCut(temp, 'pass_reco==0 | jet_pt>5.0', 'jet pT > 5 GeV')\n",
    "    temp = applyCut(temp, 'pass_reco==0 | jet_eta>-1.0', 'jet eta > -1.0')\n",
    "    temp = applyCut(temp, 'pass_reco==0 | jet_eta<2.5', 'jet eta < 2.5')\n",
    "\n",
    "    if(isMC):\n",
    "        temp.eval('gen_logQ2= log(gen_Q2)/2.3025850', inplace=True)   \n",
    "        temp.eval('gen_Q    = sqrt(gen_Q2)', inplace=True)\n",
    "        temp.eval('gene_pt = sqrt(gene_px*gene_px + gene_py*gene_py)',inplace=True)\n",
    "        temp.eval('gene_p = sqrt(gene_px*gene_px + gene_py*gene_py + gene_pz*gene_pz)',inplace=True)\n",
    "        temp.eval('gene_theta = abs(arctan(gene_py/gene_pz))', inplace=True)\n",
    "\n",
    "        temp.eval('genjet_px = genjet_pt*cos(genjet_phi)', inplace=True)\n",
    "        temp.eval('genjet_py = genjet_pt*sin(genjet_phi)', inplace=True)\n",
    "        temp.eval('genjet_pz = genjet_pt*sinh(genjet_eta)', inplace=True)\n",
    "        temp.eval('genjet_theta = abs(arctan(genjet_py/genjet_pz))', inplace=True)\n",
    "\n",
    "        temp.eval('genjet_qt = sqrt( (genjet_px + gene_px)**2 + (genjet_py + gene_py)**2) ', inplace=True)\n",
    "        temp.eval('genjet_qtnorm = genjet_qt/sqrt(gen_Q2)', inplace=True)\n",
    "        temp.eval('gene_phi = arctan(gene_py/gene_px)', inplace=True)\n",
    "        temp.eval('genjet_phi = arctan(genjet_py/genjet_px)',inplace=True)\n",
    "        temp.eval('genjet_dphi = gene_phi-genjet_phi',inplace=True)\n",
    "        \n",
    "    #    temp.eval('genjet_qtnormept= genjet_qt/e_pt', inplace=True)\n",
    "    #    temp.eval('genjet_qtnormjetpt= genjet_qt/genjet_pt', inplace=True)\n",
    "\n",
    "\n",
    "    #df = applyCut(df, 'n_total>1', ' n>1')\n",
    "    return temp"
   ]
  },
  {
   "cell_type": "code",
   "execution_count": null,
   "metadata": {},
   "outputs": [],
   "source": [
    "mc_name = 'Django'\n",
    "altmc_name = 'Rapgap'\n",
    "\n",
    "#altmc_name = 'Rapgap'\n",
    "#mc_name = 'Django'"
   ]
  },
  {
   "cell_type": "code",
   "execution_count": null,
   "metadata": {},
   "outputs": [],
   "source": [
    "\n",
    "path = '/home/miguel/data/hera/'\n",
    "data = get_Dataframe(path, name='Data')"
   ]
  },
  {
   "cell_type": "code",
   "execution_count": null,
   "metadata": {},
   "outputs": [],
   "source": [
    "\n",
    "sys_data = get_Dataframe(path, name='Data')"
   ]
  },
  {
   "cell_type": "code",
   "execution_count": null,
   "metadata": {},
   "outputs": [],
   "source": [
    "data['pass_reco'] = np.where(data['jet_pt']>0, 1, 0)\n",
    "sys_data['pass_reco'] = np.where(sys_data['jet_pt']>0, 1, 0)\n",
    "print('Selecting data events\\n')\n",
    "data = applyCutsJets(data)\n",
    "\n",
    "\n",
    "print('Selecting data events\\n')\n",
    "sys_data = applyCutsJets(sys_data)"
   ]
  },
  {
   "cell_type": "code",
   "execution_count": null,
   "metadata": {},
   "outputs": [],
   "source": [
    "%%time\n",
    "mc = get_Dataframe(path, name=mc_name)\n"
   ]
  },
  {
   "cell_type": "code",
   "execution_count": null,
   "metadata": {},
   "outputs": [],
   "source": [
    "%%time\n",
    "\n",
    "sys_mc = get_Dataframe(path, name=mc_name, tag = 'sys_6.')"
   ]
  },
  {
   "cell_type": "code",
   "execution_count": null,
   "metadata": {},
   "outputs": [],
   "source": [
    "mc['pass_reco'] = np.where(mc['jet_pt']>0, 1, 0)\n",
    "mc['pass_truth'] = np.where(mc['jet_pt']>0, 1, 0)\n",
    "\n",
    "sys_mc['pass_reco'] = np.where(sys_mc['jet_pt']>0, 1, 0)\n",
    "sys_mc['pass_truth'] = np.where(sys_mc['jet_pt']>0, 1, 0)\n",
    "\n"
   ]
  },
  {
   "cell_type": "code",
   "execution_count": null,
   "metadata": {
    "scrolled": true
   },
   "outputs": [],
   "source": [
    "mc.keys()"
   ]
  },
  {
   "cell_type": "code",
   "execution_count": null,
   "metadata": {
    "scrolled": true
   },
   "outputs": [],
   "source": [
    "%%time\n",
    "\n",
    "print('Selecting MC events\\n')\n",
    "mc   = applyCutsJets(mc, isMC=True)\n",
    "\n",
    "print('Selecting MC events\\n')\n",
    "sys_mc   = applyCutsJets(sys_mc, isMC=True)"
   ]
  },
  {
   "cell_type": "code",
   "execution_count": null,
   "metadata": {},
   "outputs": [],
   "source": [
    "for obs in ['y','gen_y','Q','gen_Q','jet_pt','genjet_pt','e_p','gene_p','e_theta','gene_theta','jet_theta','genjet_theta','jet_phi','genjet_phi','e_phi','gene_phi','jet_eta','genjet_eta','jet_dphi','gen_dphi']:\n",
    "    if 'gen' in obs: continue\n",
    "    print('MC: obs ' , obs , ' nominal = %2.2f'%mc[obs].median(), ' systematic = %2.2f'%sys_mc[obs].median(),' ========%2.1f '%(100*(1- (mc[obs].median()/ sys_mc[obs].median()) )),' %')\n",
    "   "
   ]
  },
  {
   "cell_type": "code",
   "execution_count": null,
   "metadata": {},
   "outputs": [],
   "source": [
    "for obs in ['y','gen_y','Q','gen_Q','jet_pt','genjet_pt','e_p','gene_p','e_theta','gene_theta','jet_theta','genjet_theta','jet_phi','genjet_phi','e_phi','gene_phi','jet_eta']:\n",
    "    if 'gen' not in obs:\n",
    "         print('Data: obs ' , obs , ' %2.2f'%data[obs].median(), ' %2.2f'%sys_data[obs].median(),'========%2.1f '%(100*(1- (data[obs].median()/ sys_data[obs].median()) )) ,'%')\n",
    "         #print('#######################################################')"
   ]
  },
  {
   "cell_type": "code",
   "execution_count": null,
   "metadata": {},
   "outputs": [],
   "source": [
    "# label = {}\n",
    "# label['test'] = 'repeat'\n",
    "# label['sys0'] = 'HFS scale (in jet)'\n",
    "# label['sys1'] = 'HFS scale (remainder)'\n",
    "# label['sys6'] = 'lepton energy scale'\n",
    "# label['sys9'] = 'lepton polar angle'\n",
    "# label['model'] = 'Model'"
   ]
  }
 ],
 "metadata": {
  "kernelspec": {
   "display_name": "Python 3",
   "language": "python",
   "name": "python3"
  },
  "language_info": {
   "codemirror_mode": {
    "name": "ipython",
    "version": 3
   },
   "file_extension": ".py",
   "mimetype": "text/x-python",
   "name": "python",
   "nbconvert_exporter": "python",
   "pygments_lexer": "ipython3",
   "version": "3.8.5"
  }
 },
 "nbformat": 4,
 "nbformat_minor": 4
}
