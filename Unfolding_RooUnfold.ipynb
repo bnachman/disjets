{
 "cells": [
  {
   "cell_type": "markdown",
   "metadata": {},
   "source": [
    "## This notebook illustrates unfolding using the RooUnfold methods "
   ]
  },
  {
   "cell_type": "code",
   "execution_count": 1,
   "metadata": {
    "scrolled": true
   },
   "outputs": [
    {
     "name": "stdout",
     "output_type": "stream",
     "text": [
      "Welcome to JupyROOT 6.15/01\n"
     ]
    }
   ],
   "source": [
    "import time\n",
    "import ROOT\n",
    "import numpy as np\n",
    "import pandas as pd\n",
    "import root_pandas as rpd\n",
    "import matplotlib.pyplot as plt\n",
    "import matplotlib.ticker as mticker\n",
    "from matplotlib.colors import LogNorm\n",
    "from root_pandas import read_root\n",
    "from matplotlib import rc\n",
    "from numpy import inf\n",
    "\n",
    "rc('text', usetex=True)"
   ]
  },
  {
   "cell_type": "code",
   "execution_count": 2,
   "metadata": {},
   "outputs": [
    {
     "name": "stderr",
     "output_type": "stream",
     "text": [
      "/mnt/c/Users/marratia/Linux/buildroot/lib/ROOT.py:579: UserWarning: \"from ROOT import *\" is not supported under IPython\n",
      "  warnings.warn( '\"from ROOT import *\" is not supported under IPython' )\n"
     ]
    }
   ],
   "source": [
    "from AtlasCommonUtils import SetAtlasStyle\n",
    "from Legend import Legend\n",
    "from ROOT import TLatex"
   ]
  },
  {
   "cell_type": "code",
   "execution_count": 3,
   "metadata": {},
   "outputs": [],
   "source": [
    "ROOT.gSystem.Load(\"/mnt/c/Users/marratia/Linux/RooUnfold/libRooUnfold\")\n",
    "from ROOT import gRandom, TH1, TH1D, TH2D, cout, THStack\n",
    "#for unfolding\n",
    "from ROOT import RooUnfoldResponse\n",
    "from ROOT import RooUnfold\n",
    "from ROOT import RooUnfoldBayes\n",
    "from ROOT import RooUnfoldSvd\n",
    "from ROOT import RooUnfoldTUnfold\n",
    "from ROOT import RooUnfoldBinByBin\n",
    "from ROOT import RooUnfoldIds\n",
    "\n",
    "from AtlasCommonUtils import SetAtlasStyle\n",
    "from Legend import Legend\n",
    "from ROOT import TLatex"
   ]
  },
  {
   "cell_type": "code",
   "execution_count": 4,
   "metadata": {
    "scrolled": true
   },
   "outputs": [
    {
     "data": {
      "text/plain": [
       "0L"
      ]
     },
     "execution_count": 4,
     "metadata": {},
     "output_type": "execute_result"
    }
   ],
   "source": [
    "ROOT.gInterpreter.ProcessLine('#include \"MyTUnfoldDensity.h\"')\n"
   ]
  },
  {
   "cell_type": "code",
   "execution_count": 5,
   "metadata": {},
   "outputs": [],
   "source": [
    "def applyCut(inputDataframe, cut, text=None):\n",
    "    dataframe = inputDataframe\n",
    "    nbeforecut = dataframe.shape[0]\n",
    "    cutDataframe = dataframe.query(cut)\n",
    "    if text:\n",
    "        print text, cutDataframe.shape[0], ' fraction kept: %2.1f'%(100.0*float(cutDataframe.shape[0])/nbeforecut)\n",
    "    return cutDataframe"
   ]
  },
  {
   "cell_type": "code",
   "execution_count": 6,
   "metadata": {},
   "outputs": [],
   "source": [
    "def getJetData(inputFiles, isMC=False, maxEvents = 5000000):\n",
    "    \n",
    "    cols = []\n",
    "    scalar = []\n",
    "  \n",
    "    scalar.append('x')\n",
    "    scalar.append('y')\n",
    "    scalar.append('Q2')\n",
    "\n",
    "    scalar.append('e_eta')\n",
    "    scalar.append('e_theta')\n",
    "    scalar.append('e_p')\n",
    "    scalar.append('e_pt')\n",
    "\n",
    "    cols.append('jet_p')\n",
    "    cols.append('jet_pt')\n",
    "    cols.append('jet_qt')\n",
    "    cols.append('jet_dphi')\n",
    "    cols.append('jet_z')\n",
    "    \n",
    "    if(isMC):\n",
    "        cols.append('genjet_p')\n",
    "        cols.append('genjet_pt')\n",
    "        cols.append('genjet_qt')\n",
    "        cols.append('genjet_dphi')\n",
    "        cols.append('genjet_z')\n",
    "        \n",
    "        scalar.append('gene_eta')\n",
    "        scalar.append('gene_theta')\n",
    "        scalar.append('gene_p')\n",
    "        scalar.append('gene_pt')\n",
    "\n",
    "    lists = scalar\n",
    "    dataframes = []\n",
    "    for inputFilename in inputFiles:\n",
    "        start = time.time()\n",
    "        df = read_root(inputFilename, columns=lists+cols,flatten=cols,stop=maxEvents )\n",
    "        dataframes.append(df)\n",
    "        end = time.time()\n",
    "        print '\\n', 'Processed', inputFilename, 'in',  '%2.1f'%(end-start), 'seconds'\n",
    "    return pd.concat([x for x in dataframes])"
   ]
  },
  {
   "cell_type": "code",
   "execution_count": 7,
   "metadata": {},
   "outputs": [],
   "source": [
    "def printSummary(df):\n",
    "    print df['e_pt'].mean(), ' mean lepton pt'\n",
    "    print df['y'].mean(), ' mean inelasticity'\n",
    "    print df['jet_p'].mean(), ' mean jet p'\n",
    "    print df['jet_pt'].mean(), ' mean jet pT'\n",
    "    print df['jet_pt'].describe()\n",
    "\n",
    "    print df['x'].mean(), ' mean x'\n",
    "    print df['Q2'].mean(), ' mean Q2'\n",
    "    print df['Q2'].describe()\n",
    "    return"
   ]
  },
  {
   "cell_type": "code",
   "execution_count": 8,
   "metadata": {},
   "outputs": [],
   "source": [
    "def getData(inputFiles,maxEvents = 5000000):\n",
    "    \n",
    "    cols = []\n",
    "    scalar = []  \n",
    "    scalar.append('x')\n",
    "    scalar.append('y')\n",
    "    scalar.append('Q2')\n",
    "    scalar.append('e_eta')\n",
    "    scalar.append('e_theta')\n",
    "    scalar.append('e_p')\n",
    "    scalar.append('e_pt')\n",
    "\n",
    "    \n",
    "    \n",
    "    lists = scalar\n",
    "    dataframes = []\n",
    "    for inputFilename in inputFiles:\n",
    "        start = time.time()\n",
    "        df = read_root(inputFilename, columns=lists+cols,flatten=cols,stop=maxEvents)\n",
    "        dataframes.append(df)\n",
    "        end = time.time()\n",
    "        print '\\n', 'Processed', inputFilename, 'in',  '%2.1f'%(end-start), 'seconds'\n",
    "    return pd.concat([x for x in dataframes])"
   ]
  },
  {
   "cell_type": "code",
   "execution_count": 9,
   "metadata": {},
   "outputs": [],
   "source": [
    "def applyCuts(df):\n",
    "    temp = df\n",
    "    temp = applyCut(temp, '0.2 < y < 0.7', '0.2 < y < 0.7')\n",
    "    temp = applyCut(temp, 'Q2>150', 'Q2>150')\n",
    "    temp = applyCut(temp, 'e_pt>10', 'e_pt >10')\n",
    "    #temp = applyCut(temp, 'x > 0.05', 'x>0.05')\n",
    "    temp.eval('logQ2= log(Q2)/2.3025850', inplace=True)\n",
    "    temp.eval('logx= log(x)/2.3025850', inplace=True)\n",
    "    return temp"
   ]
  },
  {
   "cell_type": "code",
   "execution_count": 10,
   "metadata": {},
   "outputs": [],
   "source": [
    "def applyCutsJets(df,isMC=False):\n",
    "    temp = df\n",
    "    temp = applyCut(temp, '0.2 < y < 0.7', '0.2 < y < 0.7')\n",
    "    temp = applyCut(temp, 'Q2>150', 'Q2>150')\n",
    "    temp = applyCut(temp, 'e_pt>10', 'e_pt >10')\n",
    "    temp = applyCut(temp, 'jet_pt>5', 'jet_pt>5')\n",
    "    #temp = applyCut(temp, 'jet_qt<5', 'jet_qt<5')\n",
    "\n",
    "    #temp = applyCut(temp, 'dphi_e_jet > 2.74', 'dphi_e_jet>3.14159-0.4')\n",
    "    #temp = applyCut(temp, 'Q2>100.0', ' Q2>100.0')\n",
    "    \n",
    "    #temp.eval('dphi = 3.14159-jet_dphi', inplace=True)\n",
    "    temp.eval('jet_qtnormjetpt= jet_qt/jet_pt', inplace=True)\n",
    "    temp.eval('jet_qtnormept= jet_qt/e_pt', inplace=True)\n",
    "    if(isMC):\n",
    "        temp.eval('genjet_qtnormept= genjet_qt/gene_pt', inplace=True)\n",
    "        temp.eval('genjet_qtnormjetpt= genjet_qt/genjet_pt', inplace=True)\n",
    "\n",
    "\n",
    "    #df = applyCut(df, 'n_total>1', ' n>1')\n",
    "    return temp"
   ]
  },
  {
   "cell_type": "markdown",
   "metadata": {},
   "source": [
    "## Get dataframes"
   ]
  },
  {
   "cell_type": "code",
   "execution_count": 11,
   "metadata": {},
   "outputs": [
    {
     "name": "stdout",
     "output_type": "stream",
     "text": [
      "\n",
      "Processed data2.root in 3.3 seconds\n",
      "0.2 < y < 0.7 0"
     ]
    },
    {
     "ename": "ZeroDivisionError",
     "evalue": "float division by zero",
     "output_type": "error",
     "traceback": [
      "\u001b[0;31m\u001b[0m",
      "\u001b[0;31mZeroDivisionError\u001b[0mTraceback (most recent call last)",
      "\u001b[0;32m<ipython-input-11-de78bd4e8e8d>\u001b[0m in \u001b[0;36m<module>\u001b[0;34m()\u001b[0m\n\u001b[1;32m      1\u001b[0m \u001b[0mdf_jet\u001b[0m      \u001b[0;34m=\u001b[0m \u001b[0mgetJetData\u001b[0m\u001b[0;34m(\u001b[0m\u001b[0;34m[\u001b[0m\u001b[0;34m'data2.root'\u001b[0m\u001b[0;34m]\u001b[0m\u001b[0;34m)\u001b[0m\u001b[0;34m\u001b[0m\u001b[0m\n\u001b[0;32m----> 2\u001b[0;31m \u001b[0mdf_jet\u001b[0m \u001b[0;34m=\u001b[0m \u001b[0mapplyCutsJets\u001b[0m\u001b[0;34m(\u001b[0m\u001b[0mdf_jet\u001b[0m\u001b[0;34m)\u001b[0m\u001b[0;34m\u001b[0m\u001b[0m\n\u001b[0m\u001b[1;32m      3\u001b[0m \u001b[0;34m\u001b[0m\u001b[0m\n\u001b[1;32m      4\u001b[0m \u001b[0mmc_jet\u001b[0m \u001b[0;34m=\u001b[0m \u001b[0mgetJetData\u001b[0m\u001b[0;34m(\u001b[0m\u001b[0;34m[\u001b[0m\u001b[0;34m'mc_djangoh.root'\u001b[0m\u001b[0;34m]\u001b[0m\u001b[0;34m,\u001b[0m\u001b[0misMC\u001b[0m\u001b[0;34m=\u001b[0m\u001b[0mTrue\u001b[0m\u001b[0;34m)\u001b[0m\u001b[0;31m#,maxEvents=500000)\u001b[0m\u001b[0;34m\u001b[0m\u001b[0m\n\u001b[1;32m      5\u001b[0m \u001b[0mmc_jet\u001b[0m \u001b[0;34m=\u001b[0m \u001b[0mapplyCutsJets\u001b[0m\u001b[0;34m(\u001b[0m\u001b[0mmc_jet\u001b[0m\u001b[0;34m,\u001b[0m \u001b[0misMC\u001b[0m\u001b[0;34m=\u001b[0m\u001b[0mTrue\u001b[0m\u001b[0;34m)\u001b[0m\u001b[0;34m\u001b[0m\u001b[0m\n",
      "\u001b[0;32m<ipython-input-10-1fe4858f3c1b>\u001b[0m in \u001b[0;36mapplyCutsJets\u001b[0;34m(df, isMC)\u001b[0m\n\u001b[1;32m      1\u001b[0m \u001b[0;32mdef\u001b[0m \u001b[0mapplyCutsJets\u001b[0m\u001b[0;34m(\u001b[0m\u001b[0mdf\u001b[0m\u001b[0;34m,\u001b[0m\u001b[0misMC\u001b[0m\u001b[0;34m=\u001b[0m\u001b[0mFalse\u001b[0m\u001b[0;34m)\u001b[0m\u001b[0;34m:\u001b[0m\u001b[0;34m\u001b[0m\u001b[0m\n\u001b[1;32m      2\u001b[0m     \u001b[0mtemp\u001b[0m \u001b[0;34m=\u001b[0m \u001b[0mdf\u001b[0m\u001b[0;34m\u001b[0m\u001b[0m\n\u001b[0;32m----> 3\u001b[0;31m     \u001b[0mtemp\u001b[0m \u001b[0;34m=\u001b[0m \u001b[0mapplyCut\u001b[0m\u001b[0;34m(\u001b[0m\u001b[0mtemp\u001b[0m\u001b[0;34m,\u001b[0m \u001b[0;34m'0.2 < y < 0.7'\u001b[0m\u001b[0;34m,\u001b[0m \u001b[0;34m'0.2 < y < 0.7'\u001b[0m\u001b[0;34m)\u001b[0m\u001b[0;34m\u001b[0m\u001b[0m\n\u001b[0m\u001b[1;32m      4\u001b[0m     \u001b[0mtemp\u001b[0m \u001b[0;34m=\u001b[0m \u001b[0mapplyCut\u001b[0m\u001b[0;34m(\u001b[0m\u001b[0mtemp\u001b[0m\u001b[0;34m,\u001b[0m \u001b[0;34m'Q2>150'\u001b[0m\u001b[0;34m,\u001b[0m \u001b[0;34m'Q2>150'\u001b[0m\u001b[0;34m)\u001b[0m\u001b[0;34m\u001b[0m\u001b[0m\n\u001b[1;32m      5\u001b[0m     \u001b[0mtemp\u001b[0m \u001b[0;34m=\u001b[0m \u001b[0mapplyCut\u001b[0m\u001b[0;34m(\u001b[0m\u001b[0mtemp\u001b[0m\u001b[0;34m,\u001b[0m \u001b[0;34m'e_pt>10'\u001b[0m\u001b[0;34m,\u001b[0m \u001b[0;34m'e_pt >10'\u001b[0m\u001b[0;34m)\u001b[0m\u001b[0;34m\u001b[0m\u001b[0m\n",
      "\u001b[0;32m<ipython-input-5-5eeacf188b8e>\u001b[0m in \u001b[0;36mapplyCut\u001b[0;34m(inputDataframe, cut, text)\u001b[0m\n\u001b[1;32m      4\u001b[0m     \u001b[0mcutDataframe\u001b[0m \u001b[0;34m=\u001b[0m \u001b[0mdataframe\u001b[0m\u001b[0;34m.\u001b[0m\u001b[0mquery\u001b[0m\u001b[0;34m(\u001b[0m\u001b[0mcut\u001b[0m\u001b[0;34m)\u001b[0m\u001b[0;34m\u001b[0m\u001b[0m\n\u001b[1;32m      5\u001b[0m     \u001b[0;32mif\u001b[0m \u001b[0mtext\u001b[0m\u001b[0;34m:\u001b[0m\u001b[0;34m\u001b[0m\u001b[0m\n\u001b[0;32m----> 6\u001b[0;31m         \u001b[0;32mprint\u001b[0m \u001b[0mtext\u001b[0m\u001b[0;34m,\u001b[0m \u001b[0mcutDataframe\u001b[0m\u001b[0;34m.\u001b[0m\u001b[0mshape\u001b[0m\u001b[0;34m[\u001b[0m\u001b[0;36m0\u001b[0m\u001b[0;34m]\u001b[0m\u001b[0;34m,\u001b[0m \u001b[0;34m' fraction kept: %2.1f'\u001b[0m\u001b[0;34m%\u001b[0m\u001b[0;34m(\u001b[0m\u001b[0;36m100.0\u001b[0m\u001b[0;34m*\u001b[0m\u001b[0mfloat\u001b[0m\u001b[0;34m(\u001b[0m\u001b[0mcutDataframe\u001b[0m\u001b[0;34m.\u001b[0m\u001b[0mshape\u001b[0m\u001b[0;34m[\u001b[0m\u001b[0;36m0\u001b[0m\u001b[0;34m]\u001b[0m\u001b[0;34m)\u001b[0m\u001b[0;34m/\u001b[0m\u001b[0mnbeforecut\u001b[0m\u001b[0;34m)\u001b[0m\u001b[0;34m\u001b[0m\u001b[0m\n\u001b[0m\u001b[1;32m      7\u001b[0m     \u001b[0;32mreturn\u001b[0m \u001b[0mcutDataframe\u001b[0m\u001b[0;34m\u001b[0m\u001b[0m\n",
      "\u001b[0;31mZeroDivisionError\u001b[0m: float division by zero"
     ]
    }
   ],
   "source": [
    "df_jet      = getJetData(['data2.root'])\n",
    "df_jet = applyCutsJets(df_jet)\n",
    "\n",
    "mc_jet = getJetData(['mc_djangoh.root'],isMC=True)#,maxEvents=500000)\n",
    "mc_jet = applyCutsJets(mc_jet, isMC=True)\n",
    "\n",
    "altmc_jet = getJetData(['mc_rapgap.root'],isMC=True)#,maxEvents=200000)\n",
    "altmc_jet = applyCutsJets(altmc_jet, isMC=True)\n"
   ]
  },
  {
   "cell_type": "markdown",
   "metadata": {},
   "source": [
    "## define variables, binning, etc"
   ]
  },
  {
   "cell_type": "code",
   "execution_count": null,
   "metadata": {},
   "outputs": [],
   "source": [
    "coarsebins = 15\n",
    "finebins = 15##15\n",
    "minval = 2.5\n",
    "maxval = np.pi\n",
    "variable    = 'jet_dphi' \n",
    "genvariable = 'genjet_dphi'\n",
    "namevariable = r'$\\Delta\\phi$'\n",
    "\n",
    "#coarsebins = 7\n",
    "#finebins = 7\n",
    "#minval = 0.0\n",
    "#maxval = 10\n",
    "#variable = 'jet_qt'\n",
    "#genvariable = 'genjet_qt'\n",
    "#namevariable = r'$q_{T}'\n",
    "\n",
    "#minval = 0.0 \n",
    "#maxval = 1.0\n",
    "#variable = 'jet_qtnormept'\n",
    "#genvariable = 'genjet_qtnormept'\n",
    "\n",
    "\n",
    "#coarsebins = 10\n",
    "#finebins = 10\n",
    "#minval = 0.0\n",
    "#maxval = 1.0\n",
    "#variable = 'jet_qtnormjetpt'\n",
    "#genvariable = 'genjet_qtnormjetpt'\n",
    "#namevariable = r'$q_{T}/p_{T}^{jet}$'\n",
    "\n",
    "#coarsebins = 12\n",
    "#finebins = 12\n",
    "#minval = 0\n",
    "#maxval = 1.2\n",
    "#variable = 'jet_z'\n",
    "#genvariable = 'genjet_z'\n",
    "#namevariable = r'$z_{jet}$'\n",
    "\n",
    "\n",
    "binwidth = (maxval - minval)/coarsebins\n",
    "\n",
    "M = ROOT.TH2D(\"M\", \"Response Matrix\", coarsebins,minval,maxval, finebins,minval,maxval)\n",
    "M1 = M.Clone(\"M1\")\n",
    "M2 = M.Clone(\"M2\")\n",
    "M1.SetTitle(\"+1#sigma\")\n",
    "M2.SetTitle(\"-1#sigma\")\n",
    "\n",
    "scaleup = 1.001\n",
    "scaledn = 0.999\n",
    "\n",
    "eptmin = 15\n",
    "eptmax = 20"
   ]
  },
  {
   "cell_type": "markdown",
   "metadata": {},
   "source": [
    "## make data selection, split MC in two statistically independent samples"
   ]
  },
  {
   "cell_type": "code",
   "execution_count": null,
   "metadata": {},
   "outputs": [],
   "source": [
    "data_cut = df_jet.query('e_pt > %2.2f and e_pt<%2.2f'%(eptmin,eptmax))\n",
    "mc_cut = mc_jet.query('e_pt > %2.2f and e_pt<%2.2f'%(eptmin,eptmax))\n",
    "altmc_cut = altmc_jet.query('e_pt > %2.2f and e_pt<%2.2f'%(eptmin,eptmax))\n",
    "\n",
    "\n",
    "print len(mc_cut)\n",
    "print len(altmc_cut)\n",
    "#msk = np.random.rand(len(mc_cut)) < 0.10\n",
    "\n",
    "#mctest_cut = mc_cut[msk]\n",
    "#mc_cut   = mc_cut[~msk]\n",
    "#print len(mctest_cut)\n",
    "#print len(mc_cut)"
   ]
  },
  {
   "cell_type": "code",
   "execution_count": null,
   "metadata": {},
   "outputs": [],
   "source": [
    "fig = plt.figure(figsize=(8,6))\n",
    "\n",
    "plt.hist(data_cut[variable],range=(minval,maxval),bins=50,normed=True,label='data')\n",
    "plt.hist(mc_cut[variable],range=(minval,maxval),bins=50,normed=True,alpha=0.5,label='mc reco')\n",
    "plt.hist(mc_cut[genvariable],range=(minval,maxval),bins=50, normed=True,alpha=0.5,label =' mc truth')\n",
    "plt.legend(loc='best', frameon=False)\n",
    "plt.hist"
   ]
  },
  {
   "cell_type": "code",
   "execution_count": null,
   "metadata": {},
   "outputs": [],
   "source": [
    "fig = plt.figure(figsize=(8,6))\n",
    "\n",
    "plt.hist(data_cut[variable],range=(0,maxval),bins=coarsebins,normed=True,label='data')\n",
    "plt.hist(mc_cut[variable],range=(0,maxval),bins=coarsebins,normed=True,alpha=0.5,label='mc reco')\n",
    "plt.hist(mc_cut[genvariable],range=(0,maxval),bins=coarsebins, normed=True,alpha=0.5,label =' mc truth')\n",
    "plt.legend(loc='best', frameon=False)\n"
   ]
  },
  {
   "cell_type": "markdown",
   "metadata": {},
   "source": [
    "## Fill response matrix"
   ]
  },
  {
   "cell_type": "code",
   "execution_count": null,
   "metadata": {},
   "outputs": [],
   "source": [
    "Npe = len(mc_cut[variable])\n",
    "\n",
    "response= RooUnfoldResponse(coarsebins, minval, maxval,\n",
    "                            finebins , minval, maxval);\n",
    "response.UseOverflow()\n",
    "\n",
    "for i in np.arange(len(mc_cut[variable])):\n",
    "    x = mc_cut.iloc[i][variable]\n",
    "    y = mc_cut.iloc[i][genvariable]\n",
    "    M.Fill(x, y, 1./Npe)\n",
    "    response.Fill(x, y);\n",
    "#\n",
    "#plt.hist(df_cut['jet_qt'],bins=10,range=(0,10.0),normed=True,alpha=0.9, label='MC reco',histtype='step',lw=2)\n"
   ]
  },
  {
   "cell_type": "markdown",
   "metadata": {},
   "source": [
    "## Plot response matrix"
   ]
  },
  {
   "cell_type": "code",
   "execution_count": null,
   "metadata": {},
   "outputs": [],
   "source": [
    "ROOT.gStyle.SetOptStat(\"\")\n",
    "ROOT.gStyle.SetPalette(ROOT.kViridis);\n",
    "ROOT.gStyle.SetTitleYOffset(0.85)\n",
    "ROOT.gStyle.SetEndErrorSize(10)\n",
    "\n",
    "\n",
    "c0 = ROOT.TCanvas(\"c0\", \"c0\", 1800, 600)\n",
    "c0.Divide(3,1)\n",
    "c0.cd(1)\n",
    "response.Mresponse().Draw(\"colz\")\n",
    "c0.Draw()"
   ]
  },
  {
   "cell_type": "markdown",
   "metadata": {},
   "source": [
    "## fill mc truth and mc reco histograms"
   ]
  },
  {
   "cell_type": "code",
   "execution_count": null,
   "metadata": {},
   "outputs": [],
   "source": [
    "h_mcreco = ROOT.TH1D(\"h_mcreco\", \"h_mcreco\", coarsebins, minval, maxval)\n",
    "h_mctrue = ROOT.TH1D(\"h_mctrue\", \"h_mctrue\", finebins, minval, maxval)\n",
    "   \n",
    "for i in np.arange(len(mc_cut[variable])):\n",
    "    h_mctrue.Fill(mc_cut.iloc[i][genvariable])\n",
    "    h_mcreco.Fill(mc_cut.iloc[i][variable])\n"
   ]
  },
  {
   "cell_type": "markdown",
   "metadata": {},
   "source": [
    "## Create data histogram and pseudodata histogram "
   ]
  },
  {
   "cell_type": "code",
   "execution_count": null,
   "metadata": {},
   "outputs": [],
   "source": [
    "h_fakedata = ROOT.TH1D(\"h_fakedata\", \"h_fakedata\", coarsebins, minval, maxval)   \n",
    "    \n",
    "for i in np.arange(len(data_cut[variable])): #fill a fake data histo with as much data as real data (obbiously it assumes you have more MC)\n",
    "    h_fakedata.Fill(altmc_cut.iloc[i][variable])\n",
    "       \n",
    "h_data = ROOT.TH1D(\"h_data\", \"h_data\", coarsebins, minval, maxval)   \n",
    "for i in np.arange(len(data_cut[variable])):\n",
    "    h_data.Fill(data_cut.iloc[i][variable])"
   ]
  },
  {
   "cell_type": "markdown",
   "metadata": {},
   "source": [
    "## Plot mc truth, mc reco, data, and pseudodata"
   ]
  },
  {
   "cell_type": "code",
   "execution_count": null,
   "metadata": {},
   "outputs": [],
   "source": [
    "#h_mcreco.SetMarkerStyle(20)\n",
    "h_data.SetMarkerStyle(20)\n",
    "h_data.SetMarkerColor(ROOT.kBlack)\n",
    "h_data.SetLineColor(ROOT.kBlack)\n",
    "\n",
    "#h_mctrue.SetMarkerStyle(21)\n",
    "h_fakedata.SetMarkerColor(ROOT.kRed)\n",
    "h_fakedata.SetLineColor(ROOT.kRed)\n",
    "\n",
    "h_fakedata.SetLineWidth(1)\n",
    "\n",
    "h_fakedata.SetMarkerStyle(20)\n",
    "h_mctrue.SetLineColor(ROOT.kBlue)\n",
    "h_mcreco.SetLineColor(ROOT.kRed)\n",
    "#h_fakedata.SetLineColor(ROOT.kBlue)\n",
    "#h_mctrue.SetLineColor(ROOT.kRed)\n",
    "\n",
    "creco = ROOT.TCanvas(\"creco\", \"creco\", 800, 800)\n",
    "h_mctrue.DrawNormalized()\n",
    "h_mctrue.SetMinimum(0.0)\n",
    "h_mcreco.DrawNormalized('same')\n",
    "h_fakedata.DrawNormalized(\"e same\")\n",
    "h_data.DrawNormalized(\"e same\")\n",
    "\n",
    "creco.Draw()\n",
    "\n",
    "ROOT.gStyle.SetOptStat(\"\")\n",
    "\n",
    "\n",
    "label = Legend(\"\")\n",
    "label.Add( h_mcreco, 'MC Reco', 'L')\n",
    "label.Add(h_data, 'Data','P')\n",
    "label.Add(h_fakedata, 'Pseudo Data', 'P')\n",
    "label.Add( h_mctrue, 'MC True', 'L')\n",
    "label.Draw(.4,.85)\n"
   ]
  },
  {
   "cell_type": "markdown",
   "metadata": {},
   "source": [
    "## Plot response matrix and projections"
   ]
  },
  {
   "cell_type": "code",
   "execution_count": null,
   "metadata": {},
   "outputs": [],
   "source": [
    "mc_truth = M.ProjectionY()\n",
    "mc_reco = M.ProjectionX()\n",
    "mc_truth.SetLineColorAlpha(2,0.8)\n",
    "mc_reco.SetLineColorAlpha(4,0.8)\n",
    "\n",
    "##draw mc truth, mc reco, response matrix\n",
    "c = ROOT.TCanvas('c','c',1600,600)\n",
    "c.Divide(2)\n",
    "c.cd(1)\n",
    "response.Mresponse().Draw(\"colz\")\n",
    "#responseMatrix.Draw('colz')\n",
    "#response.Mresponse().SetTitle('Response Matrix; Reconstructed; True')\n",
    "\n",
    "#ROOT.gPad.SetLogz()\n",
    "c.cd(2)\n",
    "\n",
    "\n",
    "label = Legend(\"\")\n",
    "label.Add(mc_reco,'MC Reco','L')\n",
    "label.Add(mc_truth,'MC True','L')\n",
    "\n",
    "hs_mc = ROOT.THStack()\n",
    "hs_mc.Add(mc_reco)\n",
    "hs_mc.Add(mc_truth)\n",
    "hs_mc.Draw('nostack')\n",
    "#hs_mc.SetTitle(axestitle[variable])\n",
    "\n",
    "label.Draw(0.65,.87)\n",
    "c.Draw()"
   ]
  },
  {
   "cell_type": "markdown",
   "metadata": {},
   "source": [
    "# Define input for unfolding, create dictionaries to store results"
   ]
  },
  {
   "cell_type": "code",
   "execution_count": null,
   "metadata": {},
   "outputs": [],
   "source": [
    "data_inputforunfolding = h_data.Clone()\n",
    "\n",
    "data_unfolded = {}\n",
    "Covariance = {}\n",
    "InverseCovariance  = {}\n",
    "correlation = {}\n",
    "unfold = {}"
   ]
  },
  {
   "cell_type": "markdown",
   "metadata": {},
   "source": [
    "# Find appropiate number of iterations for the Bayesian Unfolding"
   ]
  },
  {
   "cell_type": "code",
   "execution_count": null,
   "metadata": {},
   "outputs": [],
   "source": [
    "## Computes the global correlation coefficient\n",
    "def get_averagerho(cov,inversecov):\n",
    "    nrows= cov.GetNrows()\n",
    "    ncolumns = cov.GetNcols()\n",
    "    rhos = []\n",
    "    for i in range(nrows) :\n",
    "        #print np.sqrt(1- 1.0/(cov(i,i)*inversecov(i,i)))\n",
    "        if(cov(i,i)*inversecov(i,i)!=0):\n",
    "            rhos.append( np.sqrt(1- 1.0/(cov(i,i)*inversecov(i,i))))\n",
    "        else:\n",
    "            print 'something messed up with the inverse cov or cov'\n",
    "    #print rhos\n",
    "    return np.average(rhos)\n",
    "\n",
    "\n",
    "def GetCorrelationMatrix ( cov, name):\n",
    "\n",
    "    nrows= cov.GetNrows()\n",
    "    ncolumns = cov.GetNcols()\n",
    "    \n",
    "    h= ROOT.TH2D (name, \"\", nrows, 0, nrows, ncolumns, 0, ncolumns);\n",
    "    h.SetAxisRange (-1.0, 1.0, \"Z\")\n",
    "    for i in range(nrows) :\n",
    "        for j in range(ncolumns) :\n",
    "            Viijj= cov(i,i)*cov(j,j)\n",
    "            if Viijj>0.0: h.SetBinContent (i+1, j+1, cov(i,j)/ROOT.TMath.Sqrt(Viijj))\n",
    "            \n",
    "    return h"
   ]
  },
  {
   "cell_type": "markdown",
   "metadata": {},
   "source": [
    "## Do check convergence of iterative unfolding procedure. Check Correlation matrices and the unfolded result. We expect the correlation matrix to show **negative** correlation between adjacent bins. If we see too much large positive correlations, it means that the unfolding has not converged yet. "
   ]
  },
  {
   "cell_type": "code",
   "execution_count": null,
   "metadata": {},
   "outputs": [],
   "source": [
    "c = ROOT.TCanvas('c','c',1600,1600)\n",
    "c.Divide(4,8)\n",
    "for i in range(1,30):\n",
    "    unfold['Bayes_iter%i'%i] = RooUnfoldBayes(response, data_inputforunfolding, i)\n",
    "    h = unfold['Bayes_iter%i'%i].Hreco();\n",
    "    Covariance['Bayes_iter%i'%i] = unfold['Bayes_iter%i'%i].Ereco();\n",
    "    InverseCovariance['Bayes_iter%i'%i] = unfold['Bayes_iter%i'%i].Wreco();\n",
    "    correlation['Bayes_iter%i'%i] = GetCorrelationMatrix(Covariance['Bayes_iter%i'%i], 'Bayes_iter%i'%i)\n",
    "    \n",
    "    #c.cd(i-2)#i-2\n",
    "    #h.Scale(1.0/h.Integral())\n",
    "    #h.Draw()\n",
    "    #h.SetLineColor(i)\n",
    "    \n",
    "#c.Draw()"
   ]
  },
  {
   "cell_type": "code",
   "execution_count": null,
   "metadata": {},
   "outputs": [],
   "source": [
    "c = ROOT.TCanvas('c','c',1200,1900)\n",
    "c.Divide(3,10)\n",
    "ROOT.gStyle.SetPalette(ROOT.kRainBow);\n",
    "\n",
    "rho = []\n",
    "iteration = []\n",
    "for i in range(1,30):\n",
    "    c.cd(i)\n",
    "    correlation['Bayes_iter%i'%i].SetTitle('Iter #%i'%i)\n",
    "    correlation['Bayes_iter%i'%i].Draw('colz')\n",
    "    #Covariance['Bayes_iter%i'%i].SetTitle('Iter #%i'%i)\n",
    "    #Covariance['Bayes_iter%i'%i].Draw('colz')\n",
    "    \n",
    "    rho.append(get_averagerho(Covariance['Bayes_iter%i'%i],InverseCovariance['Bayes_iter%i'%i]))\n",
    "    iteration.append(i)\n",
    "#print rho\n",
    "c.Draw()"
   ]
  },
  {
   "cell_type": "markdown",
   "metadata": {},
   "source": [
    "## Average global correlation coefficient vs number of iterations\n",
    "## the global correlation coefficient for bin i is defined as\n",
    "## rho_i = sqrt[ 1 - 1/(Cov_ii*InverseCov_ii)]\n",
    "## Take average of all rho_i and stsudy dependence of the number of iterations. Should take the minimum."
   ]
  },
  {
   "cell_type": "code",
   "execution_count": null,
   "metadata": {},
   "outputs": [],
   "source": [
    "fig = plt.figure(figsize=(8,6))\n",
    "plt.plot(iteration,rho,'o')\n",
    "plt.xlabel('Number of iterations in Bayesian unfolding',fontsize=20)\n",
    "plt.ylabel('Mean global-correlation coefficient',fontsize=20)\n",
    "plt.yticks(fontsize=20)\n",
    "plt.xticks(fontsize=20)\n",
    "\n",
    "plt.show()\n",
    "print 'The number of iterations that results in the minimum average global correlation coefficient is', np.argmin(rho)\n",
    "print 'The minimum average global correlation coefficient is %2.2f'%min(rho)\n",
    "\n",
    "nbayes_iter = np.argmin(rho)\n"
   ]
  },
  {
   "cell_type": "markdown",
   "metadata": {},
   "source": [
    "## Perform unfolding with optimal number of iterations (found above)"
   ]
  },
  {
   "cell_type": "code",
   "execution_count": null,
   "metadata": {},
   "outputs": [],
   "source": [
    "\n",
    "\n",
    "unfold['Bayes'] = RooUnfoldBayes(response, data_inputforunfolding, nbayes_iter)\n",
    "#RooUnfoldTUnfold(response, data_inputforunfolding) # \n",
    "unfold['Bayes'].IncludeSystematics()\n",
    "\n",
    "\n",
    "data_unfolded['Bayes'] = unfold['Bayes'].Hreco()\n",
    "Covariance['Bayes'] = unfold['Bayes'].Ereco();\n",
    "#unfold['Bayes'].PrintTable (cout, mc_truth)\n"
   ]
  },
  {
   "cell_type": "markdown",
   "metadata": {},
   "source": [
    "## Error matrix"
   ]
  },
  {
   "cell_type": "code",
   "execution_count": null,
   "metadata": {},
   "outputs": [],
   "source": [
    "c = ROOT.TCanvas('c','c',600,600)\n",
    "Covariance['Bayes'].Draw(\"colz\")\n",
    "c.Draw()"
   ]
  },
  {
   "cell_type": "code",
   "execution_count": null,
   "metadata": {},
   "outputs": [],
   "source": [
    "ROOT.gStyle.SetPalette(ROOT.kRainBow);\n",
    "\n",
    "c = ROOT.TCanvas('c','c',900,600)\n",
    "correlation = {}\n",
    "\n",
    "correlation['Bayes'] = GetCorrelationMatrix(Covariance['Bayes'], 'Bayes')\n",
    "correlation['Bayes'].Draw('colz')\n",
    "#correlation['Bayes'].GetXaxis().SetRangeUser(1,7)\n",
    "#correlation['Bayes'].GetYaxis().SetRangeUser(1,7)\n",
    "correlation['Bayes'].GetXaxis().SetTitle('Bin number')\n",
    "correlation['Bayes'].GetYaxis().SetTitle('Bin number')\n",
    "correlation['Bayes'].SetTitle('Pearson Coefficients')\n",
    "correlation['Bayes'].GetZaxis().SetRangeUser(-1.0,1.0)\n",
    "c.Draw()"
   ]
  },
  {
   "cell_type": "markdown",
   "metadata": {},
   "source": [
    "## Compare data after unfolded, data at reconstructed level, and MC truth"
   ]
  },
  {
   "cell_type": "code",
   "execution_count": null,
   "metadata": {},
   "outputs": [],
   "source": [
    "c = ROOT.TCanvas('c','c',900,600)\n",
    "\n",
    "label = Legend(\"\")\n",
    "alpha = 0.7\n",
    "hstack = ROOT.THStack()\n",
    "h_data.SetLineWidth(2)\n",
    "h_data.SetLineColorAlpha(4,alpha)\n",
    "h_data.SetMarkerColor(4)\n",
    "mc_truth.SetLineColor(2)\n",
    "mc_truth.SetLineWidth(2)\n",
    "mc_truth.SetMarkerColor(2)\n",
    "\n",
    "h_data.SetMarkerStyle(20)\n",
    "\n",
    "color = {}\n",
    "color['Bayes'] = 1\n",
    "\n",
    "h_data.Scale(1.0/h_data.Integral())\n",
    "mc_truth.Scale(1.0/mc_truth.Integral())\n",
    "\n",
    "\n",
    "result_x = np.array([])\n",
    "result_y = np.array([])\n",
    "result_erry = np.array([])\n",
    "\n",
    "for key in ['Bayes']:\n",
    "    data_unfolded[key].SetMarkerStyle(20)\n",
    "    data_unfolded[key].SetLineWidth(2)\n",
    "    data_unfolded[key].SetLineColorAlpha(color[key],alpha)\n",
    "    data_unfolded[key].SetMarkerColor(color[key])\n",
    "    data_unfolded[key].Scale(1.0/data_unfolded[key].Integral())\n",
    "\n",
    "    for i in range(1,data_unfolded[key].GetNbinsX()+1):\n",
    "        print key, ' ' , i , ' ', data_unfolded[key].GetBinCenter(i), ' %2.3f'%data_unfolded[key].GetBinContent(i), ' %2.3f'%data_unfolded[key].GetBinError(i)\n",
    "        result_x = np.append(result_x, data_unfolded[key].GetBinCenter(i))\n",
    "        result_y = np.append(result_y, data_unfolded[key].GetBinContent(i))\n",
    "        result_erry = np.append(result_erry, data_unfolded[key].GetBinError(i))\n",
    "hstack.Add(h_data)\n",
    "hstack.Add(mc_truth)\n",
    "hstack.Add(data_unfolded['Bayes'])\n",
    "label.Add(h_data, 'Raw data', 'L')\n",
    "label.Add(data_unfolded['Bayes'],'Data unfolded','L')      \n",
    "label.Add(mc_truth, 'MC truth', 'L')\n",
    "\n",
    "hstack.SetTitle('; variable; normalized entries')\n",
    "hstack.Draw('nostack')\n",
    "hstack.GetYaxis().SetNdivisions(6)\n",
    "label.Draw(.5,.85)\n",
    "\n",
    "c.Draw()\n",
    "print result_x\n",
    "print result_y\n",
    "print result_erry\n",
    "#c.SaveAs('Unfoldedresult%s.pdf'%(datatype))"
   ]
  },
  {
   "cell_type": "markdown",
   "metadata": {},
   "source": [
    "## Closure test: feed pseudodata (MC) to the unfolding and test whether it is compatible with the truth distribution"
   ]
  },
  {
   "cell_type": "code",
   "execution_count": null,
   "metadata": {},
   "outputs": [],
   "source": [
    "#data_inputforunfolding = h_data.Clone()\n",
    "data_inputforunfolding = h_fakedata.Clone()\n",
    "closure = RooUnfoldBayes(response, data_inputforunfolding, nbayes_iter).Hreco();\n"
   ]
  },
  {
   "cell_type": "code",
   "execution_count": null,
   "metadata": {},
   "outputs": [],
   "source": [
    "c = ROOT.TCanvas()\n",
    "closure.SetLineColor(1)\n",
    "closure.SetMarkerColor(2)\n",
    "closure.Scale(1/closure.Integral())\n",
    "closure.SetTitle('Closure test')\n",
    "closure.Draw()\n",
    "mc_truth.Draw('same')\n",
    "label = Legend(\"\")\n",
    "label.Add(closure, 'MC reco, unfolded', 'L')\n",
    "label.Add(mc_truth, 'MC truth' ,     'L')\n",
    "label.Draw(.15,.90)\n",
    "\n",
    "c.Draw()"
   ]
  },
  {
   "cell_type": "code",
   "execution_count": null,
   "metadata": {
    "scrolled": true
   },
   "outputs": [],
   "source": [
    "temp = closure.Clone('temp')\n",
    "temp.Divide(mc_truth)\n",
    "c = ROOT.TCanvas()\n",
    "temp.Draw()\n",
    "temp.SetMinimum(0.5)\n",
    "temp.SetMaximum(1.5)\n",
    "temp.SetTitle('Closure test')\n",
    "c.Draw()"
   ]
  },
  {
   "cell_type": "markdown",
   "metadata": {},
   "source": [
    "# Multiply the unfolded result by the response matrix, compare with data. This is the \"refolded check\""
   ]
  },
  {
   "cell_type": "code",
   "execution_count": null,
   "metadata": {},
   "outputs": [],
   "source": [
    "c = ROOT.TCanvas()\n",
    "\n",
    "#response.Mresponse().Draw(\"colz\")\n",
    "    \n",
    "nrows= response.Mresponse().GetNrows()\n",
    "ncolumns = response.Mresponse().GetNcols()\n",
    "    \n",
    "##print nrows\n",
    "#print ncolumns\n",
    "temp = 0\n",
    "\n",
    "refolded = data_unfolded['Bayes'].Clone('refolded')\n",
    "\n",
    "##element #1 will be:\n",
    "for n in range(1,nrows):\n",
    "    temp = 0\n",
    "    for i in range(1,nrows):\n",
    "        #print 'element #%i'%i, ' '  , response(i,n)\n",
    "        temp = temp +  response(n,i)*data_unfolded['Bayes'].GetBinContent(i)\n",
    "    print temp\n",
    "    refolded.SetBinContent(n,temp)\n",
    "#c.Draw()\n",
    "\n",
    "#print type(data_unfolded['Bayes'])\n",
    "\n",
    "#for i in range(1,nrows):\n",
    "    #print data_unfolded['Bayes'].GetBinContent(i)\n",
    "    \n",
    "    \n",
    "c = ROOT.TCanvas()\n",
    "\n",
    "refolded.SetLineColor(2)\n",
    "refolded.SetMarkerColor(2)\n",
    "hs = ROOT.THStack()\n",
    "hs.Add(refolded)\n",
    "hs.Add(data_unfolded['Bayes'])\n",
    "hs.Add(h_data)\n",
    "label = Legend(\"\")\n",
    "label.Add(data_unfolded['Bayes'],'Data unfolded','L')      \n",
    "label.Add(refolded, 'Data unfolded -> refolded', 'L')\n",
    "label.Add(h_data, 'Raw data', 'L')\n",
    "\n",
    "\n",
    "hs.Draw('nostack')\n",
    "\n",
    "label.Draw(0.4,0.8)\n",
    "c.Draw()"
   ]
  },
  {
   "cell_type": "markdown",
   "metadata": {},
   "source": [
    "# Final plot, unfolded result vs MC truth"
   ]
  },
  {
   "cell_type": "code",
   "execution_count": null,
   "metadata": {},
   "outputs": [],
   "source": [
    "rc('text', usetex=True)\n",
    "\n",
    "\n",
    "fig = plt.figure(figsize=(8,6))\n",
    "\n",
    "\n",
    "df_cut = mc_jet.query('e_pt > %2.2f and e_pt<%2.2f'%(eptmin,eptmax))\n",
    "printSummary(df_cut)\n",
    "print '###########'\n",
    "    \n",
    "plt.hist(df_cut[genvariable],bins=coarsebins,range=(minval,maxval),normed=True,histtype='step',label='Rapgap')    \n",
    "\n",
    "df_cut = altmc_jet.query('e_pt > %2.2f and e_pt<%2.2f'%(eptmin,eptmax))\n",
    "printSummary(df_cut)\n",
    "print '###########'\n",
    "    \n",
    "plt.hist(df_cut[genvariable],bins=coarsebins,range=(minval,maxval),normed=True,histtype='step',label='Djangoh')    \n",
    "\n",
    "plt.errorbar(x=result_x,y=np.divide(result_y,binwidth), yerr=np.divide(result_erry,binwidth), fmt='o',ls='none',label='Data',color='black')\n",
    "\n",
    "plt.xlabel(namevariable, fontsize=25)\n",
    "plt.ylabel(r'$1/\\sigma \\times d\\sigma$ ', fontsize=25)\n",
    "#plt.tick_params('both',labelsize=20)\n",
    "\n",
    "plt.title(r' $ %2.0f< p_{\\mathrm{T}}^{e} < %2.0f \\mathrm{~GeV}, 0.2<y<0.7$'%(eptmin,eptmax),fontsize=21)\n",
    "#plt.text(0.05,1.2, r' $ %2.0f< p_{\\mathrm{T}}^{e} < %2.0f$'%(eptmin,eptmax) + '$\\ \\mathrm{ GeV}$ \\n' +\n",
    "#                      r'$\\langle x \\rangle = %2.2f, \\langle Q^{2} \\rangle = %2.0f \\ \\mathrm{GeV}^{2}$'%(df_cut['x'].mean(), df_cut['Q2'].mean()), fontsize=21)\n",
    "\n",
    "plt.legend(loc='best',frameon=False)\n",
    "plt.yticks(fontsize=20)\n",
    "plt.xticks(fontsize=20)\n",
    "\n",
    "#plt.yscale('log')\n",
    "plt.legend(prop={'size': 20}, frameon=False, loc='best')\n",
    "#plt.legend(loc='best',frameon=False)\n",
    "plt.savefig('qtplot.png', bbox_inches='tight')\n",
    "plt.savefig('qtplot.pdf', bbox_inches='tight')\n",
    "\n"
   ]
  },
  {
   "cell_type": "code",
   "execution_count": null,
   "metadata": {},
   "outputs": [],
   "source": []
  }
 ],
 "metadata": {
  "kernelspec": {
   "display_name": "Python 2",
   "language": "python",
   "name": "python2"
  },
  "language_info": {
   "codemirror_mode": {
    "name": "ipython",
    "version": 2
   },
   "file_extension": ".py",
   "mimetype": "text/x-python",
   "name": "python",
   "nbconvert_exporter": "python",
   "pygments_lexer": "ipython2",
   "version": "2.7.12"
  }
 },
 "nbformat": 4,
 "nbformat_minor": 2
}
