{
 "cells": [
  {
   "cell_type": "markdown",
   "metadata": {},
   "source": [
    "## This notebook illustrates unfolding using the RooUnfold methods "
   ]
  },
  {
   "cell_type": "code",
   "execution_count": 1,
   "metadata": {
    "scrolled": true
   },
   "outputs": [
    {
     "name": "stdout",
     "output_type": "stream",
     "text": [
      "Welcome to JupyROOT 6.15/01\n"
     ]
    }
   ],
   "source": [
    "import time\n",
    "import ROOT\n",
    "import numpy as np\n",
    "import pandas as pd\n",
    "import root_pandas as rpd\n",
    "import matplotlib.pyplot as plt\n",
    "import matplotlib.ticker as mticker\n",
    "from matplotlib.colors import LogNorm\n",
    "from root_pandas import read_root\n",
    "from matplotlib import rc\n",
    "from numpy import inf\n",
    "\n",
    "rc('text', usetex=True)"
   ]
  },
  {
   "cell_type": "code",
   "execution_count": 2,
   "metadata": {},
   "outputs": [
    {
     "name": "stderr",
     "output_type": "stream",
     "text": [
      "/mnt/c/Users/marratia/Linux/buildroot/lib/ROOT.py:579: UserWarning: \"from ROOT import *\" is not supported under IPython\n",
      "  warnings.warn( '\"from ROOT import *\" is not supported under IPython' )\n"
     ]
    }
   ],
   "source": [
    "from AtlasCommonUtils import SetAtlasStyle\n",
    "from Legend import Legend\n",
    "from ROOT import TLatex"
   ]
  },
  {
   "cell_type": "code",
   "execution_count": 3,
   "metadata": {
    "scrolled": true
   },
   "outputs": [
    {
     "data": {
      "text/plain": [
       "0L"
      ]
     },
     "execution_count": 3,
     "metadata": {},
     "output_type": "execute_result"
    }
   ],
   "source": [
    "ROOT.gInterpreter.ProcessLine('#include \"MyTUnfoldDensity.h\"')\n"
   ]
  },
  {
   "cell_type": "code",
   "execution_count": 4,
   "metadata": {},
   "outputs": [],
   "source": [
    "def applyCut(inputDataframe, cut, text=None):\n",
    "    dataframe = inputDataframe\n",
    "    nbeforecut = dataframe.shape[0]\n",
    "    cutDataframe = dataframe.query(cut)\n",
    "    if text:\n",
    "        print text, cutDataframe.shape[0], ' fraction kept: %2.1f'%(100.0*float(cutDataframe.shape[0])/nbeforecut)\n",
    "    return cutDataframe"
   ]
  },
  {
   "cell_type": "code",
   "execution_count": 5,
   "metadata": {},
   "outputs": [],
   "source": [
    "def getJetData(inputFiles, isMC=False):\n",
    "    \n",
    "    cols = []\n",
    "    scalar = []\n",
    "  \n",
    "    scalar.append('x')\n",
    "    scalar.append('y')\n",
    "    scalar.append('Q2')\n",
    "\n",
    "    scalar.append('e_eta')\n",
    "    scalar.append('e_theta')\n",
    "    scalar.append('e_p')\n",
    "    scalar.append('e_pt')\n",
    "\n",
    "    cols.append('jet_p')\n",
    "    cols.append('jet_pt')\n",
    "    cols.append('jet_qt')\n",
    "    cols.append('jet_dphi')\n",
    "    cols.append('jet_z')\n",
    "    \n",
    "    if(isMC):\n",
    "        cols.append('genjet_p')\n",
    "        cols.append('genjet_pt')\n",
    "        cols.append('genjet_qt')\n",
    "        cols.append('genjet_dphi')\n",
    "        cols.append('genjet_z')\n",
    "\n",
    "    lists = scalar\n",
    "    dataframes = []\n",
    "    for inputFilename in inputFiles:\n",
    "        start = time.time()\n",
    "        df = read_root(inputFilename, columns=lists+cols,flatten=cols)\n",
    "        dataframes.append(df)\n",
    "        end = time.time()\n",
    "        print '\\n', 'Processed', inputFilename, 'in',  '%2.1f'%(end-start), 'seconds'\n",
    "    return pd.concat([x for x in dataframes])"
   ]
  },
  {
   "cell_type": "code",
   "execution_count": 6,
   "metadata": {},
   "outputs": [],
   "source": [
    "def printSummary(df):\n",
    "    print df['e_pt'].mean(), ' mean lepton pt'\n",
    "    print df['y'].mean(), ' mean inelasticity'\n",
    "    print df['jet_p'].mean(), ' mean jet p'\n",
    "    print df['jet_pt'].mean(), ' mean jet pT'\n",
    "    print df['jet_pt'].describe()\n",
    "\n",
    "    print df['x'].mean(), ' mean x'\n",
    "    print df['Q2'].mean(), ' mean Q2'\n",
    "    print df['Q2'].describe()\n",
    "    return"
   ]
  },
  {
   "cell_type": "code",
   "execution_count": 7,
   "metadata": {},
   "outputs": [],
   "source": [
    "def getData(inputFiles):\n",
    "    \n",
    "    cols = []\n",
    "    scalar = []  \n",
    "    scalar.append('x')\n",
    "    scalar.append('y')\n",
    "    scalar.append('Q2')\n",
    "    scalar.append('e_eta')\n",
    "    scalar.append('e_theta')\n",
    "    scalar.append('e_p')\n",
    "    scalar.append('e_pt')\n",
    "\n",
    "    \n",
    "    \n",
    "    lists = scalar\n",
    "    dataframes = []\n",
    "    for inputFilename in inputFiles:\n",
    "        start = time.time()\n",
    "        df = read_root(inputFilename, columns=lists+cols,flatten=cols)\n",
    "        dataframes.append(df)\n",
    "        end = time.time()\n",
    "        print '\\n', 'Processed', inputFilename, 'in',  '%2.1f'%(end-start), 'seconds'\n",
    "    return pd.concat([x for x in dataframes])"
   ]
  },
  {
   "cell_type": "code",
   "execution_count": 8,
   "metadata": {},
   "outputs": [],
   "source": [
    "def applyCuts(df):\n",
    "    temp = df\n",
    "    temp = applyCut(temp, '0.2 < y < 0.7', '0.2 < y < 0.7')\n",
    "    temp = applyCut(temp, 'Q2>150', 'Q2>150')\n",
    "    temp = applyCut(temp, 'e_pt>10', 'e_pt >10')\n",
    "    #temp = applyCut(temp, 'x > 0.05', 'x>0.05')\n",
    "    temp.eval('logQ2= log(Q2)/2.3025850', inplace=True)\n",
    "    temp.eval('logx= log(x)/2.3025850', inplace=True)\n",
    "    return temp"
   ]
  },
  {
   "cell_type": "code",
   "execution_count": 9,
   "metadata": {},
   "outputs": [],
   "source": [
    "def applyCutsJets(df,isMC=False):\n",
    "    temp = df\n",
    "    temp = applyCut(temp, '0.2 < y < 0.7', '0.2 < y < 0.7')\n",
    "    temp = applyCut(temp, 'Q2>150', 'Q2>150')\n",
    "    temp = applyCut(temp, 'e_pt>10', 'e_pt >10')\n",
    "    temp = applyCut(temp, 'jet_pt>5', 'jet_pt>5')\n",
    "    #temp = applyCut(temp, 'jet_qt<5', 'jet_qt<5')\n",
    "\n",
    "    #temp = applyCut(temp, 'dphi_e_jet > 2.74', 'dphi_e_jet>3.14159-0.4')\n",
    "    #temp = applyCut(temp, 'Q2>100.0', ' Q2>100.0')\n",
    "    \n",
    "    #temp.eval('dphi = 3.14159-jet_dphi', inplace=True)\n",
    "    temp.eval('jet_qtnormjetpt= jet_qt/jet_pt', inplace=True)\n",
    "    temp.eval('jet_qtnormept= jet_qt/e_pt', inplace=True)\n",
    "    if(isMC):\n",
    "        temp.eval('genjet_qtnormept= genjet_qt/e_pt', inplace=True)\n",
    "        temp.eval('genjet_qtnormjetpt= genjet_qt/genjet_pt', inplace=True)\n",
    "\n",
    "\n",
    "    #df = applyCut(df, 'n_total>1', ' n>1')\n",
    "    return temp"
   ]
  },
  {
   "cell_type": "markdown",
   "metadata": {},
   "source": [
    "## Get dataframes"
   ]
  },
  {
   "cell_type": "code",
   "execution_count": 10,
   "metadata": {},
   "outputs": [
    {
     "name": "stdout",
     "output_type": "stream",
     "text": [
      "\n",
      "Processed data.root in 0.3 seconds\n",
      "0.2 < y < 0.7 170849  fraction kept: 100.0\n",
      "Q2>150 170849  fraction kept: 100.0\n",
      "e_pt >10 137246  fraction kept: 80.3\n",
      "\n",
      "Processed mc.root in 0.1 seconds\n",
      "0.2 < y < 0.7 118567  fraction kept: 100.0\n",
      "Q2>150 118567  fraction kept: 100.0\n",
      "e_pt >10 97889  fraction kept: 82.6\n"
     ]
    }
   ],
   "source": [
    "df = getData(['data.root'])\n",
    "df = applyCuts(df)\n",
    "\n",
    "mc = getData(['mc.root'])\n",
    "mc = applyCuts(mc)"
   ]
  },
  {
   "cell_type": "code",
   "execution_count": 11,
   "metadata": {},
   "outputs": [
    {
     "name": "stdout",
     "output_type": "stream",
     "text": [
      "\n",
      "Processed data.root in 2.5 seconds\n",
      "0.2 < y < 0.7 82882  fraction kept: 100.0\n",
      "Q2>150 82882  fraction kept: 100.0\n",
      "e_pt >10 70103  fraction kept: 84.6\n",
      "jet_pt>5 70103  fraction kept: 100.0\n",
      "\n",
      "Processed mc.root in 2.9 seconds\n",
      "0.2 < y < 0.7 145313  fraction kept: 100.0\n",
      "Q2>150 145313  fraction kept: 100.0\n",
      "e_pt >10 125072  fraction kept: 86.1\n",
      "jet_pt>5 125072  fraction kept: 100.0\n"
     ]
    }
   ],
   "source": [
    "df_jet      = getJetData(['data.root'])\n",
    "df_jet = applyCutsJets(df_jet)\n",
    "\n",
    "mc_jet = getJetData(['mc.root'],isMC=True)\n",
    "mc_jet = applyCutsJets(mc_jet, isMC=True)"
   ]
  },
  {
   "cell_type": "markdown",
   "metadata": {},
   "source": [
    "## define variables, binning, etc"
   ]
  },
  {
   "cell_type": "code",
   "execution_count": 210,
   "metadata": {},
   "outputs": [
    {
     "name": "stderr",
     "output_type": "stream",
     "text": [
      "Warning in <TROOT::Append>: Replacing existing TH1: M (Potential memory leak).\n"
     ]
    }
   ],
   "source": [
    "\n",
    "#minval = 2.5\n",
    "#maxval = np.pi\n",
    "#variable    = 'jet_dphi' \n",
    "#genvariable = 'genjet_dphi'\n",
    "\n",
    "#minval = 0.0\n",
    "#maxval = 10\n",
    "#variable = 'jet_qt'\n",
    "#genvariable = 'genjet_qt'\n",
    "\n",
    "#minval = 0.0 \n",
    "#maxval = 1.0\n",
    "#variable = 'jet_qtnormept'\n",
    "#genvariable = 'genjet_qtnormept'\n",
    "\n",
    "\n",
    "coarsebins = 10\n",
    "finebins = 10\n",
    "minval = 0.0\n",
    "maxval = 1.0\n",
    "variable = 'jet_qtnormjetpt'\n",
    "genvariable = 'genjet_qtnormjetpt'\n",
    "namevariable = r'$q_{T}/p_{T}^{jet}$'\n",
    "\n",
    "#coarsebins = 10\n",
    "#finebins = 10\n",
    "#minval = 0\n",
    "#maxval = 1.0\n",
    "#variable = 'jet_z'\n",
    "#genvariable = 'genjet_z'\n",
    "#namevariable = r'$z_{jet}$'\n",
    "\n",
    "\n",
    "binwidth = (maxval - minval)/coarsebins\n",
    "\n",
    "M = ROOT.TH2D(\"M\", \"Response Matrix\", coarsebins,minval,maxval, finebins,minval,maxval)\n",
    "M1 = M.Clone(\"M1\")\n",
    "M2 = M.Clone(\"M2\")\n",
    "M1.SetTitle(\"+1#sigma\")\n",
    "M2.SetTitle(\"-1#sigma\")\n",
    "\n",
    "scaleup = 1.001\n",
    "scaledn = 0.999\n",
    "\n",
    "eptmin = 15\n",
    "eptmax = 20"
   ]
  },
  {
   "cell_type": "markdown",
   "metadata": {},
   "source": [
    "## make data selection, split MC in two statistically independent samples"
   ]
  },
  {
   "cell_type": "code",
   "execution_count": 211,
   "metadata": {},
   "outputs": [
    {
     "name": "stdout",
     "output_type": "stream",
     "text": [
      "29316\n",
      "14655\n",
      "14661\n"
     ]
    }
   ],
   "source": [
    "data_cut = df_jet.query('e_pt > %2.2f and e_pt<%2.2f'%(eptmin,eptmax))\n",
    "mc_cut = mc_jet.query('e_pt > %2.2f and e_pt<%2.2f'%(eptmin,eptmax))\n",
    "print len(mc_cut)\n",
    "msk = np.random.rand(len(mc_cut)) < 0.5\n",
    "mctest_cut = mc_cut[msk]\n",
    "mc_cut   = mc_cut[~msk]\n",
    "print len(mctest_cut)\n",
    "print len(mc_cut)"
   ]
  },
  {
   "cell_type": "code",
   "execution_count": null,
   "metadata": {},
   "outputs": [],
   "source": []
  },
  {
   "cell_type": "code",
   "execution_count": 212,
   "metadata": {},
   "outputs": [
    {
     "data": {
      "text/plain": [
       "<function matplotlib.pyplot.hist>"
      ]
     },
     "execution_count": 212,
     "metadata": {},
     "output_type": "execute_result"
    },
    {
     "data": {
      "image/png": "[encoded data removed]",
      "text/plain": [
       "<matplotlib.figure.Figure at 0x7f7de70eda90>"
      ]
     },
     "metadata": {
      "needs_background": "light"
     },
     "output_type": "display_data"
    }
   ],
   "source": [
    "plt.hist(data_cut[variable],range=(0,1),bins=50,normed=True,label='data')\n",
    "plt.hist(mc_cut[variable],range=(0,1),bins=50,normed=True,alpha=0.5,label='mc reco')\n",
    "plt.hist(mc_cut[genvariable],range=(0,1),bins=50, normed=True,alpha=0.5,label =' mc truth')\n",
    "plt.legend(loc='best', frameon=False)\n",
    "plt.hist"
   ]
  },
  {
   "cell_type": "code",
   "execution_count": 213,
   "metadata": {},
   "outputs": [
    {
     "data": {
      "text/plain": [
       "<matplotlib.legend.Legend at 0x7f7de80dd2d0>"
      ]
     },
     "execution_count": 213,
     "metadata": {},
     "output_type": "execute_result"
    },
    {
     "data": {
      "image/png": "[encoded data removed]",
      "text/plain": [
       "<matplotlib.figure.Figure at 0x7f7de7c2f4d0>"
      ]
     },
     "metadata": {
      "needs_background": "light"
     },
     "output_type": "display_data"
    }
   ],
   "source": [
    "plt.hist(data_cut[variable],range=(0,maxval),bins=coarsebins,normed=True,label='data')\n",
    "plt.hist(mc_cut[variable],range=(0,maxval),bins=coarsebins,normed=True,alpha=0.5,label='mc reco')\n",
    "plt.hist(mc_cut[genvariable],range=(0,maxval),bins=coarsebins, normed=True,alpha=0.5,label =' mc truth')\n",
    "plt.legend(loc='best', frameon=False)\n"
   ]
  },
  {
   "cell_type": "markdown",
   "metadata": {},
   "source": [
    "## Fill response matrix"
   ]
  },
  {
   "cell_type": "code",
   "execution_count": 214,
   "metadata": {},
   "outputs": [],
   "source": [
    "Npe = len(mc_cut[variable])\n",
    "\n",
    "for i in np.arange(len(mc_cut[variable])):\n",
    "    x = mc_cut.iloc[i][variable]\n",
    "    y = mc_cut.iloc[i][genvariable]\n",
    "    M.Fill(x, y, 1./Npe)\n",
    "#\n",
    "#plt.hist(df_cut['jet_qt'],bins=10,range=(0,10.0),normed=True,alpha=0.9, label='MC reco',histtype='step',lw=2)\n"
   ]
  },
  {
   "cell_type": "markdown",
   "metadata": {},
   "source": [
    "## Plot response matrix"
   ]
  },
  {
   "cell_type": "code",
   "execution_count": 215,
   "metadata": {},
   "outputs": [
    {
     "name": "stderr",
     "output_type": "stream",
     "text": [
      "Warning in <TCanvas::Constructor>: Deleting canvas with same name: c0\n"
     ]
    },
    {
     "data": {
      "image/png": "[encoded data removed]",
      "text/plain": [
       "<IPython.core.display.Image object>"
      ]
     },
     "metadata": {},
     "output_type": "display_data"
    }
   ],
   "source": [
    "ROOT.gStyle.SetOptStat(\"\")\n",
    "ROOT.gStyle.SetPalette(ROOT.kViridis);\n",
    "ROOT.gStyle.SetTitleYOffset(0.85)\n",
    "ROOT.gStyle.SetEndErrorSize(10)\n",
    "\n",
    "\n",
    "c0 = ROOT.TCanvas(\"c0\", \"c0\", 1800, 600)\n",
    "c0.Divide(3,1)\n",
    "c0.cd(1)\n",
    "M.Draw(\"colz\")\n",
    "c0.Draw()"
   ]
  },
  {
   "cell_type": "markdown",
   "metadata": {},
   "source": [
    "## fill mc truth and mc reco histograms"
   ]
  },
  {
   "cell_type": "code",
   "execution_count": 216,
   "metadata": {},
   "outputs": [
    {
     "name": "stderr",
     "output_type": "stream",
     "text": [
      "Warning in <TROOT::Append>: Replacing existing TH1: h_mcreco (Potential memory leak).\n",
      "Warning in <TROOT::Append>: Replacing existing TH1: h_mctrue (Potential memory leak).\n"
     ]
    }
   ],
   "source": [
    "h_mcreco = ROOT.TH1D(\"h_mcreco\", \"h_mcreco\", finebins, minval, maxval)\n",
    "h_mctrue = ROOT.TH1D(\"h_mctrue\", \"h_mctrue\", finebins, minval, maxval)\n",
    "\n",
    "   \n",
    "for i in np.arange(len(mc_cut[variable])):\n",
    "    h_mctrue.Fill(mc_cut.iloc[i][genvariable])\n",
    "    h_mcreco.Fill(mc_cut.iloc[i][variable])\n"
   ]
  },
  {
   "cell_type": "markdown",
   "metadata": {},
   "source": [
    "## Create data histogram and pseudodata histogram "
   ]
  },
  {
   "cell_type": "code",
   "execution_count": 217,
   "metadata": {},
   "outputs": [
    {
     "name": "stderr",
     "output_type": "stream",
     "text": [
      "Warning in <TROOT::Append>: Replacing existing TH1: h_fakedata (Potential memory leak).\n",
      "Warning in <TROOT::Append>: Replacing existing TH1: h_fakedata (Potential memory leak).\n",
      "Warning in <TROOT::Append>: Replacing existing TH1: h_data (Potential memory leak).\n"
     ]
    }
   ],
   "source": [
    "h_fakedata = ROOT.TH1D(\"h_fakedata\", \"h_fakedata\", finebins, minval, maxval)   \n",
    "    \n",
    "for i in np.arange(len(mctest_cut[variable])):\n",
    "    h_fakedata.Fill(mctest_cut.iloc[i][variable])\n",
    "    \n",
    "    \n",
    "    \n",
    "h_data = ROOT.TH1D(\"h_data\", \"h_data\", finebins, minval, maxval)   \n",
    "for i in np.arange(len(data_cut[variable])):\n",
    "    h_data.Fill(data_cut.iloc[i][variable])"
   ]
  },
  {
   "cell_type": "markdown",
   "metadata": {},
   "source": [
    "## Plot mc truth, mc reco, data, and pseudodata"
   ]
  },
  {
   "cell_type": "code",
   "execution_count": 218,
   "metadata": {},
   "outputs": [
    {
     "name": "stderr",
     "output_type": "stream",
     "text": [
      "Warning in <TCanvas::Constructor>: Deleting canvas with same name: creco\n"
     ]
    },
    {
     "data": {
      "image/png": "[encoded data removed]",
      "text/plain": [
       "<IPython.core.display.Image object>"
      ]
     },
     "metadata": {},
     "output_type": "display_data"
    }
   ],
   "source": [
    "#h_mcreco.SetMarkerStyle(20)\n",
    "h_data.SetMarkerStyle(20)\n",
    "h_data.SetMarkerColor(ROOT.kBlack)\n",
    "h_data.SetLineColor(ROOT.kBlack)\n",
    "\n",
    "#h_mctrue.SetMarkerStyle(21)\n",
    "h_fakedata.SetMarkerColor(ROOT.kRed)\n",
    "h_fakedata.SetLineColor(ROOT.kRed)\n",
    "\n",
    "h_fakedata.SetLineWidth(1)\n",
    "\n",
    "h_fakedata.SetMarkerStyle(20)\n",
    "h_mctrue.SetLineColor(ROOT.kBlue)\n",
    "h_mcreco.SetLineColor(ROOT.kRed)\n",
    "#h_fakedata.SetLineColor(ROOT.kBlue)\n",
    "#h_mctrue.SetLineColor(ROOT.kRed)\n",
    "\n",
    "creco = ROOT.TCanvas(\"creco\", \"creco\", 800, 800)\n",
    "h_mctrue.DrawNormalized()\n",
    "h_mctrue.SetMinimum(0.0)\n",
    "h_mcreco.DrawNormalized('same')\n",
    "h_fakedata.DrawNormalized(\"e same\")\n",
    "h_data.DrawNormalized(\"e same\")\n",
    "\n",
    "creco.Draw()\n",
    "\n",
    "ROOT.gStyle.SetOptStat(\"\")\n",
    "\n",
    "\n",
    "label = Legend(\"\")\n",
    "label.Add( h_mcreco, 'MC Reco', 'L')\n",
    "label.Add(h_data, 'Data','P')\n",
    "label.Add(h_fakedata, 'Pseudo Data', 'P')\n",
    "label.Add( h_mctrue, 'MC True', 'L')\n",
    "label.Draw(.4,.85)\n"
   ]
  },
  {
   "cell_type": "markdown",
   "metadata": {},
   "source": [
    "## Load modules needed for the unfolding"
   ]
  },
  {
   "cell_type": "code",
   "execution_count": 219,
   "metadata": {},
   "outputs": [],
   "source": [
    "ROOT.gSystem.Load(\"/mnt/c/Users/marratia/Linux/RooUnfold/libRooUnfold\")\n",
    "from ROOT import gRandom, TH1, TH1D, TH2D, cout, THStack\n",
    "#for unfolding\n",
    "from ROOT import RooUnfoldResponse\n",
    "from ROOT import RooUnfold\n",
    "from ROOT import RooUnfoldBayes\n",
    "from ROOT import RooUnfoldSvd\n",
    "from ROOT import RooUnfoldTUnfold\n",
    "from ROOT import RooUnfoldBinByBin\n",
    "from ROOT import RooUnfoldIds\n",
    "\n",
    "from AtlasCommonUtils import SetAtlasStyle\n",
    "from Legend import Legend\n",
    "from ROOT import TLatex"
   ]
  },
  {
   "cell_type": "code",
   "execution_count": 220,
   "metadata": {},
   "outputs": [],
   "source": [
    "responseMatrix = M"
   ]
  },
  {
   "cell_type": "markdown",
   "metadata": {},
   "source": [
    "## Plot response matrix and projections"
   ]
  },
  {
   "cell_type": "code",
   "execution_count": 221,
   "metadata": {},
   "outputs": [
    {
     "data": {
      "image/png": "[encoded data removed]",
      "text/plain": [
       "<IPython.core.display.Image object>"
      ]
     },
     "metadata": {},
     "output_type": "display_data"
    }
   ],
   "source": [
    "mc_truth = responseMatrix.ProjectionY()\n",
    "mc_reco = responseMatrix.ProjectionX()\n",
    "mc_truth.SetLineColorAlpha(2,0.8)\n",
    "mc_reco.SetLineColorAlpha(4,0.8)\n",
    "\n",
    "##draw mc truth, mc reco, response matrix\n",
    "c = ROOT.TCanvas('c','c',1600,600)\n",
    "c.Divide(2)\n",
    "c.cd(1)\n",
    "responseMatrix.Draw('colz')\n",
    "responseMatrix.SetTitle('Response Matrix; Reconstructed; True')\n",
    "\n",
    "#ROOT.gPad.SetLogz()\n",
    "c.cd(2)\n",
    "\n",
    "\n",
    "label = Legend(\"\")\n",
    "label.Add(mc_reco,'MC Reco','L')\n",
    "label.Add(mc_truth,'MC True','L')\n",
    "\n",
    "hs_mc = ROOT.THStack()\n",
    "hs_mc.Add(mc_reco)\n",
    "hs_mc.Add(mc_truth)\n",
    "hs_mc.Draw('nostack')\n",
    "#hs_mc.SetTitle(axestitle[variable])\n",
    "\n",
    "label.Draw(0.65,.87)\n",
    "c.Draw()"
   ]
  },
  {
   "cell_type": "markdown",
   "metadata": {},
   "source": [
    "## Perform unfolding"
   ]
  },
  {
   "cell_type": "code",
   "execution_count": 222,
   "metadata": {},
   "outputs": [
    {
     "name": "stdout",
     "output_type": "stream",
     "text": [
      "Now unfolding...\n",
      "Iteration : 0\n",
      "Chi^2 of change 55.9621\n",
      "Iteration : 1\n",
      "Chi^2 of change 4.61722\n",
      "Iteration : 2\n",
      "Chi^2 of change 1.22214\n",
      "Iteration : 3\n",
      "Chi^2 of change 0.565463\n",
      "Iteration : 4\n",
      "Chi^2 of change 0.356531\n",
      "Iteration : 5\n",
      "Chi^2 of change 0.269737\n",
      "Iteration : 6\n",
      "Chi^2 of change 0.222303\n",
      "Iteration : 7\n",
      "Chi^2 of change 0.190195\n",
      "Iteration : 8\n",
      "Chi^2 of change 0.165711\n",
      "Iteration : 9\n",
      "Chi^2 of change 0.145966\n",
      "Iteration : 10\n",
      "Chi^2 of change 0.129622\n",
      "Iteration : 11\n",
      "Chi^2 of change 0.115904\n",
      "Calculating covariances due to number of measured events\n",
      "Calculating covariance due to unfolding matrix...\n",
      "covariance matrix condition=-1, determinant=0, tolerance=2.22045e-16\n",
      "Inverse covariance matrix 100% maximum error\n",
      "===============================================================================\n",
      "         Train    Train     Test     Test Unfolded  Error on     Diff     Pull\n",
      "  Bin    Truth Measured    Truth    Input   Output Unfolding\n",
      "===============================================================================\n",
      "    0        0        0        0        0      0.0       0.0\n",
      "    1        0        0        0     1623   2719.3     124.4   2719.1     21.9\n",
      "    2        0        0        0     2497   2743.6     120.9   2743.4     22.7\n",
      "    3        0        0        0     1802   1538.9      97.2   1538.8     15.8\n",
      "    4        0        0        0     1180    879.7      69.5    879.6     12.6\n",
      "    5        0        0        0      818    642.1      63.7    642.0     10.1\n",
      "    6        0        0        0      575    428.9      51.4    428.9      8.3\n",
      "    7        0        0        0      463    436.0      48.8    435.9      8.9\n",
      "    8        0        0        0      360    333.2      42.6    333.2      7.8\n",
      "    9        0        0        0      332    243.3      37.3    243.3      6.5\n",
      "   10        0        0        0      241    184.6      29.2    184.6      6.3\n",
      "   11        0        0        0     4776   4517.3     110.6   4517.1     40.8\n",
      "===============================================================================\n",
      "             1        1        1    14667  14667.0     121.1  14666.0    121.1\n",
      "===============================================================================\n",
      "Chi^2/NDF=7279.37/11 (bin-by-bin Chi^2=3465.82)\n"
     ]
    },
    {
     "name": "stderr",
     "output_type": "stream",
     "text": [
      "Warning: bad covariance matrix condition (-1)\n"
     ]
    }
   ],
   "source": [
    "data_inputforunfolding = h_data.Clone()\n",
    "#data_inputforunfolding = h_fakedata.Clone()\n",
    "\n",
    "response= RooUnfoldResponse(mc_reco, mc_truth, responseMatrix,\"response\",\"response\")\n",
    "response.UseOverflow()\n",
    "\n",
    "data_unfolded = {}\n",
    "ErrorMatrices = {}\n",
    "unfold = {}\n",
    "\n",
    "nbayes_iter = 12\n",
    "unfold['Bayes'] = RooUnfoldBayes(response, data_inputforunfolding, nbayes_iter)\n",
    "#RooUnfoldTUnfold(response, data_inputforunfolding) # \n",
    "unfold['Bayes'].IncludeSystematics()\n",
    "\n",
    "\n",
    "data_unfolded['Bayes'] = unfold['Bayes'].Hreco();\n",
    "ErrorMatrices['Bayes'] = unfold['Bayes'].Ereco();\n",
    "unfold['Bayes'].PrintTable (cout, mc_truth)\n"
   ]
  },
  {
   "cell_type": "markdown",
   "metadata": {},
   "source": [
    "## Error matrix"
   ]
  },
  {
   "cell_type": "code",
   "execution_count": 223,
   "metadata": {},
   "outputs": [
    {
     "name": "stderr",
     "output_type": "stream",
     "text": [
      "Warning in <TCanvas::Constructor>: Deleting canvas with same name: c\n"
     ]
    },
    {
     "data": {
      "image/png": "[encoded data removed]",
      "text/plain": [
       "<IPython.core.display.Image object>"
      ]
     },
     "metadata": {},
     "output_type": "display_data"
    }
   ],
   "source": [
    "c = ROOT.TCanvas('c','c',600,600)\n",
    "ErrorMatrices['Bayes'].Draw(\"colz\")\n",
    "c.Draw()"
   ]
  },
  {
   "cell_type": "code",
   "execution_count": 224,
   "metadata": {},
   "outputs": [],
   "source": [
    "\n",
    "def GetCorrelationMatrix ( cov, name):\n",
    "\n",
    "    nrows= cov.GetNrows()\n",
    "    ncolumns = cov.GetNcols()\n",
    "    \n",
    "    h= ROOT.TH2D (name, \"\", nrows, 0, nrows, ncolumns, 0, ncolumns);\n",
    "    h.SetAxisRange (-1.0, 1.0, \"Z\")\n",
    "    for i in range(nrows) :\n",
    "        for j in range(ncolumns) :\n",
    "            Viijj= cov(i,i)*cov(j,j)\n",
    "            if Viijj>0.0: h.SetBinContent (i+1, j+1, cov(i,j)/ROOT.TMath.Sqrt(Viijj))\n",
    "            \n",
    "    return h"
   ]
  },
  {
   "cell_type": "code",
   "execution_count": 225,
   "metadata": {},
   "outputs": [
    {
     "name": "stderr",
     "output_type": "stream",
     "text": [
      "Warning in <TCanvas::Constructor>: Deleting canvas with same name: c\n"
     ]
    },
    {
     "data": {
      "image/png": "[encoded data removed]",
      "text/plain": [
       "<IPython.core.display.Image object>"
      ]
     },
     "metadata": {},
     "output_type": "display_data"
    }
   ],
   "source": [
    "ROOT.gStyle.SetPalette(ROOT.kRainBow);\n",
    "\n",
    "c = ROOT.TCanvas('c','c',900,600)\n",
    "correlation = {}\n",
    "\n",
    "correlation['Bayes'] = GetCorrelationMatrix(ErrorMatrices['Bayes'], 'Bayes')\n",
    "correlation['Bayes'].Draw('colz')\n",
    "#correlation['Bayes'].GetXaxis().SetRangeUser(1,7)\n",
    "#correlation['Bayes'].GetYaxis().SetRangeUser(1,7)\n",
    "correlation['Bayes'].GetXaxis().SetTitle('Bin number')\n",
    "correlation['Bayes'].GetYaxis().SetTitle('Bin number')\n",
    "correlation['Bayes'].SetTitle('Pearson Coefficients')\n",
    "\n",
    "c.Draw()"
   ]
  },
  {
   "cell_type": "markdown",
   "metadata": {},
   "source": [
    "## Compare data after unfolded, data at reconstructed level, and MC truth"
   ]
  },
  {
   "cell_type": "code",
   "execution_count": 226,
   "metadata": {},
   "outputs": [
    {
     "name": "stdout",
     "output_type": "stream",
     "text": [
      "Bayes   1   0.05  0.268  0.012\n",
      "Bayes   2   0.15  0.270  0.012\n",
      "Bayes   3   0.25  0.152  0.010\n",
      "Bayes   4   0.35  0.087  0.007\n",
      "Bayes   5   0.45  0.063  0.006\n",
      "Bayes   6   0.55  0.042  0.005\n",
      "Bayes   7   0.65  0.043  0.005\n",
      "Bayes   8   0.75  0.033  0.004\n",
      "Bayes   9   0.85  0.024  0.004\n",
      "Bayes   10   0.95  0.018  0.003\n",
      "[0.05 0.15 0.25 0.35 0.45 0.55 0.65 0.75 0.85 0.95]\n",
      "[0.26792325 0.27031634 0.151621   0.08667485 0.06326101 0.04226103\n",
      " 0.04295436 0.0328313  0.02397201 0.01818485]\n",
      "[0.01225717 0.0119083  0.00957356 0.00685136 0.00627546 0.00506159\n",
      " 0.00480377 0.00419299 0.0036788  0.00288048]\n"
     ]
    },
    {
     "name": "stderr",
     "output_type": "stream",
     "text": [
      "Warning in <TCanvas::Constructor>: Deleting canvas with same name: c\n"
     ]
    },
    {
     "data": {
      "image/png": "[encoded data removed]",
      "text/plain": [
       "<IPython.core.display.Image object>"
      ]
     },
     "metadata": {},
     "output_type": "display_data"
    }
   ],
   "source": [
    "c = ROOT.TCanvas('c','c',900,600)\n",
    "\n",
    "label = Legend(\"\")\n",
    "alpha = 0.7\n",
    "hstack = ROOT.THStack()\n",
    "h_data.SetLineWidth(2)\n",
    "h_data.SetLineColorAlpha(4,alpha)\n",
    "h_data.SetMarkerColor(4)\n",
    "mc_truth.SetLineColor(2)\n",
    "mc_truth.SetLineWidth(2)\n",
    "mc_truth.SetMarkerColor(2)\n",
    "\n",
    "h_data.SetMarkerStyle(20)\n",
    "\n",
    "color = {}\n",
    "color['Bayes'] = 1\n",
    "\n",
    "h_data.Scale(1.0/h_data.Integral())\n",
    "mc_truth.Scale(1.0/mc_truth.Integral())\n",
    "\n",
    "\n",
    "result_x = np.array([])\n",
    "result_y = np.array([])\n",
    "result_erry = np.array([])\n",
    "\n",
    "for key in ['Bayes']:\n",
    "    data_unfolded[key].SetMarkerStyle(20)\n",
    "    data_unfolded[key].SetLineWidth(2)\n",
    "    data_unfolded[key].SetLineColorAlpha(color[key],alpha)\n",
    "    data_unfolded[key].SetMarkerColor(color[key])\n",
    "    data_unfolded[key].Scale(1.0/data_unfolded[key].Integral())\n",
    "\n",
    "    for i in range(1,data_unfolded[key].GetNbinsX()+1):\n",
    "        print key, ' ' , i , ' ', data_unfolded[key].GetBinCenter(i), ' %2.3f'%data_unfolded[key].GetBinContent(i), ' %2.3f'%data_unfolded[key].GetBinError(i)\n",
    "        result_x = np.append(result_x, data_unfolded[key].GetBinCenter(i))\n",
    "        result_y = np.append(result_y, data_unfolded[key].GetBinContent(i))\n",
    "        result_erry = np.append(result_erry, data_unfolded[key].GetBinError(i))\n",
    "hstack.Add(h_data)\n",
    "hstack.Add(mc_truth)\n",
    "hstack.Add(data_unfolded['Bayes'])\n",
    "label.Add(h_data, 'Raw data', 'L')\n",
    "label.Add(data_unfolded['Bayes'],'Data unfolded','L')      \n",
    "label.Add(mc_truth, 'MC truth', 'L')\n",
    "\n",
    "hstack.SetTitle('; variable; normalized entries')\n",
    "hstack.Draw('nostack')\n",
    "hstack.GetYaxis().SetNdivisions(6)\n",
    "label.Draw(.5,.85)\n",
    "\n",
    "c.Draw()\n",
    "print result_x\n",
    "print result_y\n",
    "print result_erry\n",
    "#c.SaveAs('Unfoldedresult%s.pdf'%(datatype))"
   ]
  },
  {
   "cell_type": "markdown",
   "metadata": {},
   "source": [
    "## Closure test: feed pseudodata (MC) to the unfolding and test whether it is compatible with the truth distribution"
   ]
  },
  {
   "cell_type": "code",
   "execution_count": 227,
   "metadata": {},
   "outputs": [
    {
     "name": "stdout",
     "output_type": "stream",
     "text": [
      "Now unfolding...\n",
      "Iteration : 0\n",
      "Chi^2 of change 31.6064\n",
      "Iteration : 1\n",
      "Chi^2 of change 6.23215\n",
      "Iteration : 2\n",
      "Chi^2 of change 2.54119\n",
      "Calculating covariances due to number of measured events\n"
     ]
    }
   ],
   "source": [
    "#data_inputforunfolding = h_data.Clone()\n",
    "data_inputforunfolding = h_fakedata.Clone()\n",
    "\n",
    "response= RooUnfoldResponse(mc_reco, mc_truth, responseMatrix,\"response\",\"response\")\n",
    "#response.UseOverflow()\n",
    "\n",
    "nbayes_iter = 3\n",
    "closure = RooUnfoldBayes(response, data_inputforunfolding, nbayes_iter).Hreco();\n"
   ]
  },
  {
   "cell_type": "code",
   "execution_count": 228,
   "metadata": {},
   "outputs": [
    {
     "data": {
      "image/png": "[encoded data removed]",
      "text/plain": [
       "<IPython.core.display.Image object>"
      ]
     },
     "metadata": {},
     "output_type": "display_data"
    }
   ],
   "source": [
    "c = ROOT.TCanvas()\n",
    "closure.SetLineColor(1)\n",
    "closure.SetMarkerColor(2)\n",
    "closure.Scale(1/closure.Integral())\n",
    "closure.Draw()\n",
    "mc_truth.Draw('same')\n",
    "label = Legend(\"\")\n",
    "label.Add(closure, 'MC reco, unfolded', 'L')\n",
    "label.Add(mc_truth, 'MC truth' ,     'L')\n",
    "label.Draw(.15,.90)\n",
    "\n",
    "c.Draw()"
   ]
  },
  {
   "cell_type": "code",
   "execution_count": 229,
   "metadata": {
    "scrolled": true
   },
   "outputs": [
    {
     "data": {
      "image/png": "[encoded data removed]",
      "text/plain": [
       "<IPython.core.display.Image object>"
      ]
     },
     "metadata": {},
     "output_type": "display_data"
    }
   ],
   "source": [
    "closure.Divide(mc_truth)\n",
    "c = ROOT.TCanvas()\n",
    "closure.Draw()\n",
    "c.Draw()"
   ]
  },
  {
   "cell_type": "markdown",
   "metadata": {},
   "source": [
    "## Multiply the unfolded result by the response matrix, compare with data. This is the \"refolded check\""
   ]
  },
  {
   "cell_type": "code",
   "execution_count": 230,
   "metadata": {},
   "outputs": [],
   "source": [
    "def Refold ( response, unfolded):\n",
    "    nrows= response.GetNbinsX()\n",
    "    ncolumns = response.GetNbinsX()\n",
    "    h= unfolded.Clone('refolded')\n",
    "    for i in range(nrows) :\n",
    "        temp = 0.0\n",
    "        for j in range(ncolumns) :\n",
    "            temp = temp + response.GetBinContent (i+1, j+1)*unfolded.GetBinContent(j+1)\n",
    "        h.SetBinContent(i+1, temp)\n",
    "    return h"
   ]
  },
  {
   "cell_type": "code",
   "execution_count": 231,
   "metadata": {},
   "outputs": [
    {
     "data": {
      "image/png": "[encoded data removed]",
      "text/plain": [
       "<IPython.core.display.Image object>"
      ]
     },
     "metadata": {},
     "output_type": "display_data"
    }
   ],
   "source": [
    "refolded = Refold(responseMatrix,data_unfolded['Bayes'])\n",
    "c = ROOT.TCanvas()\n",
    "refolded.DrawNormalized('hist')\n",
    "data_unfolded['Bayes'].DrawNormalized('same')\n",
    "data_inputforunfolding.DrawNormalized('same')\n",
    "c.Draw()"
   ]
  },
  {
   "cell_type": "markdown",
   "metadata": {},
   "source": [
    "## Plot unfolded result vs MC"
   ]
  },
  {
   "cell_type": "code",
   "execution_count": 232,
   "metadata": {
    "scrolled": true
   },
   "outputs": [
    {
     "name": "stdout",
     "output_type": "stream",
     "text": [
      "17.127508  mean lepton pt\n",
      "0.37809396  mean inelasticity\n",
      "20.853493  mean jet p\n",
      "14.594749  mean jet pT\n",
      "count    29316.000000\n",
      "mean        14.594749\n",
      "std          5.786974\n",
      "min          5.000011\n",
      "25%         10.167954\n",
      "50%         14.656549\n",
      "75%         18.230238\n",
      "max         49.601570\n",
      "Name: jet_pt, dtype: float64\n",
      "0.0135342395  mean x\n",
      "500.09366  mean Q2\n",
      "count    29316.000000\n",
      "mean       500.093658\n",
      "std        153.255875\n",
      "min        281.785370\n",
      "25%        390.239647\n",
      "50%        465.341583\n",
      "75%        568.719543\n",
      "max       1287.933350\n",
      "Name: Q2, dtype: float64\n",
      "###########\n"
     ]
    },
    {
     "data": {
      "image/png": "[encoded data removed]",
      "text/plain": [
       "<matplotlib.figure.Figure at 0x7f7ddfdd3c50>"
      ]
     },
     "metadata": {
      "needs_background": "light"
     },
     "output_type": "display_data"
    }
   ],
   "source": [
    "rc('text', usetex=True)\n",
    "\n",
    "\n",
    "fig = plt.figure(figsize=(8,6))\n",
    "\n",
    "\n",
    "df_cut = mc_jet.query('e_pt > %2.2f and e_pt<%2.2f'%(eptmin,eptmax))\n",
    "printSummary(df_cut)\n",
    "print '###########'\n",
    "    \n",
    "plt.hist(df_cut[genvariable],bins=coarsebins,range=(0,maxval),normed=True,histtype='step',color='red',label='Djangoh')    \n",
    "plt.errorbar(x=result_x,y=np.divide(result_y,binwidth), yerr=np.divide(result_erry,binwidth), fmt='o',ls='none',label='Data',color='black')\n",
    "\n",
    "plt.xlabel(namevariable, fontsize=25)\n",
    "plt.ylabel(r'$1/\\sigma \\times d\\sigma$ ', fontsize=25)\n",
    "#plt.tick_params('both',labelsize=20)\n",
    "\n",
    "#plt.title('%2.0f< x < %2.0f$'%(eptmin,eptmax) + '$\\ \\mathrm{ GeV}$ ',fontsize=21)\n",
    "#plt.text(0.05,1.2, r' $ %2.0f< p_{\\mathrm{T}}^{e} < %2.0f$'%(eptmin,eptmax) + '$\\ \\mathrm{ GeV}$ \\n' +\n",
    "#                      r'$\\langle x \\rangle = %2.2f, \\langle Q^{2} \\rangle = %2.0f \\ \\mathrm{GeV}^{2}$'%(df_cut['x'].mean(), df_cut['Q2'].mean()), fontsize=21)\n",
    "\n",
    "plt.legend(loc='best',frameon=False)\n",
    "plt.yticks(fontsize=20)\n",
    "plt.xticks(fontsize=20)\n",
    "\n",
    "plt.legend(prop={'size': 20}, frameon=False, loc='best')\n",
    "#plt.legend(loc='best',frameon=False)\n",
    "plt.savefig('qtplot.png', bbox_inches='tight')\n",
    "plt.savefig('qtplot.pdf', bbox_inches='tight')"
   ]
  },
  {
   "cell_type": "code",
   "execution_count": null,
   "metadata": {},
   "outputs": [],
   "source": []
  }
 ],
 "metadata": {
  "kernelspec": {
   "display_name": "Python 2",
   "language": "python",
   "name": "python2"
  },
  "language_info": {
   "codemirror_mode": {
    "name": "ipython",
    "version": 2
   },
   "file_extension": ".py",
   "mimetype": "text/x-python",
   "name": "python",
   "nbconvert_exporter": "python",
   "pygments_lexer": "ipython2",
   "version": "2.7.12"
  }
 },
 "nbformat": 4,
 "nbformat_minor": 2
}
