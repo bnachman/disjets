{
 "cells": [
  {
   "cell_type": "markdown",
   "metadata": {},
   "source": [
    "## This notebook illustrates unfolding using the RooUnfold methods "
   ]
  },
  {
   "cell_type": "code",
   "execution_count": 1,
   "metadata": {},
   "outputs": [
    {
     "name": "stdout",
     "output_type": "stream",
     "text": [
      "Welcome to JupyROOT 6.15/01\n"
     ]
    }
   ],
   "source": [
    "import time\n",
    "import ROOT\n",
    "import numpy as np\n",
    "import pandas as pd\n",
    "import root_pandas as rpd\n",
    "import matplotlib.pyplot as plt\n",
    "import matplotlib.ticker as mticker\n",
    "from matplotlib.colors import LogNorm\n",
    "from root_pandas import read_root\n",
    "from matplotlib import rc\n",
    "from numpy import inf\n",
    "\n",
    "rc('text', usetex=True)"
   ]
  },
  {
   "cell_type": "code",
   "execution_count": 2,
   "metadata": {},
   "outputs": [
    {
     "data": {
      "text/plain": [
       "0L"
      ]
     },
     "execution_count": 2,
     "metadata": {},
     "output_type": "execute_result"
    }
   ],
   "source": [
    "ROOT.gInterpreter.ProcessLine('#include \"MyTUnfoldDensity.h\"')\n"
   ]
  },
  {
   "cell_type": "code",
   "execution_count": 3,
   "metadata": {},
   "outputs": [],
   "source": [
    "def applyCut(inputDataframe, cut, text=None):\n",
    "    dataframe = inputDataframe\n",
    "    nbeforecut = dataframe.shape[0]\n",
    "    cutDataframe = dataframe.query(cut)\n",
    "    if text:\n",
    "        print text, cutDataframe.shape[0], ' fraction kept: %2.1f'%(100.0*float(cutDataframe.shape[0])/nbeforecut)\n",
    "    return cutDataframe"
   ]
  },
  {
   "cell_type": "code",
   "execution_count": 4,
   "metadata": {},
   "outputs": [],
   "source": [
    "def getJetData(inputFiles, isMC=False):\n",
    "    \n",
    "    cols = []\n",
    "    scalar = []\n",
    "  \n",
    "    scalar.append('x')\n",
    "    scalar.append('y')\n",
    "    scalar.append('Q2')\n",
    "\n",
    "    scalar.append('e_eta')\n",
    "    scalar.append('e_theta')\n",
    "    scalar.append('e_p')\n",
    "    scalar.append('e_pt')\n",
    "\n",
    "    cols.append('jet_p')\n",
    "    cols.append('jet_pt')\n",
    "    cols.append('jet_qt')\n",
    "    cols.append('jet_dphi')\n",
    "    cols.append('jet_z')\n",
    "    \n",
    "    if(isMC):\n",
    "        cols.append('genjet_p')\n",
    "        cols.append('genjet_pt')\n",
    "        cols.append('genjet_qt')\n",
    "        cols.append('genjet_dphi')\n",
    "        cols.append('genjet_z')\n",
    "\n",
    "    lists = scalar\n",
    "    dataframes = []\n",
    "    for inputFilename in inputFiles:\n",
    "        start = time.time()\n",
    "        df = read_root(inputFilename, columns=lists+cols,flatten=cols)\n",
    "        dataframes.append(df)\n",
    "        end = time.time()\n",
    "        print '\\n', 'Processed', inputFilename, 'in',  '%2.1f'%(end-start), 'seconds'\n",
    "    return pd.concat([x for x in dataframes])"
   ]
  },
  {
   "cell_type": "code",
   "execution_count": 5,
   "metadata": {},
   "outputs": [],
   "source": [
    "def printSummary(df):\n",
    "    print df['e_pt'].mean(), ' mean lepton pt'\n",
    "    print df['y'].mean(), ' mean inelasticity'\n",
    "    print df['jet_p'].mean(), ' mean jet p'\n",
    "    print df['jet_pt'].mean(), ' mean jet pT'\n",
    "    print df['jet_pt'].describe()\n",
    "\n",
    "    print df['x'].mean(), ' mean x'\n",
    "    print df['Q2'].mean(), ' mean Q2'\n",
    "    print df['Q2'].describe()\n",
    "    return"
   ]
  },
  {
   "cell_type": "code",
   "execution_count": 6,
   "metadata": {},
   "outputs": [],
   "source": [
    "def getData(inputFiles):\n",
    "    \n",
    "    cols = []\n",
    "    scalar = []  \n",
    "    scalar.append('x')\n",
    "    scalar.append('y')\n",
    "    scalar.append('Q2')\n",
    "    scalar.append('e_eta')\n",
    "    scalar.append('e_theta')\n",
    "    scalar.append('e_p')\n",
    "    scalar.append('e_pt')\n",
    "\n",
    "    \n",
    "    \n",
    "    lists = scalar\n",
    "    dataframes = []\n",
    "    for inputFilename in inputFiles:\n",
    "        start = time.time()\n",
    "        df = read_root(inputFilename, columns=lists+cols,flatten=cols)\n",
    "        dataframes.append(df)\n",
    "        end = time.time()\n",
    "        print '\\n', 'Processed', inputFilename, 'in',  '%2.1f'%(end-start), 'seconds'\n",
    "    return pd.concat([x for x in dataframes])"
   ]
  },
  {
   "cell_type": "code",
   "execution_count": 7,
   "metadata": {},
   "outputs": [],
   "source": [
    "def applyCuts(df):\n",
    "    temp = df\n",
    "    temp = applyCut(temp, '0.2 < y < 0.7', '0.2 < y < 0.7')\n",
    "    temp = applyCut(temp, 'Q2>150', 'Q2>150')\n",
    "    temp = applyCut(temp, 'e_pt>10', 'e_pt >10')\n",
    "    #temp = applyCut(temp, 'x > 0.05', 'x>0.05')\n",
    "    temp.eval('logQ2= log(Q2)/2.3025850', inplace=True)\n",
    "    temp.eval('logx= log(x)/2.3025850', inplace=True)\n",
    "    return temp"
   ]
  },
  {
   "cell_type": "code",
   "execution_count": 8,
   "metadata": {},
   "outputs": [],
   "source": [
    "def applyCutsJets(df,isMC=False):\n",
    "    temp = df\n",
    "    temp = applyCut(temp, '0.2 < y < 0.7', '0.2 < y < 0.7')\n",
    "    temp = applyCut(temp, 'Q2>150', 'Q2>150')\n",
    "    temp = applyCut(temp, 'e_pt>10', 'e_pt >10')\n",
    "    temp = applyCut(temp, 'jet_pt>5', 'jet_pt>5')\n",
    "    #temp = applyCut(temp, 'jet_qt<5', 'jet_qt<5')\n",
    "\n",
    "    #temp = applyCut(temp, 'dphi_e_jet > 2.74', 'dphi_e_jet>3.14159-0.4')\n",
    "    #temp = applyCut(temp, 'Q2>100.0', ' Q2>100.0')\n",
    "    \n",
    "    #temp.eval('dphi = 3.14159-jet_dphi', inplace=True)\n",
    "    temp.eval('jet_qtnormjetpt= jet_qt/jet_pt', inplace=True)\n",
    "    temp.eval('jet_qtnormept= jet_qt/e_pt', inplace=True)\n",
    "    if(isMC):\n",
    "        temp.eval('genjet_qtnormept= genjet_qt/e_pt', inplace=True)\n",
    "        temp.eval('genjet_qtnormjetpt= genjet_qt/genjet_pt', inplace=True)\n",
    "\n",
    "\n",
    "    #df = applyCut(df, 'n_total>1', ' n>1')\n",
    "    return temp"
   ]
  },
  {
   "cell_type": "code",
   "execution_count": 9,
   "metadata": {},
   "outputs": [
    {
     "name": "stdout",
     "output_type": "stream",
     "text": [
      "\n",
      "Processed data.root in 0.3 seconds\n",
      "0.2 < y < 0.7 170849  fraction kept: 100.0\n",
      "Q2>150 170849  fraction kept: 100.0\n",
      "e_pt >10 137246  fraction kept: 80.3\n",
      "\n",
      "Processed mc.root in 0.1 seconds\n",
      "0.2 < y < 0.7 118567  fraction kept: 100.0\n",
      "Q2>150 118567  fraction kept: 100.0\n",
      "e_pt >10 97889  fraction kept: 82.6\n"
     ]
    }
   ],
   "source": [
    "df = getData(['data.root'])\n",
    "df = applyCuts(df)\n",
    "\n",
    "mc = getData(['mc.root'])\n",
    "mc = applyCuts(mc)"
   ]
  },
  {
   "cell_type": "code",
   "execution_count": 10,
   "metadata": {},
   "outputs": [
    {
     "name": "stdout",
     "output_type": "stream",
     "text": [
      "\n",
      "Processed data.root in 2.4 seconds\n",
      "0.2 < y < 0.7 82882  fraction kept: 100.0\n",
      "Q2>150 82882  fraction kept: 100.0\n",
      "e_pt >10 70103  fraction kept: 84.6\n",
      "jet_pt>5 70103  fraction kept: 100.0\n",
      "\n",
      "Processed mc.root in 3.2 seconds\n",
      "0.2 < y < 0.7 145313  fraction kept: 100.0\n",
      "Q2>150 145313  fraction kept: 100.0\n",
      "e_pt >10 125072  fraction kept: 86.1\n",
      "jet_pt>5 125072  fraction kept: 100.0\n"
     ]
    }
   ],
   "source": [
    "df_jet      = getJetData(['data.root'])\n",
    "df_jet = applyCutsJets(df_jet)\n",
    "\n",
    "mc_jet = getJetData(['mc.root'],isMC=True)\n",
    "mc_jet = applyCutsJets(mc_jet, isMC=True)"
   ]
  },
  {
   "cell_type": "code",
   "execution_count": 11,
   "metadata": {},
   "outputs": [],
   "source": [
    "coarsebins = 10\n",
    "finebins = 10\n",
    "#minval = 2.5\n",
    "#maxval = np.pi\n",
    "#variable    = 'jet_dphi' \n",
    "#genvariable = 'genjet_dphi'\n",
    "\n",
    "#minval = 0.0\n",
    "#maxval = 10\n",
    "#variable = 'jet_qt'\n",
    "#genvariable = 'genjet_qt'\n",
    "\n",
    "#minval = 0.0 \n",
    "#maxval = 1.0\n",
    "#variable = 'jet_qtnormept'\n",
    "#genvariable = 'genjet_qtnormept'\n",
    "\n",
    "minval = 0.0\n",
    "maxval = 0.50\n",
    "variable = 'jet_qtnormjetpt'\n",
    "genvariable = 'genjet_qtnormjetpt'\n",
    "\n",
    "\n",
    "\n",
    "M = ROOT.TH2D(\"M\", \"Response Matrix\", coarsebins,minval,maxval, finebins,minval,maxval)\n",
    "M1 = M.Clone(\"M1\")\n",
    "M2 = M.Clone(\"M2\")\n",
    "M1.SetTitle(\"+1#sigma\")\n",
    "M2.SetTitle(\"-1#sigma\")\n",
    "\n",
    "scaleup = 1.001\n",
    "scaledn = 0.999\n",
    "\n",
    "eptmin = 15\n",
    "eptmax = 20"
   ]
  },
  {
   "cell_type": "code",
   "execution_count": 12,
   "metadata": {},
   "outputs": [
    {
     "name": "stdout",
     "output_type": "stream",
     "text": [
      "29316\n",
      "14819\n",
      "14497\n"
     ]
    }
   ],
   "source": [
    "data_cut = df_jet.query('e_pt > %2.2f and e_pt<%2.2f'%(eptmin,eptmax))\n",
    "mc_cut = mc_jet.query('e_pt > %2.2f and e_pt<%2.2f'%(eptmin,eptmax))\n",
    "print len(mc_cut)\n",
    "msk = np.random.rand(len(mc_cut)) < 0.5\n",
    "mctest_cut = mc_cut[msk]\n",
    "mc_cut   = mc_cut[~msk]\n",
    "print len(mctest_cut)\n",
    "print len(mc_cut)"
   ]
  },
  {
   "cell_type": "code",
   "execution_count": 13,
   "metadata": {},
   "outputs": [
    {
     "data": {
      "text/plain": [
       "<function matplotlib.pyplot.hist>"
      ]
     },
     "execution_count": 13,
     "metadata": {},
     "output_type": "execute_result"
    },
    {
     "data": {
      "image/png": "[encoded data removed]",
      "text/plain": [
       "<matplotlib.figure.Figure at 0x7f34240deb50>"
      ]
     },
     "metadata": {
      "needs_background": "light"
     },
     "output_type": "display_data"
    }
   ],
   "source": [
    "plt.hist(data_cut[variable],range=(0,1),bins=50,normed=True)\n",
    "plt.hist(mc_cut[variable],range=(0,1),bins=50,normed=True,alpha=0.5)\n",
    "plt.hist(mc_cut[genvariable],range=(0,1),bins=50, normed=True,alpha=0.5)\n",
    "\n",
    "plt.hist"
   ]
  },
  {
   "cell_type": "code",
   "execution_count": 14,
   "metadata": {},
   "outputs": [
    {
     "data": {
      "text/plain": [
       "(array([2.18029821, 4.47808398, 3.52914564, 2.41301415, 1.89109817,\n",
       "        1.47763182, 1.26299187, 1.07546292, 0.83371019, 0.85856283]),\n",
       " array([0.  , 0.05, 0.1 , 0.15, 0.2 , 0.25, 0.3 , 0.35, 0.4 , 0.45, 0.5 ],\n",
       "       dtype=float32),\n",
       " <a list of 10 Patch objects>)"
      ]
     },
     "execution_count": 14,
     "metadata": {},
     "output_type": "execute_result"
    },
    {
     "data": {
      "image/png": "[encoded data removed]",
      "text/plain": [
       "<matplotlib.figure.Figure at 0x7f341bb1c690>"
      ]
     },
     "metadata": {
      "needs_background": "light"
     },
     "output_type": "display_data"
    }
   ],
   "source": [
    "plt.hist(data_cut[variable],range=(0,maxval),bins=coarsebins,normed=True)\n",
    "plt.hist(mc_cut[variable],range=(0,maxval),bins=coarsebins,normed=True,alpha=0.5)\n",
    "plt.hist(mc_cut[genvariable],range=(0,maxval),bins=coarsebins, normed=True,alpha=0.5)\n"
   ]
  },
  {
   "cell_type": "code",
   "execution_count": 15,
   "metadata": {},
   "outputs": [],
   "source": [
    "Npe = len(mc_cut[variable])\n",
    "\n",
    "for i in np.arange(len(mc_cut[variable])):\n",
    "    x = mc_cut.iloc[i][variable]\n",
    "    y = mc_cut.iloc[i][genvariable]\n",
    "    M.Fill(x, y, 1./Npe)\n",
    "#\n",
    "#plt.hist(df_cut['jet_qt'],bins=10,range=(0,10.0),normed=True,alpha=0.9, label='MC reco',histtype='step',lw=2)\n"
   ]
  },
  {
   "cell_type": "code",
   "execution_count": 16,
   "metadata": {},
   "outputs": [
    {
     "data": {
      "image/png": "[encoded data removed]",
      "text/plain": [
       "<IPython.core.display.Image object>"
      ]
     },
     "metadata": {},
     "output_type": "display_data"
    }
   ],
   "source": [
    "ROOT.gStyle.SetOptStat(\"\")\n",
    "ROOT.gStyle.SetPalette(ROOT.kViridis);\n",
    "ROOT.gStyle.SetTitleYOffset(0.85)\n",
    "ROOT.gStyle.SetEndErrorSize(10)\n",
    "\n",
    "\n",
    "c0 = ROOT.TCanvas(\"c0\", \"c0\", 1800, 600)\n",
    "c0.Divide(3,1)\n",
    "c0.cd(1)\n",
    "M.Draw(\"colz\")\n",
    "c0.Draw()"
   ]
  },
  {
   "cell_type": "code",
   "execution_count": 17,
   "metadata": {},
   "outputs": [],
   "source": [
    "h_mcreco = ROOT.TH1D(\"h_mcreco\", \"h_mcreco\", finebins, minval, maxval)\n",
    "h_mctrue = ROOT.TH1D(\"h_mctrue\", \"h_mctrue\", finebins, minval, maxval)\n",
    "\n",
    "   \n",
    "for i in np.arange(len(mc_cut[variable])):\n",
    "    h_mctrue.Fill(mc_cut.iloc[i][genvariable])\n",
    "    h_mcreco.Fill(mc_cut.iloc[i][variable])\n"
   ]
  },
  {
   "cell_type": "code",
   "execution_count": 18,
   "metadata": {},
   "outputs": [],
   "source": [
    "h_fakedata = ROOT.TH1D(\"h_fakedata\", \"h_fakedata\", finebins, minval, maxval)   \n",
    "    \n",
    "for i in np.arange(len(mctest_cut[variable])):\n",
    "    h_fakedata.Fill(mctest_cut.iloc[i][variable])\n",
    "    \n",
    "    \n",
    "    \n",
    "h_data = ROOT.TH1D(\"h_data\", \"h_data\", finebins, minval, maxval)   \n",
    "for i in np.arange(len(data_cut[variable])):\n",
    "    h_data.Fill(data_cut.iloc[i][variable])"
   ]
  },
  {
   "cell_type": "code",
   "execution_count": 19,
   "metadata": {},
   "outputs": [
    {
     "data": {
      "image/png": "[encoded data removed]",
      "text/plain": [
       "<IPython.core.display.Image object>"
      ]
     },
     "metadata": {},
     "output_type": "display_data"
    }
   ],
   "source": [
    "#h_mcreco.SetMarkerStyle(20)\n",
    "h_data.SetMarkerStyle(20)\n",
    "h_data.SetMarkerColor(ROOT.kBlack)\n",
    "#h_mctrue.SetMarkerStyle(21)\n",
    "h_fakedata.SetMarkerColor(ROOT.kRed)\n",
    "h_mctrue.SetLineColor(ROOT.kBlue)\n",
    "h_mcreco.SetLineColor(ROOT.kRed)\n",
    "#h_fakedata.SetLineColor(ROOT.kBlue)\n",
    "#h_mctrue.SetLineColor(ROOT.kRed)\n",
    "\n",
    "creco = ROOT.TCanvas(\"creco\", \"creco\", 600, 600)\n",
    "h_mctrue.DrawNormalized()\n",
    "h_mcreco.DrawNormalized('same')\n",
    "h_fakedata.DrawNormalized(\"e same\")\n",
    "h_data.DrawNormalized(\"e same\")\n",
    "\n",
    "creco.Draw()\n",
    "\n",
    "ROOT.gStyle.SetOptStat(\"\")\n",
    "\n",
    "\n",
    "leg1 = ROOT.TLegend(0.7,0.7,0.86, 0.86)\n",
    "leg1.SetBorderSize(0)\n",
    "leg1.SetFillColor(0)\n",
    "leg1.AddEntry( h_mcreco, 'MC Reco', 'p')\n",
    "leg1.AddEntry(h_data, 'Data','p')\n",
    "leg1.AddEntry(h_fakedata, 'Pseudo Data', 'p')\n",
    "leg1.AddEntry( h_mctrue, 'MC True', 'p')\n",
    "leg1.Draw()"
   ]
  },
  {
   "cell_type": "code",
   "execution_count": 20,
   "metadata": {},
   "outputs": [
    {
     "name": "stderr",
     "output_type": "stream",
     "text": [
      "/mnt/c/Users/marratia/Linux/buildroot/lib/ROOT.py:579: UserWarning: \"from ROOT import *\" is not supported under IPython\n",
      "  warnings.warn( '\"from ROOT import *\" is not supported under IPython' )\n"
     ]
    }
   ],
   "source": [
    "import ROOT\n",
    "ROOT.gSystem.Load(\"/mnt/c/Users/marratia/Linux/RooUnfold/libRooUnfold\")\n",
    "from ROOT import gRandom, TH1, TH1D, TH2D, cout, THStack\n",
    "#for unfolding\n",
    "from ROOT import RooUnfoldResponse\n",
    "from ROOT import RooUnfold\n",
    "from ROOT import RooUnfoldBayes\n",
    "from ROOT import RooUnfoldSvd\n",
    "from ROOT import RooUnfoldTUnfold\n",
    "from ROOT import RooUnfoldBinByBin\n",
    "from ROOT import RooUnfoldIds\n",
    "\n",
    "from AtlasCommonUtils import SetAtlasStyle\n",
    "from Legend import Legend\n",
    "from ROOT import TLatex"
   ]
  },
  {
   "cell_type": "code",
   "execution_count": 21,
   "metadata": {},
   "outputs": [],
   "source": [
    "responseMatrix = M"
   ]
  },
  {
   "cell_type": "code",
   "execution_count": 22,
   "metadata": {},
   "outputs": [
    {
     "data": {
      "image/png": "[encoded data removed]",
      "text/plain": [
       "<IPython.core.display.Image object>"
      ]
     },
     "metadata": {},
     "output_type": "display_data"
    }
   ],
   "source": [
    "mc_truth = responseMatrix.ProjectionY()\n",
    "mc_reco = responseMatrix.ProjectionX()\n",
    "mc_truth.SetLineColorAlpha(2,0.8)\n",
    "mc_reco.SetLineColorAlpha(4,0.8)\n",
    "\n",
    "##draw mc truth, mc reco, response matrix\n",
    "c = ROOT.TCanvas('c','c',1600,600)\n",
    "c.Divide(2)\n",
    "c.cd(1)\n",
    "responseMatrix.Draw('colz')\n",
    "responseMatrix.SetTitle('Response Matrix; Reconstructed; True')\n",
    "\n",
    "#ROOT.gPad.SetLogz()\n",
    "c.cd(2)\n",
    "\n",
    "\n",
    "label = Legend(\"\")\n",
    "label.Add(mc_reco,'MC Reco','L')\n",
    "label.Add(mc_truth,'MC True','L')\n",
    "\n",
    "hs_mc = ROOT.THStack()\n",
    "hs_mc.Add(mc_reco)\n",
    "hs_mc.Add(mc_truth)\n",
    "hs_mc.Draw('nostack')\n",
    "#hs_mc.SetTitle(axestitle[variable])\n",
    "\n",
    "label.Draw(0.65,.87)\n",
    "c.Draw()"
   ]
  },
  {
   "cell_type": "code",
   "execution_count": null,
   "metadata": {},
   "outputs": [],
   "source": []
  },
  {
   "cell_type": "code",
   "execution_count": 23,
   "metadata": {},
   "outputs": [
    {
     "name": "stdout",
     "output_type": "stream",
     "text": [
      "Now unfolding...\n",
      "Iteration : 0\n",
      "Chi^2 of change 1.23704\n",
      "Iteration : 1\n",
      "Chi^2 of change 0.753825\n",
      "Iteration : 2\n",
      "Chi^2 of change 0.54281\n",
      "Iteration : 3\n",
      "Chi^2 of change 0.42954\n",
      "Calculating covariances due to number of measured events\n",
      "Calculating covariance due to unfolding matrix...\n"
     ]
    }
   ],
   "source": [
    "#data_inputforunfolding = h_data.Clone()\n",
    "data_inputforunfolding = h_fakedata.Clone()\n",
    "\n",
    "response= RooUnfoldResponse(mc_reco, mc_truth, responseMatrix,\"response\",\"response\")\n",
    "#response.UseOverflow()\n",
    "\n",
    "data_unfolded = {}\n",
    "ErrorMatrices = {}\n",
    "unfold = {}\n",
    "\n",
    "nbayes_iter = 4\n",
    "unfold['Bayes'] =  RooUnfoldBayes(response, data_inputforunfolding, nbayes_iter)\n",
    "unfold['Bayes'].IncludeSystematics()\n",
    "\n",
    "\n",
    "data_unfolded['Bayes'] = unfold['Bayes'].Hreco();\n",
    "ErrorMatrices['Bayes'] = unfold['Bayes'].Ereco();\n"
   ]
  },
  {
   "cell_type": "code",
   "execution_count": 24,
   "metadata": {},
   "outputs": [
    {
     "name": "stdout",
     "output_type": "stream",
     "text": [
      "%%%%%%%%%%%%%%%%%%%%%%  Bayes\n",
      "9334.96927777\n",
      "Option 1: use errors propagated through the unfolding\n",
      "6463.36738923\n",
      "Option 2: use covariance matrix returned from unfolding\n",
      "4079.8921725\n",
      "Option 3: use covariance matrix from the variation of the results in toy MC tests\n",
      "4183.87109761\n",
      "covariance matrix condition=294.592, determinant=7.34341e+27, tolerance=2.22045e-16\n",
      "Inverse covariance matrix 1.42109e-12% maximum error\n",
      "Now unfolding...\n",
      "Iteration : 0\n",
      "Chi^2 of change 1.33599\n",
      "Iteration : 1\n",
      "Chi^2 of change 0.639308\n",
      "Iteration : 2\n",
      "Chi^2 of change 0.388404\n",
      "Iteration : 3\n",
      "Chi^2 of change 0.282045\n",
      "Now unfolding...\n",
      "Iteration : 0\n",
      "Chi^2 of change 1.90268\n",
      "Iteration : 1\n",
      "Chi^2 of change 0.93738\n",
      "Iteration : 2\n",
      "Chi^2 of change 0.540065\n",
      "Iteration : 3\n",
      "Chi^2 of change 0.356586\n",
      "Now unfolding...\n",
      "Iteration : 0\n",
      "Chi^2 of change 0.441661\n",
      "Iteration : 1\n",
      "Chi^2 of change 0.316836\n",
      "Iteration : 2\n",
      "Chi^2 of change 0.261768\n",
      "Iteration : 3\n",
      "Chi^2 of change 0.230557\n",
      "Now unfolding...\n",
      "Iteration : 0\n",
      "Chi^2 of change 1.59989\n",
      "Iteration : 1\n",
      "Chi^2 of change 1.12931\n",
      "Iteration : 2\n",
      "Chi^2 of change 0.863211\n",
      "Iteration : 3\n",
      "Chi^2 of change 0.689392\n",
      "Now unfolding...\n",
      "Iteration : 0\n",
      "Chi^2 of change 0.942611\n",
      "Iteration : 1\n",
      "Chi^2 of change 0.713694\n",
      "Iteration : 2\n",
      "Chi^2 of change 0.55982\n",
      "Iteration : 3\n",
      "Chi^2 of change 0.451711\n",
      "Now unfolding...\n",
      "Iteration : 0\n",
      "Chi^2 of change 0.718478\n",
      "Iteration : 1\n",
      "Chi^2 of change 0.58515\n",
      "Iteration : 2\n",
      "Chi^2 of change 0.489626\n",
      "Iteration : 3\n",
      "Chi^2 of change 0.419605\n",
      "Now unfolding...\n",
      "Iteration : 0\n",
      "Chi^2 of change 2.58608\n",
      "Iteration : 1\n",
      "Chi^2 of change 1.57908\n",
      "Iteration : 2\n",
      "Chi^2 of change 1.12875\n",
      "Iteration : 3\n",
      "Chi^2 of change 0.887925\n",
      "Now unfolding...\n",
      "Iteration : 0\n",
      "Chi^2 of change 2.00255\n",
      "Iteration : 1\n",
      "Chi^2 of change 1.4545\n",
      "Iteration : 2\n",
      "Chi^2 of change 1.07868\n",
      "Iteration : 3\n",
      "Chi^2 of change 0.81344\n",
      "Now unfolding...\n",
      "Iteration : 0\n",
      "Chi^2 of change 3.52589\n",
      "Iteration : 1\n",
      "Chi^2 of change 2.53831\n",
      "Iteration : 2\n",
      "Chi^2 of change 1.96583\n",
      "Iteration : 3\n",
      "Chi^2 of change 1.58565\n",
      "Now unfolding...\n",
      "Iteration : 0\n",
      "Chi^2 of change 0.848766\n",
      "Iteration : 1\n",
      "Chi^2 of change 0.478638\n",
      "Iteration : 2\n",
      "Chi^2 of change 0.317426\n",
      "Iteration : 3\n",
      "Chi^2 of change 0.234763\n",
      "Now unfolding...\n",
      "Iteration : 0\n",
      "Chi^2 of change 2.13044\n",
      "Iteration : 1\n",
      "Chi^2 of change 1.48288\n",
      "Iteration : 2\n",
      "Chi^2 of change 1.10739\n",
      "Iteration : 3\n",
      "Chi^2 of change 0.861085\n",
      "Now unfolding...\n",
      "Iteration : 0\n",
      "Chi^2 of change 1.32756\n",
      "Iteration : 1\n",
      "Chi^2 of change 0.840147\n",
      "Iteration : 2\n",
      "Chi^2 of change 0.59237\n",
      "Iteration : 3\n",
      "Chi^2 of change 0.442528\n",
      "Now unfolding...\n",
      "Iteration : 0\n",
      "Chi^2 of change 2.98543\n",
      "Iteration : 1\n",
      "Chi^2 of change 1.74148\n",
      "Iteration : 2\n",
      "Chi^2 of change 1.21691\n",
      "Iteration : 3\n",
      "Chi^2 of change 0.950009\n",
      "Now unfolding...\n",
      "Iteration : 0\n",
      "Chi^2 of change 3.15387\n",
      "Iteration : 1\n",
      "Chi^2 of change 1.64135\n",
      "Iteration : 2\n",
      "Chi^2 of change 1.0383\n",
      "Iteration : 3\n",
      "Chi^2 of change 0.758876\n",
      "Now unfolding...\n",
      "Iteration : 0\n",
      "Chi^2 of change 0.489137\n",
      "Iteration : 1\n",
      "Chi^2 of change 0.376093\n",
      "Iteration : 2\n",
      "Chi^2 of change 0.297414\n",
      "Iteration : 3\n",
      "Chi^2 of change 0.242002\n",
      "Now unfolding...\n",
      "Iteration : 0\n",
      "Chi^2 of change 3.30915\n",
      "Iteration : 1\n",
      "Chi^2 of change 1.79835\n",
      "Iteration : 2\n",
      "Chi^2 of change 1.18945\n",
      "Iteration : 3\n",
      "Chi^2 of change 0.900589\n",
      "Now unfolding...\n",
      "Iteration : 0\n",
      "Chi^2 of change 1.75141\n",
      "Iteration : 1\n",
      "Chi^2 of change 1.12728\n",
      "Iteration : 2\n",
      "Chi^2 of change 0.779875\n",
      "Iteration : 3\n",
      "Chi^2 of change 0.562556\n",
      "Now unfolding...\n",
      "Iteration : 0\n",
      "Chi^2 of change 1.6389\n",
      "Iteration : 1\n",
      "Chi^2 of change 1.21563\n",
      "Iteration : 2\n",
      "Chi^2 of change 0.917101\n",
      "Iteration : 3\n",
      "Chi^2 of change 0.704342\n",
      "Now unfolding...\n",
      "Iteration : 0\n",
      "Chi^2 of change 1.00376\n",
      "Iteration : 1\n",
      "Chi^2 of change 0.681705\n",
      "Iteration : 2\n",
      "Chi^2 of change 0.525988\n",
      "Iteration : 3\n",
      "Chi^2 of change 0.433962\n",
      "Now unfolding...\n",
      "Iteration : 0\n",
      "Chi^2 of change 1.00791\n",
      "Iteration : 1\n",
      "Chi^2 of change 0.642353\n",
      "Iteration : 2\n",
      "Chi^2 of change 0.489335\n",
      "Iteration : 3\n",
      "Chi^2 of change 0.405127\n",
      "Now unfolding...\n",
      "Iteration : 0\n",
      "Chi^2 of change 0.927501\n",
      "Iteration : 1\n",
      "Chi^2 of change 0.727134\n",
      "Iteration : 2\n",
      "Chi^2 of change 0.612513\n",
      "Iteration : 3\n",
      "Chi^2 of change 0.534715\n",
      "Now unfolding...\n",
      "Iteration : 0\n",
      "Chi^2 of change 2.62449\n",
      "Iteration : 1\n",
      "Chi^2 of change 1.49798\n",
      "Iteration : 2\n",
      "Chi^2 of change 1.04399\n",
      "Iteration : 3\n",
      "Chi^2 of change 0.823664\n",
      "Now unfolding...\n",
      "Iteration : 0\n",
      "Chi^2 of change 1.5003\n",
      "Iteration : 1\n",
      "Chi^2 of change 0.713433\n",
      "Iteration : 2\n",
      "Chi^2 of change 0.424574\n",
      "Iteration : 3\n",
      "Chi^2 of change 0.302988\n",
      "Now unfolding...\n",
      "Iteration : 0\n",
      "Chi^2 of change 1.53051\n",
      "Iteration : 1\n",
      "Chi^2 of change 0.552779\n",
      "Iteration : 2\n",
      "Chi^2 of change 0.244318\n",
      "Iteration : 3\n",
      "Chi^2 of change 0.145943\n",
      "Now unfolding...\n",
      "Iteration : 0\n",
      "Chi^2 of change 1.45711\n",
      "Iteration : 1\n",
      "Chi^2 of change 1.02981\n",
      "Iteration : 2\n",
      "Chi^2 of change 0.770971\n",
      "Iteration : 3\n",
      "Chi^2 of change 0.599053\n",
      "Now unfolding...\n",
      "Iteration : 0\n",
      "Chi^2 of change 4.32432\n",
      "Iteration : 1\n",
      "Chi^2 of change 2.10276\n",
      "Iteration : 2\n",
      "Chi^2 of change 1.27635\n",
      "Iteration : 3\n",
      "Chi^2 of change 0.910305\n",
      "Now unfolding...\n",
      "Iteration : 0\n",
      "Chi^2 of change 3.94219\n",
      "Iteration : 1\n",
      "Chi^2 of change 1.63151\n",
      "Iteration : 2\n",
      "Chi^2 of change 0.831589\n",
      "Iteration : 3\n",
      "Chi^2 of change 0.532622\n",
      "Now unfolding...\n",
      "Iteration : 0\n",
      "Chi^2 of change 1.27845\n",
      "Iteration : 1\n",
      "Chi^2 of change 0.724556\n",
      "Iteration : 2\n",
      "Chi^2 of change 0.482455\n",
      "Iteration : 3\n",
      "Chi^2 of change 0.360392\n",
      "Now unfolding...\n",
      "Iteration : 0\n",
      "Chi^2 of change 1.82215\n",
      "Iteration : 1\n",
      "Chi^2 of change 1.55327\n",
      "Iteration : 2\n",
      "Chi^2 of change 1.33632\n",
      "Iteration : 3\n",
      "Chi^2 of change 1.15973\n",
      "Now unfolding...\n",
      "Iteration : 0\n",
      "Chi^2 of change 1.50546\n",
      "Iteration : 1\n",
      "Chi^2 of change 1.16112\n",
      "Iteration : 2\n",
      "Chi^2 of change 0.912434\n",
      "Iteration : 3\n",
      "Chi^2 of change 0.726861\n",
      "Now unfolding...\n",
      "Iteration : 0\n",
      "Chi^2 of change 1.76054\n",
      "Iteration : 1\n",
      "Chi^2 of change 1.24917\n",
      "Iteration : 2\n",
      "Chi^2 of change 0.969676\n",
      "Iteration : 3\n",
      "Chi^2 of change 0.789797\n",
      "Now unfolding...\n",
      "Iteration : 0\n",
      "Chi^2 of change 2.21074\n",
      "Iteration : 1\n",
      "Chi^2 of change 1.35842\n",
      "Iteration : 2\n",
      "Chi^2 of change 0.984694\n",
      "Iteration : 3\n",
      "Chi^2 of change 0.786409\n",
      "Now unfolding...\n",
      "Iteration : 0\n",
      "Chi^2 of change 1.87531\n",
      "Iteration : 1\n",
      "Chi^2 of change 0.835531\n",
      "Iteration : 2\n",
      "Chi^2 of change 0.459743\n",
      "Iteration : 3\n",
      "Chi^2 of change 0.308671\n",
      "Now unfolding...\n",
      "Iteration : 0\n",
      "Chi^2 of change 1.80884\n",
      "Iteration : 1\n",
      "Chi^2 of change 1.07126\n",
      "Iteration : 2\n",
      "Chi^2 of change 0.713157\n",
      "Iteration : 3\n",
      "Chi^2 of change 0.508619\n",
      "Now unfolding...\n",
      "Iteration : 0\n",
      "Chi^2 of change 1.93685\n",
      "Iteration : 1\n",
      "Chi^2 of change 1.13398\n",
      "Iteration : 2\n",
      "Chi^2 of change 0.802777\n",
      "Iteration : 3\n",
      "Chi^2 of change 0.644066\n",
      "Now unfolding...\n",
      "Iteration : 0\n",
      "Chi^2 of change 0.487563\n",
      "Iteration : 1\n",
      "Chi^2 of change 0.384628\n",
      "Iteration : 2\n",
      "Chi^2 of change 0.313621\n",
      "Iteration : 3\n",
      "Chi^2 of change 0.262148\n",
      "Now unfolding...\n",
      "Iteration : 0\n",
      "Chi^2 of change 2.15301\n",
      "Iteration : 1\n",
      "Chi^2 of change 1.08973\n",
      "Iteration : 2\n",
      "Chi^2 of change 0.694601\n",
      "Iteration : 3\n",
      "Chi^2 of change 0.527532\n",
      "Now unfolding...\n",
      "Iteration : 0\n",
      "Chi^2 of change 2.14233\n",
      "Iteration : 1\n",
      "Chi^2 of change 1.64126\n",
      "Iteration : 2\n",
      "Chi^2 of change 1.2735\n",
      "Iteration : 3\n",
      "Chi^2 of change 0.998321\n",
      "Now unfolding...\n",
      "Iteration : 0\n",
      "Chi^2 of change 1.33642\n",
      "Iteration : 1\n",
      "Chi^2 of change 0.652602\n",
      "Iteration : 2\n",
      "Chi^2 of change 0.415979\n",
      "Iteration : 3\n",
      "Chi^2 of change 0.323122\n",
      "Now unfolding...\n",
      "Iteration : 0\n",
      "Chi^2 of change 1.85501\n",
      "Iteration : 1\n",
      "Chi^2 of change 1.39228\n",
      "Iteration : 2\n",
      "Chi^2 of change 1.06932\n",
      "Iteration : 3\n",
      "Chi^2 of change 0.840521\n",
      "Now unfolding...\n",
      "Iteration : 0\n",
      "Chi^2 of change 10.0875\n",
      "Iteration : 1\n",
      "Chi^2 of change 4.33313\n",
      "Iteration : 2\n",
      "Chi^2 of change 2.27261\n",
      "Iteration : 3\n",
      "Chi^2 of change 1.47619\n",
      "Now unfolding...\n",
      "Iteration : 0\n",
      "Chi^2 of change 2.09458\n",
      "Iteration : 1\n",
      "Chi^2 of change 1.819\n",
      "Iteration : 2\n",
      "Chi^2 of change 1.57805\n",
      "Iteration : 3\n",
      "Chi^2 of change 1.36852\n",
      "Now unfolding...\n",
      "Iteration : 0\n",
      "Chi^2 of change 2.18347\n",
      "Iteration : 1\n",
      "Chi^2 of change 1.64253\n",
      "Iteration : 2\n",
      "Chi^2 of change 1.27177\n",
      "Iteration : 3\n",
      "Chi^2 of change 1.00537\n",
      "Now unfolding...\n",
      "Iteration : 0\n",
      "Chi^2 of change 2.03089\n",
      "Iteration : 1\n",
      "Chi^2 of change 1.06009\n",
      "Iteration : 2\n",
      "Chi^2 of change 0.683796\n",
      "Iteration : 3\n",
      "Chi^2 of change 0.517254\n",
      "Now unfolding...\n",
      "Iteration : 0\n",
      "Chi^2 of change 1.69098\n",
      "Iteration : 1\n",
      "Chi^2 of change 1.23879\n",
      "Iteration : 2\n",
      "Chi^2 of change 0.945062\n",
      "Iteration : 3\n",
      "Chi^2 of change 0.744572\n",
      "Now unfolding...\n",
      "Iteration : 0\n",
      "Chi^2 of change 2.41591\n",
      "Iteration : 1\n",
      "Chi^2 of change 1.20351\n",
      "Iteration : 2\n",
      "Chi^2 of change 0.749247\n",
      "Iteration : 3\n",
      "Chi^2 of change 0.55123\n",
      "Now unfolding...\n",
      "Iteration : 0\n",
      "Chi^2 of change 0.675028\n",
      "Iteration : 1\n",
      "Chi^2 of change 0.38085\n",
      "Iteration : 2\n",
      "Chi^2 of change 0.262809\n",
      "Iteration : 3\n",
      "Chi^2 of change 0.206352\n",
      "Now unfolding...\n",
      "Iteration : 0\n",
      "Chi^2 of change 0.257323\n",
      "Iteration : 1\n",
      "Chi^2 of change 0.185234\n",
      "Iteration : 2\n",
      "Chi^2 of change 0.158504\n",
      "Iteration : 3\n",
      "Chi^2 of change 0.146376\n",
      "Now unfolding...\n",
      "Iteration : 0\n",
      "Chi^2 of change 1.67781\n",
      "Iteration : 1\n",
      "Chi^2 of change 0.787946\n",
      "Iteration : 2\n",
      "Chi^2 of change 0.469656\n",
      "Iteration : 3\n",
      "Chi^2 of change 0.340011\n",
      "Now unfolding...\n",
      "Iteration : 0\n",
      "Chi^2 of change 1.86733\n",
      "Iteration : 1\n",
      "Chi^2 of change 1.44689\n",
      "Iteration : 2\n",
      "Chi^2 of change 1.1442\n",
      "Iteration : 3\n",
      "Chi^2 of change 0.922352\n",
      "covariance matrix from toys condition=183.891, determinant=2.30046e+27, tolerance=2.22045e-16\n",
      "Inverse covariance matrix from toys 7.10543e-13% maximum error\n"
     ]
    }
   ],
   "source": [
    "for key in ['Bayes']:\n",
    "    print '%%%%%%%%%%%%%%%%%%%%%% ', key\n",
    "    print unfold[key].Chi2(mc_truth,0)\n",
    "    print 'Option 1: use errors propagated through the unfolding'\n",
    "    print unfold[key].Chi2(mc_truth,1)\n",
    "    print 'Option 2: use covariance matrix returned from unfolding'\n",
    "    print unfold[key].Chi2(mc_truth,2)\n",
    "    print 'Option 3: use covariance matrix from the variation of the results in toy MC tests'\n",
    "    print unfold[key].Chi2(mc_truth,3)"
   ]
  },
  {
   "cell_type": "code",
   "execution_count": 25,
   "metadata": {},
   "outputs": [
    {
     "name": "stderr",
     "output_type": "stream",
     "text": [
      "Warning in <TCanvas::Constructor>: Deleting canvas with same name: c\n"
     ]
    },
    {
     "data": {
      "image/png": "[encoded data removed]",
      "text/plain": [
       "<IPython.core.display.Image object>"
      ]
     },
     "metadata": {},
     "output_type": "display_data"
    }
   ],
   "source": [
    "c = ROOT.TCanvas('c','c',1200,400)\n",
    "\n",
    "c.Divide(3)\n",
    "c.cd(1)\n",
    "#print ErrorMatrices.GetMaximum()\n",
    "ErrorMatrices['Bayes'].Draw(\"colz\")\n",
    "#ErrorMatrices['Bayes'].GetXaxis().SetTitle('; bin reco bin truth')\n",
    "#c.cd(2)\n",
    "#ErrorMatrices['SVD'].Draw(\"colz\")\n",
    "#c.cd(3)\n",
    "#ErrorMatrices['IDS'].Draw(\"colz\")\n",
    "\n",
    "c.Draw()"
   ]
  },
  {
   "cell_type": "code",
   "execution_count": 26,
   "metadata": {},
   "outputs": [],
   "source": [
    "\n",
    "def GetCorrelationMatrix ( cov, name):\n",
    "\n",
    "    nrows= cov.GetNrows()\n",
    "    ncolumns = cov.GetNcols()\n",
    "    \n",
    "    h= ROOT.TH2D (name, \"\", nrows, 0, nrows, ncolumns, 0, ncolumns);\n",
    "    h.SetAxisRange (-1.0, 1.0, \"Z\")\n",
    "    for i in range(nrows) :\n",
    "        for j in range(ncolumns) :\n",
    "            Viijj= cov(i,i)*cov(j,j)\n",
    "            if Viijj>0.0: h.SetBinContent (i+1, j+1, cov(i,j)/ROOT.TMath.Sqrt(Viijj))\n",
    "            \n",
    "    return h"
   ]
  },
  {
   "cell_type": "code",
   "execution_count": 27,
   "metadata": {},
   "outputs": [
    {
     "name": "stderr",
     "output_type": "stream",
     "text": [
      "Warning in <TCanvas::Constructor>: Deleting canvas with same name: c\n"
     ]
    },
    {
     "data": {
      "image/png": "[encoded data removed]",
      "text/plain": [
       "<IPython.core.display.Image object>"
      ]
     },
     "metadata": {},
     "output_type": "display_data"
    }
   ],
   "source": [
    "\n",
    "c = ROOT.TCanvas('c','c',900,600)\n",
    "correlation = {}\n",
    "\n",
    "correlation['Bayes'] = GetCorrelationMatrix(ErrorMatrices['Bayes'], 'Bayes')\n",
    "correlation['Bayes'].Draw('colz')\n",
    "#correlation['Bayes'].GetXaxis().SetRangeUser(1,7)\n",
    "#correlation['Bayes'].GetYaxis().SetRangeUser(1,7)\n",
    "correlation['Bayes'].GetXaxis().SetTitle('Bin number')\n",
    "correlation['Bayes'].GetYaxis().SetTitle('Bin number')\n",
    "correlation['Bayes'].SetTitle('Pearson Coefficients')\n",
    "\n",
    "c.Draw()"
   ]
  },
  {
   "cell_type": "code",
   "execution_count": 28,
   "metadata": {},
   "outputs": [
    {
     "name": "stdout",
     "output_type": "stream",
     "text": [
      "Bayes   1   0.025  0.100  0.004\n",
      "Bayes   2   0.075  0.212  0.006\n",
      "Bayes   3   0.125  0.185  0.005\n",
      "Bayes   4   0.175  0.126  0.004\n",
      "Bayes   5   0.225  0.096  0.003\n",
      "Bayes   6   0.275  0.074  0.003\n",
      "Bayes   7   0.325  0.065  0.003\n",
      "Bayes   8   0.375  0.055  0.003\n",
      "Bayes   9   0.425  0.042  0.003\n",
      "Bayes   10   0.475  0.044  0.005\n",
      "[0.025 0.075 0.125 0.175 0.225 0.275 0.325 0.375 0.425 0.475]\n",
      "[0.09963142 0.21211812 0.18530412 0.12638284 0.09613959 0.07387974\n",
      " 0.06481378 0.05542228 0.0421917  0.0441164 ]\n",
      "[0.00412458 0.00622541 0.00500525 0.00390925 0.00346649 0.00312259\n",
      " 0.00335387 0.00336521 0.00275012 0.00452781]\n"
     ]
    },
    {
     "name": "stderr",
     "output_type": "stream",
     "text": [
      "Warning in <TCanvas::Constructor>: Deleting canvas with same name: c\n"
     ]
    },
    {
     "data": {
      "image/png": "[encoded data removed]",
      "text/plain": [
       "<IPython.core.display.Image object>"
      ]
     },
     "metadata": {},
     "output_type": "display_data"
    }
   ],
   "source": [
    "c = ROOT.TCanvas('c','c',900,600)\n",
    "\n",
    "label = Legend(\"\")\n",
    "alpha = 0.7\n",
    "hstack = ROOT.THStack()\n",
    "h_data.SetLineWidth(2)\n",
    "h_data.SetLineColorAlpha(4,alpha)\n",
    "h_data.SetMarkerColor(4)\n",
    "mc_truth.SetLineColor(2)\n",
    "mc_truth.SetLineWidth(2)\n",
    "mc_truth.SetMarkerColor(2)\n",
    "\n",
    "h_data.SetMarkerStyle(20)\n",
    "\n",
    "color = {}\n",
    "color['Bayes'] = 1\n",
    "\n",
    "data_unfolded[key].Scale(1.0/data_unfolded[key].Integral())\n",
    "h_data.Scale(1.0/h_data.Integral())\n",
    "mc_truth.Scale(1.0/mc_truth.Integral())\n",
    "\n",
    "\n",
    "result_x = np.array([])\n",
    "result_y = np.array([])\n",
    "result_erry = np.array([])\n",
    "\n",
    "for key in ['Bayes']:\n",
    "    data_unfolded[key].SetMarkerStyle(20)\n",
    "    data_unfolded[key].SetLineWidth(2)\n",
    "    data_unfolded[key].SetLineColorAlpha(color[key],alpha)\n",
    "    data_unfolded[key].SetMarkerColor(color[key])\n",
    "    for i in range(1,data_unfolded[key].GetNbinsX()+1):\n",
    "        print key, ' ' , i , ' ', data_unfolded[key].GetBinCenter(i), ' %2.3f'%data_unfolded[key].GetBinContent(i), ' %2.3f'%data_unfolded[key].GetBinError(i)\n",
    "        result_x = np.append(result_x, data_unfolded[key].GetBinCenter(i))\n",
    "        result_y = np.append(result_y, data_unfolded[key].GetBinContent(i))\n",
    "        result_erry = np.append(result_erry, data_unfolded[key].GetBinError(i))\n",
    "hstack.Add(h_data)\n",
    "hstack.Add(mc_truth)\n",
    "hstack.Add(data_unfolded['Bayes'])\n",
    "label.Add(h_data, 'Raw data', 'L')\n",
    "label.Add(data_unfolded['Bayes'],'Data unfolded Bayes (%i iter)'%nbayes_iter,'L')      \n",
    "label.Add(mc_truth, 'MC truth', 'L')\n",
    "\n",
    "hstack.SetTitle('; variable; normalized entries')\n",
    "hstack.Draw('nostack')\n",
    "hstack.GetYaxis().SetNdivisions(6)\n",
    "label.Draw(.5,.85)\n",
    "\n",
    "c.Draw()\n",
    "print result_x\n",
    "print result_y\n",
    "print result_erry\n",
    "#c.SaveAs('Unfoldedresult%s.pdf'%(datatype))"
   ]
  },
  {
   "cell_type": "code",
   "execution_count": 29,
   "metadata": {},
   "outputs": [
    {
     "name": "stdout",
     "output_type": "stream",
     "text": [
      "17.127508  mean lepton pt\n",
      "0.37809396  mean inelasticity\n",
      "20.853493  mean jet p\n",
      "14.594749  mean jet pT\n",
      "count    29316.000000\n",
      "mean        14.594749\n",
      "std          5.786974\n",
      "min          5.000011\n",
      "25%         10.167954\n",
      "50%         14.656549\n",
      "75%         18.230238\n",
      "max         49.601570\n",
      "Name: jet_pt, dtype: float64\n",
      "0.0135342395  mean x\n",
      "500.09366  mean Q2\n",
      "count    29316.000000\n",
      "mean       500.093658\n",
      "std        153.255875\n",
      "min        281.785370\n",
      "25%        390.239647\n",
      "50%        465.341583\n",
      "75%        568.719543\n",
      "max       1287.933350\n",
      "Name: Q2, dtype: float64\n",
      "###########\n"
     ]
    },
    {
     "data": {
      "image/png": "[encoded data removed]",
      "text/plain": [
       "<matplotlib.figure.Figure at 0x7f3419ccc990>"
      ]
     },
     "metadata": {
      "needs_background": "light"
     },
     "output_type": "display_data"
    }
   ],
   "source": [
    "rc('text', usetex=True)\n",
    "\n",
    "\n",
    "fig = plt.figure(figsize=(8,6))\n",
    "\n",
    "\n",
    "df_cut = mc_jet.query('e_pt > %2.2f and e_pt<%2.2f'%(eptmin,eptmax))\n",
    "printSummary(df_cut)\n",
    "print '###########'\n",
    "    \n",
    "plt.hist(df_cut['genjet_qtnormjetpt'],bins=10,range=(0,0.5),normed=True,histtype='step',color='red',label='DJANGOH')    \n",
    "#width = (result_x[1:]-result_x[:-1])\n",
    "#result_y = np.divide(result_y,0.05)\n",
    "plt.errorbar(x=result_x,y=np.divide(result_y,0.05), yerr=np.divide(result_erry,0.05), fmt='o',ls='none',label='Data',color='black')\n",
    "\n",
    "plt.xlabel(r'$q_{T}/p_{\\mathrm{T}}^{jet}$', fontsize=25)\n",
    "plt.ylabel(r'$1/\\sigma \\times d\\sigma/d q_{T}/p_{\\mathrm{T}}^{jet}$ ', fontsize=25)\n",
    "#plt.tick_params('both',labelsize=20)\n",
    "\n",
    "plt.text(0.20,2.8, r' $ %2.0f< p_{\\mathrm{T}}^{e} < %2.0f$'%(eptmin,eptmax) + '$\\ \\mathrm{ GeV}$ \\n' +\n",
    "                      r'$\\langle x \\rangle = %2.2f, \\langle Q^{2} \\rangle = %2.0f \\ \\mathrm{GeV}^{2}$'%(df_cut['x'].mean(), df_cut['Q2'].mean()), fontsize=21)\n",
    "\n",
    "plt.legend(loc='best',frameon=False)\n",
    "plt.yticks(fontsize=20)\n",
    "plt.xticks(fontsize=20)\n",
    "\n",
    "plt.xlim(0,0.4)\n",
    "plt.legend(prop={'size': 20}, frameon=False, loc='best')\n",
    "#plt.legend(loc='best',frameon=False)\n",
    "plt.savefig('qtplot.png', bbox_inches='tight')\n",
    "plt.savefig('qtplot.pdf', bbox_inches='tight')"
   ]
  },
  {
   "cell_type": "markdown",
   "metadata": {},
   "source": [
    "## Closure test: feed pseudodata (MC) to the unfolding and test whether it is compatible with the truth distribution"
   ]
  },
  {
   "cell_type": "code",
   "execution_count": 36,
   "metadata": {},
   "outputs": [
    {
     "name": "stdout",
     "output_type": "stream",
     "text": [
      "Now unfolding...\n",
      "Iteration : 0\n",
      "Chi^2 of change 2.02592\n",
      "Iteration : 1\n",
      "Chi^2 of change 1.23455\n",
      "Iteration : 2\n",
      "Chi^2 of change 0.888965\n",
      "Calculating covariances due to number of measured events\n"
     ]
    }
   ],
   "source": [
    "#data_inputforunfolding = h_data.Clone()\n",
    "data_inputforunfolding = h_fakedata.Clone()\n",
    "\n",
    "response= RooUnfoldResponse(mc_reco, mc_truth, responseMatrix,\"response\",\"response\")\n",
    "#response.UseOverflow()\n",
    "\n",
    "nbayes_iter = 3\n",
    "closure = RooUnfoldBayes(response, data_inputforunfolding, nbayes_iter).Hreco();\n"
   ]
  },
  {
   "cell_type": "code",
   "execution_count": 37,
   "metadata": {},
   "outputs": [
    {
     "data": {
      "image/png": "[encoded data removed]",
      "text/plain": [
       "<IPython.core.display.Image object>"
      ]
     },
     "metadata": {},
     "output_type": "display_data"
    }
   ],
   "source": [
    "closure.Divide(mc_truth)\n",
    "c = ROOT.TCanvas()\n",
    "closure.Draw()\n",
    "c.Draw()"
   ]
  },
  {
   "cell_type": "code",
   "execution_count": null,
   "metadata": {},
   "outputs": [],
   "source": []
  }
 ],
 "metadata": {
  "kernelspec": {
   "display_name": "Python 2",
   "language": "python",
   "name": "python2"
  },
  "language_info": {
   "codemirror_mode": {
    "name": "ipython",
    "version": 2
   },
   "file_extension": ".py",
   "mimetype": "text/x-python",
   "name": "python",
   "nbconvert_exporter": "python",
   "pygments_lexer": "ipython2",
   "version": "2.7.12"
  }
 },
 "nbformat": 4,
 "nbformat_minor": 2
}
