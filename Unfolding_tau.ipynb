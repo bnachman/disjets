{
 "cells": [
  {
   "cell_type": "code",
   "execution_count": null,
   "metadata": {},
   "outputs": [],
   "source": [
    "import time\n",
    "import numpy as np\n",
    "import pandas as pd\n",
    "import matplotlib.pyplot as plt\n",
    "import matplotlib.ticker as mticker\n",
    "from matplotlib.colors import LogNorm\n",
    "from matplotlib import rc\n",
    "from numpy import inf\n",
    "import os\n",
    "\n",
    "\n",
    "import tensorflow as tf\n",
    "\n",
    "import uproot\n",
    "\n",
    "from AtlasCommonUtils import SetAtlasStyle\n",
    "\n",
    "rc('text', usetex=True)\n",
    "\n",
    "import matplotlib as mpl\n",
    "rc('font', family='serif')\n",
    "rc('text', usetex=True)\n",
    "rc('font', size=22)\n",
    "rc('xtick', labelsize=15)\n",
    "rc('ytick', labelsize=15)\n",
    "rc('legend', fontsize=15)\n",
    "\n",
    "#\n",
    "mpl.rcParams.update({'font.size': 19})\n",
    "#mpl.rcParams.update({'legend.fontsize': 18})\n",
    "mpl.rcParams.update({'xtick.labelsize': 18}) \n",
    "mpl.rcParams.update({'ytick.labelsize': 18}) \n",
    "mpl.rcParams.update({'text.usetex' : False})\n",
    "mpl.rcParams.update({'axes.labelsize': 18}) \n",
    "mpl.rcParams.update({'legend.frameon': False}) "
   ]
  },
  {
   "cell_type": "code",
   "execution_count": null,
   "metadata": {},
   "outputs": [],
   "source": [
    "\n",
    "gpu_options = tf.GPUOptions(per_process_gpu_memory_fraction=0.5)\n",
    "sess = tf.Session(config=tf.ConfigProto(gpu_options=gpu_options))"
   ]
  },
  {
   "cell_type": "code",
   "execution_count": null,
   "metadata": {},
   "outputs": [],
   "source": [
    "# Define default plot styles\n",
    "plot_style_0 = {\n",
    "    'histtype': 'step',\n",
    "    'color': 'black',\n",
    "    'linewidth': 2,\n",
    "    'linestyle': '--',\n",
    "    'density': True\n",
    "}\n",
    "\n",
    "plot_style_1 = {\n",
    "    'histtype': 'step',\n",
    "    'color': 'black',\n",
    "    'linewidth': 2,\n",
    "    'density': True\n",
    "}\n",
    "\n",
    "plot_style_2 = {'alpha': 0.5, 'density': True}"
   ]
  },
  {
   "cell_type": "code",
   "execution_count": null,
   "metadata": {},
   "outputs": [],
   "source": [
    "def applyCut(inputDataframe, cut, text=None):\n",
    "    dataframe = inputDataframe\n",
    "    nbeforecut = dataframe.shape[0]\n",
    "    cutDataframe = dataframe.query(cut)\n",
    "    if text:\n",
    "        print (text, cutDataframe.shape[0], ' fraction kept: %2.1f'%(100.0*float(cutDataframe.shape[0])/nbeforecut))\n",
    "    return cutDataframe"
   ]
  },
  {
   "cell_type": "code",
   "execution_count": null,
   "metadata": {},
   "outputs": [],
   "source": [
    "def getJetData(inputFiles, isMC=False):\n",
    "    \n",
    "    cols = []\n",
    "    scalar = []\n",
    "\n",
    "    scalar.append('x')\n",
    "    scalar.append('y')\n",
    "    scalar.append('Q2')\n",
    "    scalar.append('e_px')\n",
    "    scalar.append('e_py')\n",
    "    #scalar.append('tau1b')\n",
    "    cols.append('track_jt')\n",
    "    cols.append('track_z')\n",
    "\n",
    "    cols.append('track_jetpx')\n",
    "    cols.append('track_jetpy')\n",
    "    if(isMC):\n",
    "        scalar.append('gen_x')\n",
    "        scalar.append('gen_y')\n",
    "        #scalar.append('gen_tau1b')\n",
    "        scalar.append('gen_Q2')\n",
    "        scalar.append('gene_px')\n",
    "        scalar.append('gene_py')\n",
    "        cols.append('gen_track_jt')\n",
    "        cols.append('gen_track_z')\n",
    "        cols.append('gen_track_jetpx')\n",
    "        cols.append('gen_track_jetpy')\n",
    "    lists = scalar\n",
    "    dataframes = []\n",
    "    for inputFilename in inputFiles:\n",
    "        start = time.time()\n",
    "        df = read_root(inputFilename, columns=lists+cols,flatten=cols)\n",
    "        dataframes.append(df)\n",
    "        end = time.time()\n",
    "        print ('\\n', 'Processed', inputFilename, 'in',  '%2.1f'%(end-start), 'seconds')\n",
    "    return pd.concat([x for x in dataframes])"
   ]
  },
  {
   "cell_type": "code",
   "execution_count": 11,
   "metadata": {},
   "outputs": [],
   "source": [
    "def applyCutsJets(df,isMC=False):\n",
    "    temp = df\n",
    "    #temp = applyCut(temp, 'abs(vertex_z)<25 and vertex_z!=0','abs(vertex_z)<25 and and vertex_z!=0')\n",
    "    temp = applyCut(temp, '0.2 < y < 0.7', '0.2 < y < 0.7')\n",
    "    temp = applyCut(temp, 'Q2>150', 'Q2>150')\n",
    "    #temp = applyCut(temp, 'tau1b>0 and tau1b<1', '0<tau1b<1')\n",
    "    temp.eval('logQ2= log(Q2)/2.3025850', inplace=True)\n",
    "    temp.eval('track_jetpt = sqrt(track_jetpx*track_jetpx + track_jetpy*track_jetpy)', inplace=True)\n",
    "    temp.eval('track_jetqt = sqrt( (e_px+track_jetpx)**2 + (e_py+track_jetpy)**2)',inplace=True)\n",
    "    temp.eval('track_jetqtnorm = track_jetqt/sqrt(Q2)',inplace=True)\n",
    "    #temp = applyCut(temp, 'e_pt>15', 'e_pt >15')\n",
    "    #temp = applyCut(temp, 'jet_pt>10', 'jet_pt>10')\n",
    "   # temp = applyCut(temp, 'isBKG<1.0', 'isBKG')\n",
    "\n",
    "    #temp = applyCut(temp, 'jet_qt<5', 'jet_qt<5')\n",
    "\n",
    "    #temp = applyCut(temp, 'dphi_e_jet > 2.74', 'dphi_e_jet>3.14159-0.4')\n",
    "    temp = applyCut(temp, 'pass_reco==0 or track_jetpt >10.0', ' jet pt>10.0')\n",
    "    \n",
    "    #temp.eval('dphi = 3.14159-jet_dphi', inplace=True)\n",
    "    #temp.eval('jet_qtnormjetpt= jet_qt/jet_pt', inplace=True)\n",
    "    #temp.eval('jet_qtnormept= jet_qt/e_pt', inplace=True)\n",
    "    if(isMC):\n",
    "        temp.eval('gen_logQ2= log(gen_Q2)/2.3025850', inplace=True)\n",
    "        temp.eval('gen_track_jetpt = sqrt(gen_track_jetpx*gen_track_jetpx + gen_track_jetpy*gen_track_jetpy)', inplace=True)\n",
    "        temp.eval('gen_track_jetqt = sqrt( (gene_px+gen_track_jetpx)**2 + (gene_py+gen_track_jetpy)**2)',inplace=True)\n",
    "        temp.eval('gen_track_jetqtnorm = gen_track_jetqt/sqrt(gen_Q2)',inplace=True)\n",
    "    #    temp.eval('genjet_qtnormept= genjet_qt/e_pt', inplace=True)\n",
    "    #    temp.eval('genjet_qtnormjetpt= genjet_qt/genjet_pt', inplace=True)\n",
    "\n",
    "\n",
    "    #df = applyCut(df, 'n_total>1', ' n>1')\n",
    "    return temp"
   ]
  },
  {
   "cell_type": "markdown",
   "metadata": {},
   "source": [
    "## Get dataframes, apply selection"
   ]
  },
  {
   "cell_type": "code",
   "execution_count": 12,
   "metadata": {},
   "outputs": [],
   "source": [
    "path = '/home/marratia/data/'\n",
    "dataname = path+'data.root'\n",
    "mcname = path+'Django.root'\n",
    "altmcname = path+'Rapgap.root'"
   ]
  },
  {
   "cell_type": "code",
   "execution_count": 48,
   "metadata": {},
   "outputs": [],
   "source": [
    "datatree = uproot.open(dataname)['Data/minitree']\n"
   ]
  },
  {
   "cell_type": "code",
   "execution_count": 49,
   "metadata": {},
   "outputs": [
    {
     "name": "stdout",
     "output_type": "stream",
     "text": [
      "name                 | typename                 | interpretation                \n",
      "---------------------+--------------------------+-------------------------------\n",
      "x                    | float                    | AsDtype('>f4')\n",
      "y                    | float                    | AsDtype('>f4')\n",
      "Q2                   | float                    | AsDtype('>f4')\n",
      "gen_x                | float                    | AsDtype('>f4')\n",
      "gen_y                | float                    | AsDtype('>f4')\n",
      "gen_Q2               | float                    | AsDtype('>f4')\n",
      "tau1b                | float                    | AsDtype('>f4')\n",
      "gen_tau1b            | float                    | AsDtype('>f4')\n",
      "tauzQ                | float                    | AsDtype('>f4')\n",
      "gen_tauzQ            | float                    | AsDtype('>f4')\n",
      "vertex_z             | float                    | AsDtype('>f4')\n",
      "ptmiss               | float                    | AsDtype('>f4')\n",
      "ptratio              | float                    | AsDtype('>f4')\n",
      "acoplanarity         | float                    | AsDtype('>f4')\n",
      "Empz                 | float                    | AsDtype('>f4')\n",
      "e_px                 | float                    | AsDtype('>f4')\n",
      "e_py                 | float                    | AsDtype('>f4')\n",
      "e_pz                 | float                    | AsDtype('>f4')\n",
      "gene_px              | float                    | AsDtype('>f4')\n",
      "gene_py              | float                    | AsDtype('>f4')\n",
      "gene_pz              | float                    | AsDtype('>f4')\n",
      "njets                | float                    | AsDtype('>f4')\n",
      "n_total              | float                    | AsDtype('>f4')\n",
      "jet_pt               | std::vector<float>       | AsJagged(AsDtype('>f4'), he...\n",
      "genjet_pt            | std::vector<float>       | AsJagged(AsDtype('>f4'), he...\n",
      "jet_phi              | std::vector<float>       | AsJagged(AsDtype('>f4'), he...\n",
      "genjet_phi           | std::vector<float>       | AsJagged(AsDtype('>f4'), he...\n",
      "jet_eta              | std::vector<float>       | AsJagged(AsDtype('>f4'), he...\n",
      "genjet_eta           | std::vector<float>       | AsJagged(AsDtype('>f4'), he...\n",
      "jet_dphi             | float                    | AsDtype('>f4')\n",
      "track_z              | std::vector<float>       | AsJagged(AsDtype('>f4'), he...\n",
      "track_jt             | std::vector<float>       | AsJagged(AsDtype('>f4'), he...\n",
      "track_px             | std::vector<float>       | AsJagged(AsDtype('>f4'), he...\n",
      "track_py             | std::vector<float>       | AsJagged(AsDtype('>f4'), he...\n",
      "track_pz             | std::vector<float>       | AsJagged(AsDtype('>f4'), he...\n",
      "track_charge         | std::vector<int32_t>     | AsJagged(AsDtype('>i4'), he...\n",
      "track_jetpx          | std::vector<float>       | AsJagged(AsDtype('>f4'), he...\n",
      "track_jetpy          | std::vector<float>       | AsJagged(AsDtype('>f4'), he...\n",
      "track_jetpz          | std::vector<float>       | AsJagged(AsDtype('>f4'), he...\n",
      "gen_track_z          | std::vector<float>       | AsJagged(AsDtype('>f4'), he...\n",
      "gen_track_jt         | std::vector<float>       | AsJagged(AsDtype('>f4'), he...\n",
      "gen_track_px         | std::vector<float>       | AsJagged(AsDtype('>f4'), he...\n",
      "gen_track_py         | std::vector<float>       | AsJagged(AsDtype('>f4'), he...\n",
      "gen_track_pz         | std::vector<float>       | AsJagged(AsDtype('>f4'), he...\n",
      "gen_track_charge     | std::vector<int32_t>     | AsJagged(AsDtype('>i4'), he...\n",
      "gen_track_jetpx      | std::vector<float>       | AsJagged(AsDtype('>f4'), he...\n",
      "gen_track_jetpy      | std::vector<float>       | AsJagged(AsDtype('>f4'), he...\n",
      "gen_track_jetpz      | std::vector<float>       | AsJagged(AsDtype('>f4'), he...\n"
     ]
    }
   ],
   "source": [
    "datatree.show()"
   ]
  },
  {
   "cell_type": "code",
   "execution_count": 57,
   "metadata": {},
   "outputs": [
    {
     "ename": "TypeError",
     "evalue": "arrays() got an unexpected keyword argument 'flatten'",
     "output_type": "error",
     "traceback": [
      "\u001b[0;31m---------------------------------------------------------------------------\u001b[0m",
      "\u001b[0;31mTypeError\u001b[0m                                 Traceback (most recent call last)",
      "\u001b[0;32m<ipython-input-57-7a8315de9520>\u001b[0m in \u001b[0;36m<module>\u001b[0;34m\u001b[0m\n\u001b[0;32m----> 1\u001b[0;31m \u001b[0md\u001b[0m \u001b[0;34m=\u001b[0m \u001b[0mdatatree\u001b[0m\u001b[0;34m.\u001b[0m\u001b[0marrays\u001b[0m\u001b[0;34m(\u001b[0m\u001b[0;34m[\u001b[0m\u001b[0;34m'track_z'\u001b[0m\u001b[0;34m,\u001b[0m\u001b[0;34m'track_jt'\u001b[0m\u001b[0;34m,\u001b[0m\u001b[0;34m'gen_track_z'\u001b[0m\u001b[0;34m,\u001b[0m\u001b[0;34m'gen_track_jt'\u001b[0m\u001b[0;34m]\u001b[0m\u001b[0;34m,\u001b[0m\u001b[0mlibrary\u001b[0m\u001b[0;34m=\u001b[0m\u001b[0;34m\"pd\"\u001b[0m\u001b[0;34m,\u001b[0m\u001b[0mflatten\u001b[0m\u001b[0;34m=\u001b[0m\u001b[0;32mTrue\u001b[0m\u001b[0;34m,\u001b[0m \u001b[0mentrystop\u001b[0m\u001b[0;34m=\u001b[0m\u001b[0;36m10\u001b[0m\u001b[0;34m)\u001b[0m\u001b[0;34m\u001b[0m\u001b[0m\n\u001b[0m",
      "\u001b[0;31mTypeError\u001b[0m: arrays() got an unexpected keyword argument 'flatten'"
     ]
    }
   ],
   "source": [
    "d = datatree.arrays(['track_z','track_jt','gen_track_z','gen_track_jt'],library=\"pd\",flatten=True, entrystop=10)"
   ]
  },
  {
   "cell_type": "code",
   "execution_count": 55,
   "metadata": {},
   "outputs": [
    {
     "ename": "AttributeError",
     "evalue": "'Model_TTree_v20' object has no attribute 'pandas'",
     "output_type": "error",
     "traceback": [
      "\u001b[0;31m---------------------------------------------------------------------------\u001b[0m",
      "\u001b[0;31mAttributeError\u001b[0m                            Traceback (most recent call last)",
      "\u001b[0;32m<ipython-input-55-be8b60918a7c>\u001b[0m in \u001b[0;36m<module>\u001b[0;34m\u001b[0m\n\u001b[0;32m----> 1\u001b[0;31m \u001b[0mdatatree\u001b[0m\u001b[0;34m.\u001b[0m\u001b[0mpandas\u001b[0m\u001b[0;34m.\u001b[0m\u001b[0mdf\u001b[0m\u001b[0;34m(\u001b[0m\u001b[0;34m[\u001b[0m\u001b[0;34m\"track_z\"\u001b[0m\u001b[0;34m,\u001b[0m \u001b[0;34m\"track_jt\"\u001b[0m\u001b[0;34m]\u001b[0m\u001b[0;34m,\u001b[0m \u001b[0mentrystop\u001b[0m\u001b[0;34m=\u001b[0m\u001b[0;36m10\u001b[0m\u001b[0;34m,\u001b[0m \u001b[0mflatten\u001b[0m\u001b[0;34m=\u001b[0m\u001b[0;32mFalse\u001b[0m\u001b[0;34m)\u001b[0m\u001b[0;34m\u001b[0m\u001b[0m\n\u001b[0m",
      "\u001b[0;31mAttributeError\u001b[0m: 'Model_TTree_v20' object has no attribute 'pandas'"
     ]
    }
   ],
   "source": [
    "datatree.pandas.df([\"track_z\", \"track_jt\"], entrystop=10, flatten=False)"
   ]
  },
  {
   "cell_type": "code",
   "execution_count": 54,
   "metadata": {},
   "outputs": [
    {
     "data": {
      "text/plain": [
       "<Array [[0.192, 0.00578, 0.00497, ... []] type='262078 * var * float32'>"
      ]
     },
     "execution_count": 54,
     "metadata": {},
     "output_type": "execute_result"
    }
   ],
   "source": [
    "d['track_z']"
   ]
  },
  {
   "cell_type": "code",
   "execution_count": 43,
   "metadata": {},
   "outputs": [],
   "source": [
    "b = datafile['Data/minitree'].arrays(filter_name='/track|gen_track/',library=\"pd\")"
   ]
  },
  {
   "cell_type": "code",
   "execution_count": 47,
   "metadata": {},
   "outputs": [
    {
     "ename": "AttributeError",
     "evalue": "'tuple' object has no attribute 'list'",
     "output_type": "error",
     "traceback": [
      "\u001b[0;31m---------------------------------------------------------------------------\u001b[0m",
      "\u001b[0;31mAttributeError\u001b[0m                            Traceback (most recent call last)",
      "\u001b[0;32m<ipython-input-47-b975fc078da0>\u001b[0m in \u001b[0;36m<module>\u001b[0;34m\u001b[0m\n\u001b[0;32m----> 1\u001b[0;31m \u001b[0mb\u001b[0m\u001b[0;34m.\u001b[0m\u001b[0mlist\u001b[0m\u001b[0;34m(\u001b[0m\u001b[0;34m)\u001b[0m\u001b[0;34m\u001b[0m\u001b[0m\n\u001b[0m",
      "\u001b[0;31mAttributeError\u001b[0m: 'tuple' object has no attribute 'list'"
     ]
    }
   ],
   "source": [
    "b.list()"
   ]
  },
  {
   "cell_type": "code",
   "execution_count": 21,
   "metadata": {},
   "outputs": [],
   "source": [
    "a = datafile['Data/minitree']['track_jt'].array(library=\"pd\")"
   ]
  },
  {
   "cell_type": "code",
   "execution_count": 23,
   "metadata": {},
   "outputs": [
    {
     "data": {
      "image/png": "[encoded data removed]",
      "text/plain": [
       "<Figure size 432x288 with 1 Axes>"
      ]
     },
     "metadata": {
      "needs_background": "light"
     },
     "output_type": "display_data"
    }
   ],
   "source": [
    "plt.hist(a,bins=200, range=(0.0,3.0))\n",
    "plt.show()"
   ]
  },
  {
   "cell_type": "code",
   "execution_count": null,
   "metadata": {},
   "outputs": [],
   "source": [
    "data     = getJetData([dataname])\n",
    "#mc       = getJetData([mcname],isMC=True)\n",
    "#altmc    = getJetData([altmcname],isMC=True)"
   ]
  },
  {
   "cell_type": "markdown",
   "metadata": {},
   "source": [
    "## Get Nominal MC (Django in this case )"
   ]
  },
  {
   "cell_type": "code",
   "execution_count": null,
   "metadata": {},
   "outputs": [],
   "source": [
    "mc = None\n",
    "for filename in os.listdir(path):\n",
    "    if 'Django_' in filename:\n",
    "        print (filename)\n",
    "        temp = getJetData([path+filename],isMC=True)\n",
    "        #print (len(temp))\n",
    "        mc = pd.concat([mc,temp])\n",
    "        #print(len(mc))\n"
   ]
  },
  {
   "cell_type": "markdown",
   "metadata": {},
   "source": [
    "## Get alternative MC"
   ]
  },
  {
   "cell_type": "code",
   "execution_count": null,
   "metadata": {},
   "outputs": [],
   "source": [
    "altmc = None\n",
    "for filename in os.listdir(path):\n",
    "    if 'Rapgap_' in filename:\n",
    "        print (filename)\n",
    "        temp = getJetData([path+filename],isMC=True)\n",
    "        altmc = pd.concat([altmc,temp])\n"
   ]
  },
  {
   "cell_type": "code",
   "execution_count": null,
   "metadata": {},
   "outputs": [],
   "source": [
    "#mc       = getJetData([mcname],isMC=True)\n",
    "altmc    = getJetData([altmcname],isMC=True)"
   ]
  },
  {
   "cell_type": "code",
   "execution_count": null,
   "metadata": {},
   "outputs": [],
   "source": [
    "mc['pass_reco'] = np.where(mc['Q2']>0, 1, 0)\n",
    "mc['pass_truth'] = np.where(mc['gen_Q2']>0, 1, 0)\n",
    "data['pass_reco'] = np.where(data['Q2']>0, 1, 0)"
   ]
  },
  {
   "cell_type": "code",
   "execution_count": null,
   "metadata": {},
   "outputs": [],
   "source": [
    "mc['pass_reco'] = np.where(mc['track_jt']>0, 1, 0)\n",
    "mc['pass_truth'] = np.where(mc['gen_track_jt']>0, 1, 0)\n",
    "altmc['pass_reco'] = np.where(altmc['track_jt']>0, 1, 0)\n",
    "altmc['pass_truth'] = np.where(altmc['gen_track_jt']>0, 1, 0)\n",
    "data['pass_reco'] = np.where(data['track_jt']>0, 1, 0)"
   ]
  },
  {
   "cell_type": "code",
   "execution_count": null,
   "metadata": {},
   "outputs": [],
   "source": [
    "mc.head()"
   ]
  },
  {
   "cell_type": "code",
   "execution_count": null,
   "metadata": {},
   "outputs": [],
   "source": [
    "print('Selecting data events\\n')\n",
    "data = applyCutsJets(data)\n",
    "print('Selecting MC events\\n')\n",
    "mc   = applyCutsJets(mc, isMC=True)\n",
    "print('alt mc')\n",
    "altmc = applyCutsJets(altmc, isMC=True)"
   ]
  },
  {
   "cell_type": "code",
   "execution_count": null,
   "metadata": {},
   "outputs": [],
   "source": [
    "mc_cut = mc[:600000]\n",
    "altmc_cut = altmc[:200000]"
   ]
  },
  {
   "cell_type": "code",
   "execution_count": null,
   "metadata": {},
   "outputs": [],
   "source": [
    "print(len(data))\n",
    "print(len(mc_cut.query('pass_reco==1'))) ##only what is really reconstructed counts\n",
    "print(len(mc_cut)) ##only what is really reconstructed counts"
   ]
  },
  {
   "cell_type": "markdown",
   "metadata": {},
   "source": [
    "### Define UniFold Algorithm\n"
   ]
  },
  {
   "cell_type": "code",
   "execution_count": null,
   "metadata": {},
   "outputs": [],
   "source": [
    "from __future__ import absolute_import, division, print_function\n",
    "\n",
    "import numpy as np\n",
    "from matplotlib import pyplot as plt\n",
    "from matplotlib.patches import Patch\n",
    "\n",
    "from sklearn.model_selection import train_test_split\n",
    "\n",
    "import tensorflow as tf\n",
    "import keras\n",
    "import keras.backend as K\n",
    "from keras.layers import Dense, Input\n",
    "from keras.models import Model\n",
    "from keras.utils import to_categorical\n",
    "from keras.callbacks import EarlyStopping"
   ]
  },
  {
   "cell_type": "markdown",
   "metadata": {},
   "source": [
    "## Define features using just MC and alt MC *this is CLOSURE TEST*"
   ]
  },
  {
   "cell_type": "code",
   "execution_count": null,
   "metadata": {},
   "outputs": [],
   "source": [
    "Q2_0_G = mc_cut['gen_logQ2']\n",
    "Q2_0_S =mc_cut['logQ2']\n",
    "Q2_unknown_G = altmc_cut['gen_logQ2']\n",
    "Q2_unknown_S = altmc_cut['logQ2']\n",
    "\n",
    "y_0_G = mc_cut['gen_y']\n",
    "y_0_S =mc_cut['y']\n",
    "y_unknown_G = altmc_cut['gen_y']\n",
    "y_unknown_S = altmc_cut['y']\n",
    "\n",
    "#tau1b_0_G = mc_cut['gen_tau1b']\n",
    "#tau1b_0_S =mc_cut['tau1b']\n",
    "#tau1b_unknown_G = altmc_cut['gen_tau1b']\n",
    "#tau1b_unknown_S = altmc_cut['tau1b']\n",
    "\n",
    "jt_0_G = mc_cut['gen_track_jt']\n",
    "jt_0_S = mc_cut['track_jt']\n",
    "jt_unknown_G = altmc_cut['gen_track_jt']\n",
    "jt_unknown_S = altmc_cut['track_jt']\n",
    "\n",
    "z_0_G = mc_cut['gen_track_z']\n",
    "z_0_S = mc_cut['track_z']\n",
    "z_unknown_G = altmc_cut['gen_track_z']\n",
    "z_unknown_S = altmc_cut['track_z']\n",
    "\n",
    "jetpt_0_G = mc_cut['gen_track_jetpt']\n",
    "jetpt_0_S = mc_cut['track_jetpt']\n",
    "jetpt_unknown_G = altmc_cut['gen_track_jetpt']\n",
    "jetpt_unknown_S = altmc_cut['track_jetpt']\n",
    "\n",
    "jetqt_0_G = mc_cut['gen_track_jetqtnorm']\n",
    "jetqt_0_S = mc_cut['track_jetqtnorm']\n",
    "jetqt_unknown_G = altmc_cut['gen_track_jetqtnorm']\n",
    "jetqt_unknown_S = altmc_cut['track_jetqtnorm']\n",
    "\n",
    "\n",
    "#jetpt_0_G = mc_cut['genjet_pt']\n",
    "#jetpt_0_S =mc_cut['jet_pt']\n",
    "#jetpt_unknown_G = altmc_cut['genjet_pt']\n",
    "#jetpt_unknown_S = altmc_cut['jet_pt']"
   ]
  },
  {
   "cell_type": "code",
   "execution_count": null,
   "metadata": {},
   "outputs": [],
   "source": [
    "theta0_G=np.c_[(Q2_0_G, y_0_G, jt_0_G,z_0_G, jetpt_0_G, jetqt_0_G)]\n",
    "theta0_S=np.c_[(Q2_0_S, y_0_S, jt_0_S,z_0_S, jetpt_0_S, jetqt_0_S)]\n",
    "theta_unknown_S=np.c_[(Q2_unknown_S, y_unknown_S, jt_unknown_S, z_unknown_S,jetpt_unknown_S, jetqt_unknown_S)]\n",
    "theta_unknown_G=np.c_[(Q2_unknown_G, y_unknown_G, jt_unknown_G, z_unknown_G, jetpt_unknown_G, jetqt_unknown_G)]"
   ]
  },
  {
   "cell_type": "code",
   "execution_count": null,
   "metadata": {},
   "outputs": [],
   "source": [
    "theta0_G=np.c_[(Q2_0_G, y_0_G, jt_0_G)]\n",
    "theta0_S=np.c_[(Q2_0_S, y_0_S, jt_0_S)]\n",
    "theta_unknown_S=np.c_[(Q2_unknown_S, y_unknown_S, jt_unknown_S)]\n",
    "theta_unknown_G=np.c_[(Q2_unknown_G, y_unknown_G, jt_unknown_G)]"
   ]
  },
  {
   "cell_type": "code",
   "execution_count": null,
   "metadata": {},
   "outputs": [],
   "source": [
    "pass_reco = np.array(mc_cut['pass_reco'])\n",
    "pass_truth = np.array(mc_cut['pass_truth'])\n",
    "theta0_S[:,0][pass_reco==0] = -10\n",
    "theta0_G[:,0][pass_truth==0] = -10"
   ]
  },
  {
   "cell_type": "markdown",
   "metadata": {},
   "source": [
    "## Show input for closure test (i.e. synthetic and natural datasets using mc and altmc)"
   ]
  },
  {
   "cell_type": "code",
   "execution_count": null,
   "metadata": {},
   "outputs": [],
   "source": [
    "bins = np.linspace(2,5, 101)\n",
    "\n",
    "fig, ax = plt.subplots(1,\n",
    "                       2,\n",
    "                       figsize=(12, 5),\n",
    "                       constrained_layout=True,\n",
    "                       sharey=True)\n",
    "\n",
    "ax[0].set_xlabel('$x_0$')\n",
    "ax[0].set_ylabel('Events per bin (normalized)')\n",
    "ax[0].hist(theta0_G[theta0_G[:,0]!=-10][:,0], bins=bins, **plot_style_2, label='Generation')\n",
    "ax[0].hist(theta0_S[theta0_S[:,0]!=-10][:,0], bins=bins, **plot_style_2, label='Simulation')\n",
    "legend = ax[0].legend(\n",
    "    loc='best',\n",
    "    frameon=True)\n",
    "plt.setp(legend.get_title(), multialignment='center')\n",
    "\n",
    "ax[1].set_xlabel('$x_0$')\n",
    "\n",
    "ax[1].hist(theta_unknown_G[theta_unknown_S[:,0]!=-10][:,0], bins=bins, **plot_style_2, label='Gen.')\n",
    "legend = ax[1].legend(\n",
    "    loc='best',\n",
    "    frameon=True)\n",
    "\n",
    "\n",
    "ax[1].hist(theta_unknown_S[theta_unknown_S[:,0]!=-10][:,0], bins=bins, **plot_style_2, label='Detector')\n",
    "legend = ax[1].legend(\n",
    "    loc='best',\n",
    "    frameon=True)\n",
    "plt.setp(legend.get_title(), multialignment='center')\n",
    "\n",
    "fig.show()\n",
    "\n",
    "bins = np.linspace(0,2, 101)\n",
    "#bins = np.linspace(0,2, 101)\n",
    "#bins = np.linspace(0,1,100)\n",
    "fig, ax = plt.subplots(1,\n",
    "                       2,\n",
    "                       figsize=(12, 5),\n",
    "                       constrained_layout=True,\n",
    "                       sharey=True)\n",
    "\n",
    "ax[0].set_xlabel('$x_1$')\n",
    "ax[0].set_ylabel('Events per bin (normalized)')\n",
    "ax[0].hist(theta0_G[theta0_G[:,0]!=-10][:,-1], bins=bins, **plot_style_2, label='Generation')\n",
    "ax[0].hist(theta0_S[theta0_S[:,0]!=-10][:,-1], bins=bins, **plot_style_2, label='Simulation')\n",
    "legend = ax[0].legend(\n",
    "    loc='best',\n",
    "    frameon=True)\n",
    "plt.setp(legend.get_title(), multialignment='center')\n",
    "\n",
    "ax[1].set_xlabel('$x_1$')\n",
    "\n",
    "ax[1].hist(theta_unknown_G[theta_unknown_S[:,0]!=-10][:,-1], bins=bins, **plot_style_2, label='Gen.')\n",
    "legend = ax[1].legend(\n",
    "    loc='best',\n",
    "    frameon=True)\n",
    "\n",
    "ax[1].hist(theta_unknown_S[theta_unknown_S[:,0]!=-10][:,-1], bins=bins, **plot_style_2, label='Detector')\n",
    "legend = ax[1].legend(\n",
    "    loc='best',\n",
    "    frameon=True)\n",
    "\n",
    "\n",
    "\n",
    "\n",
    "\n",
    "\n",
    "plt.setp(legend.get_title(), multialignment='center')\n",
    "\n",
    "fig.show()"
   ]
  },
  {
   "cell_type": "markdown",
   "metadata": {},
   "source": [
    "## Define Multifold "
   ]
  },
  {
   "cell_type": "code",
   "execution_count": null,
   "metadata": {},
   "outputs": [],
   "source": [
    "# Input multiple observables as tuple or list (i.e. theta0_G = (obs_1, obs_2, ...))\n",
    "\"\"\"    Arguments:\n",
    "        num_observables: number of observables to \n",
    "                            simultaneously unfold (integer)\n",
    "                            \n",
    "        iterations: number of iterations (integer)\n",
    "        \n",
    "        theta0_G: tuple or list of nominal \n",
    "                    generation-level observables as Numpy arrays\n",
    "                    \n",
    "        theta0_S: tuple or list of nominal \n",
    "                    simulation-level observables as Numpy arrays\n",
    "                    \n",
    "        theta_unknown_S: tuple or list of \"natural\" \n",
    "                            (unknown) simulation-level observables \n",
    "                            to be unfolded as Numpy arrays\n",
    "        \n",
    "        Returns:\n",
    "        - A Numpy array of weights to reweight distributions in \n",
    "        theta0_G to the unfolded distribution of theta_unknown_S\n",
    "        \n",
    "        - The model used to calculate those weights\n",
    "\"\"\"\n",
    "\n",
    "\n",
    "def multifold(num_observables, iterations, theta0_G, theta0_S,\n",
    "              theta_unknown_S):\n",
    "    \n",
    "    \n",
    "    theta0 = np.stack([theta0_G, theta0_S], axis=1)\n",
    "    labels0 = np.zeros(len(theta0))\n",
    "    theta_unknown = np.stack([theta_unknown_S, theta_unknown_S], axis=1)\n",
    "    labels1 = np.ones(len(theta0_G))\n",
    "    labels_unknown = np.ones(len(theta_unknown_S))\n",
    "    \n",
    "    xvals_1 = np.concatenate((theta0_S, theta_unknown_S))\n",
    "    yvals_1 = np.concatenate((labels0, labels_unknown))\n",
    "    xvals_2 = np.concatenate((theta0_G, theta0_G))\n",
    "    yvals_2 = np.concatenate((labels0, labels1))\n",
    "    \n",
    "\n",
    "    weights = np.empty(shape=(iterations, 2, len(theta0_G))) #this was 0\n",
    "    weights_pull = np.ones(len(theta0_S))\n",
    "    weights_push = np.ones(len(theta0_S))\n",
    "\n",
    "    inputs = Input((num_observables, ))\n",
    "     #inputs = Input((2, ))\n",
    "    hidden_layer_1 = Dense(50, activation='relu')(inputs)\n",
    "    hidden_layer_2 = Dense(50, activation='relu')(hidden_layer_1)\n",
    "    hidden_layer_3 = Dense(50, activation='relu')(hidden_layer_2)\n",
    "    outputs = Dense(1, activation='sigmoid')(hidden_layer_3)\n",
    "\n",
    "    model = Model(inputs=inputs, outputs=outputs)\n",
    "\n",
    "    earlystopping = EarlyStopping(patience=10,\n",
    "                              verbose=1,\n",
    "                              restore_best_weights=True)\n",
    "    # from NN (DCTR) \n",
    "    def reweight(events):\n",
    "        f = model.predict(events, batch_size=10000)\n",
    "        weights = f / (1. - f)\n",
    "        return np.squeeze(np.nan_to_num(weights))\n",
    "    \n",
    "    \n",
    "    \n",
    "    for i in range(iterations):\n",
    "        print(\"\\nITERATION: {}\\n\".format(i + 1))\n",
    "\n",
    "        # STEP 1: classify Sim. (which is reweighted by weights_push) to Data\n",
    "        # weights reweighted Sim. --> Data\n",
    "        print(\"STEP 1\\n\")\n",
    "\n",
    "        weights_1 = np.concatenate((weights_push, np.ones(len(theta_unknown_S))))\n",
    "        # actual weights for Sim., ones for Data (not MC weights)\n",
    "\n",
    "        X_train_1, X_test_1, Y_train_1, Y_test_1, w_train_1, w_test_1 = train_test_split(\n",
    "            xvals_1, yvals_1, weights_1)\n",
    "\n",
    "        #theta0_G[theta0_S[:,0]!=-10][:,1]\n",
    "        model.compile(loss='binary_crossentropy',\n",
    "                  optimizer='Adam',\n",
    "                  metrics=['accuracy'])\n",
    "        model.fit(X_train_1[X_train_1[:,0]!=-10],\n",
    "              Y_train_1[X_train_1[:,0]!=-10],\n",
    "              sample_weight=w_train_1[X_train_1[:,0]!=-10],\n",
    "              epochs=200,\n",
    "              batch_size=10000,\n",
    "              validation_data=(X_test_1[X_test_1[:,0]!=-10], Y_test_1[X_test_1[:,0]!=-10], w_test_1[X_test_1[:,0]!=-10]),\n",
    "              callbacks=[earlystopping],\n",
    "              verbose=1)\n",
    "\n",
    "        weights_pull = weights_push * reweight(theta0_S)\n",
    "        weights_pull[theta0_S[:,0]==-10] = 1. #these are events that don't pass reco; take the prior.\n",
    "        weights[i, :1, :] = weights_pull\n",
    "\n",
    "        # STEP 2: classify Gen. to reweighted Gen. (which is reweighted by weights_pull)\n",
    "        # weights Gen. --> reweighted Gen.\n",
    "        print(\"\\nSTEP 2\\n\")\n",
    "\n",
    "        weights_2 = np.concatenate((np.ones(len(theta0_G)), weights_pull))\n",
    "        # ones for Gen. (not MC weights), actual weights for (reweighted) Gen.\n",
    "\n",
    "        X_train_2, X_test_2, Y_train_2, Y_test_2, w_train_2, w_test_2 = train_test_split(\n",
    "            xvals_2, yvals_2, weights_2)\n",
    "\n",
    "        model.compile(loss='binary_crossentropy',\n",
    "                  optimizer='Adam',\n",
    "                  metrics=['accuracy'])\n",
    "        model.fit(X_train_2,\n",
    "              Y_train_2,\n",
    "              sample_weight=w_train_2,\n",
    "              epochs=200,\n",
    "              batch_size=10000,\n",
    "              validation_data=(X_test_2, Y_test_2, w_test_2),\n",
    "              callbacks=[earlystopping],\n",
    "              verbose=1)\n",
    "\n",
    "        weights_push = reweight(theta0_G)\n",
    "        weights[i, 1:2, :] = weights_push\n",
    "    return weights, model"
   ]
  },
  {
   "cell_type": "markdown",
   "metadata": {},
   "source": [
    "## Unfold two variables simultaneously"
   ]
  },
  {
   "cell_type": "code",
   "execution_count": null,
   "metadata": {},
   "outputs": [],
   "source": [
    "K.clear_session()"
   ]
  },
  {
   "cell_type": "code",
   "execution_count": null,
   "metadata": {},
   "outputs": [],
   "source": [
    "iterations = 1# use ~4 iterations\n",
    "num_observables= 6\n",
    "\n",
    "weights, _ = multifold(num_observables=num_observables,\n",
    "                       iterations=iterations,\n",
    "                       theta0_G=theta0_G,\n",
    "                       theta0_S=theta0_S,\n",
    "                       theta_unknown_S= theta_unknown_S)"
   ]
  },
  {
   "cell_type": "markdown",
   "metadata": {},
   "source": [
    "## Plot CLOSURE TEST RESULTS"
   ]
  },
  {
   "cell_type": "code",
   "execution_count": null,
   "metadata": {},
   "outputs": [],
   "source": [
    "for i in range(len(weights)):\n",
    "\n",
    "    print(\"ITERATION: {}\".format(i + 1))\n",
    "    bins = np.linspace(2, 5,100 )\n",
    "    #bins = np.linspace(5, 50, 45)\n",
    "\n",
    "    fig, ax = plt.subplots(2,\n",
    "                           3,\n",
    "                           figsize=(20, 10),\n",
    "                           constrained_layout=True)\n",
    "    bins = np.linspace(0.0, 1.0,100 )\n",
    "\n",
    "    ax[0,0].set_xlabel(r'$y$',fontsize=22)\n",
    "    ax[0,0].set_ylabel('Events per bin (Normalized)')\n",
    "    ax[0,0].hist(y_0_G[y_0_G!=-10], bins=bins, label=r'Django (truth)', **plot_style_2)\n",
    "    ax[0,0].hist(y_0_G[y_0_G!=-10],\n",
    "               bins=bins,\n",
    "               weights=weights[i, 1, :][y_0_G!=-10],\n",
    "               label=r'Rapgap unfolded.',\n",
    "               **plot_style_1)\n",
    "\n",
    "    ax[0,0].hist(y_unknown_G,\n",
    "               bins=bins,\n",
    "               label=r'Rapgap (Truth)',\n",
    "               **plot_style_2)\n",
    "    \n",
    "    ax[0,0].legend(frameon=False)\n",
    "\n",
    "    bins = np.linspace(2, 4,100 )\n",
    "\n",
    "    ax[0,1].set_xlabel(r'$\\log Q^{2}$',fontsize=22)\n",
    "    ax[0,1].set_ylabel('Events per bin (Normalized)')\n",
    "    ax[0,1].hist(Q2_0_G[Q2_0_G!=-10], bins=bins, label=r'Django (truth)', **plot_style_2)\n",
    "    ax[0,1].hist(Q2_0_G[Q2_0_G!=-10],\n",
    "               bins=bins,\n",
    "               weights=weights[i, 1, :][Q2_0_G!=-10],\n",
    "               label=r'Rapgap unfolded.',\n",
    "               **plot_style_1)\n",
    "\n",
    "    ax[0,1].hist(Q2_unknown_G,\n",
    "               bins=bins,\n",
    "               label=r'Rapgap (Truth)',\n",
    "               **plot_style_2)\n",
    "    \n",
    "    \n",
    "    \n",
    "    bins = np.linspace(0.01,1,100 )\n",
    "\n",
    "    ax[0,2].set_xlabel(r'$z_{jet} $',fontsize=22)\n",
    "    ax[0,2].set_ylabel('Events per bin (Normalized)')\n",
    "    ax[0,2].hist(z_0_G[z_0_G!=-10], bins=bins, label=r'Django (truth)', **plot_style_2)\n",
    "    ax[0,2].hist(z_0_G[z_0_G!=-10],\n",
    "               bins=bins,\n",
    "               weights=weights[i, 1, :][z_0_G!=-10],\n",
    "               label=r'Rapgap unfolded.',\n",
    "               **plot_style_1)\n",
    "\n",
    "    ax[0,2].hist(z_unknown_G,\n",
    "               bins=bins,\n",
    "               label=r'Rapgap (Truth)',\n",
    "               **plot_style_2)\n",
    "    ax[0,2].set_yscale('log')\n",
    "    ax[0,2].set_xscale('log')\n",
    "\n",
    "    \n",
    "    bins = np.linspace(0,3,100 )\n",
    "\n",
    "    ax[1,0].set_xlabel(r'$j_{T} $',fontsize=22)\n",
    "    ax[1,0].set_ylabel('Events per bin (Normalized)')\n",
    "    ax[1,0].hist(jt_0_G[jt_0_G!=-10], bins=bins, label=r'Django (truth)', **plot_style_2)\n",
    "    ax[1,0].hist(jt_0_G[jt_0_G!=-10],\n",
    "               bins=bins,\n",
    "               weights=weights[i, 1, :][jt_0_G!=-10],\n",
    "               label=r'Rapgap unfolded.',\n",
    "               **plot_style_1)\n",
    "\n",
    "    ax[1,0].hist(jt_unknown_G,\n",
    "               bins=bins,\n",
    "               label=r'Rapgap (Truth)',\n",
    "               **plot_style_2)\n",
    "    ax[1,0].set_yscale('log')\n",
    "    \n",
    "    bins = np.linspace(0,60,100 )\n",
    "\n",
    "    ax[1,1].set_xlabel(r'$jet p_{T} $',fontsize=22)\n",
    "    ax[1,1].set_ylabel('Events per bin (Normalized)')\n",
    "    ax[1,1].hist(jetpt_0_G[jetpt_0_G!=-10], bins=bins, label=r'Django (truth)', **plot_style_2)\n",
    "    ax[1,1].hist(jetpt_0_G[jetpt_0_G!=-10],\n",
    "               bins=bins,\n",
    "               weights=weights[i, 1, :][jetpt_0_G!=-10],\n",
    "               label=r'Rapgap unfolded.',\n",
    "               **plot_style_1)\n",
    "\n",
    "    ax[1,1].hist(jetpt_unknown_G,\n",
    "               bins=bins,\n",
    "               label=r'Rapgap (Truth)',\n",
    "               **plot_style_2)\n",
    "    \n",
    "    \n",
    "    bins = np.linspace(0,3,100 )\n",
    "\n",
    "    ax[1,2].set_xlabel(r'$jet q_{T} $',fontsize=22)\n",
    "    ax[1,2].set_ylabel('Events per bin (Normalized)')\n",
    "    ax[1,2].hist(jetqt_0_G[jetqt_0_G!=-10], bins=bins, label=r'Django (truth)', **plot_style_2)\n",
    "    ax[1,2].hist(jetqt_0_G[jetqt_0_G!=-10],\n",
    "               bins=bins,\n",
    "               weights=weights[i, 1, :][jetqt_0_G!=-10],\n",
    "               label=r'Rapgap unfolded.',\n",
    "               **plot_style_1)\n",
    "\n",
    "    ax[1,2].hist(jetqt_unknown_G,\n",
    "               bins=bins,\n",
    "               label=r'Rapgap (Truth)',\n",
    "               **plot_style_2)\n",
    "    \n",
    "    \n",
    "    \n",
    "    \n",
    "    "
   ]
  },
  {
   "cell_type": "code",
   "execution_count": null,
   "metadata": {},
   "outputs": [],
   "source": [
    "plt.hist(mc['track_jetpt'],bins=100)"
   ]
  },
  {
   "cell_type": "markdown",
   "metadata": {},
   "source": [
    "## Compute efficiency "
   ]
  },
  {
   "cell_type": "code",
   "execution_count": null,
   "metadata": {},
   "outputs": [],
   "source": [
    "bins = np.linspace(0,20,100)\n",
    "plt.hist(mc['genjet_pt'],bins=bins,alpha=0.3)\n",
    "plt.hist(mc.query('pass_reco==1')['genjet_pt'],bins=bins,alpha=0.3)\n",
    "\n",
    "plt.show()"
   ]
  },
  {
   "cell_type": "code",
   "execution_count": null,
   "metadata": {},
   "outputs": [],
   "source": [
    "#numerator\n",
    "mask = np.logical_and(theta0_S[:,0]!=-10,theta0_G[:,0]!=-10)\n",
    "print (mask) \n",
    "num,x,_  = plt.hist(jetpt_0_G[mask], weights=weights[-1, 1, :][mask],bins=20,label='numerator, weighted',alpha=0.3)\n",
    "den,x,_ = plt.hist(jetpt_0_G[theta0_G[:,0]!=-10], weights=weights[-1, 1, :][theta0_G[:,0]!=-10],bins=20,label='numerator, weighted',alpha=0.3)\n",
    "x= (x[1:] + x[:-1])/2.0\n",
    "\n",
    "#plt.hist(theta0_G[theta0_S[:,0]!=-10][:,1])\n",
    "plt.show()\n",
    "eff_weighted= np.true_divide(num,den)\n",
    "print(sum(num))\n",
    "print(sum(den))\n",
    "print(sum(num)/sum(den))\n",
    "#plt.legend()"
   ]
  },
  {
   "cell_type": "code",
   "execution_count": null,
   "metadata": {},
   "outputs": [],
   "source": [
    "bins = np.linspace(2, 5, 101)\n",
    "\n",
    "for i in range(1):\n",
    "    print(\"ITERATION {}:\".format(i + 1))\n",
    "    plt.figure(figsize=(10, 5))\n",
    "    #fig, (ax1, ax2) = plt.subplots(1, 2)\n",
    "    \n",
    "    gs = plt.GridSpec(1, 2)\n",
    "    gs.update(left=0.08, right=0.925,\n",
    "              top=0.95, bottom=0.05,\n",
    "              hspace=0.3, wspace=0.5)\n",
    "\n",
    "    ax1 = plt.subplot(gs[0, 0])\n",
    "    ax2 = plt.subplot(gs[0, 1])     \n",
    "    \n",
    "    ax1.hist(theta0_G[theta0_G[:,0]!=-10][:,0],\n",
    "                     bins=bins,\n",
    "                     **plot_style_2,label='Gen')\n",
    "\n",
    "    ax1.hist(\n",
    "        theta0_G[theta0_G[:,0]!=-10][:,0],\n",
    "        bins=bins,\n",
    "        label='Gen weighted',\n",
    "        weights=weights[i, 1, :][theta0_G[:,0]!=-10],\n",
    "        **plot_style_1)\n",
    "\n",
    "    \n",
    "    \n",
    "    ax1.hist(\n",
    "        theta_unknown_G[:,0],\n",
    "        bins=bins,\n",
    "        label='target', \n",
    "        **plot_style_2)\n",
    "    \n",
    "    ax1.legend(frameon=False)\n",
    "    ax1.set(xlabel=r\"$x_{1,G}$\", ylabel=\"Events per bin (normalized)\")\n",
    "    \n",
    "    \n",
    "    ## \n",
    "    bins = np.linspace(0,100,100)\n",
    "    ax2.hist(theta0_G[theta0_G[:,0]!=-10][:,-1],\n",
    "                     bins=bins,\n",
    "                     **plot_style_2,label='Gen')\n",
    "\n",
    "    ax2.hist(\n",
    "        theta0_G[theta0_G[:,0]!=-10][:,-1],\n",
    "        bins=bins,\n",
    "        label='Gen weighted',\n",
    "        weights=weights[i, 1, :][theta0_G[:,0]!=-10],\n",
    "        **plot_style_1)\n",
    "\n",
    "    \n",
    "    \n",
    "    ax2.hist(\n",
    "        theta_unknown_G[:,-1],\n",
    "        bins=bins,\n",
    "        label='target', \n",
    "        **plot_style_2)\n",
    "    \n",
    "    ax2.legend(frameon=False)\n",
    "    ax2.set(xlabel=r\"$x_{2,G}$\", ylabel=\"Events per bin (normalized)\")\n",
    "    \n",
    "    \n",
    "    \n",
    "    "
   ]
  },
  {
   "cell_type": "code",
   "execution_count": null,
   "metadata": {},
   "outputs": [],
   "source": [
    "for i in range(len(weights)):\n",
    "\n",
    "    print(\"ITERATION: {}\".format(i + 1))\n",
    "    bins = np.linspace(0.0, 4.0, 40)\n",
    "    \n",
    "    fig, ax = plt.subplots(3,\n",
    "                           3,\n",
    "                           figsize=(16, 16),\n",
    "                           constrained_layout=True)\n",
    "    bins = np.linspace(0.0, 4.0, 40)\n",
    "    ax[0,0].set_xlabel(r'$\\log Q^{2}$')\n",
    "    ax[0,0].set_ylabel('Events per bin (Normalized)')\n",
    "    ax[0,0].hist(Q2_0_S[theta0_S[:,0]!=0], bins=bins, label=r'MC .', **plot_style_2)\n",
    "    ax[0,0].hist(Q2_0_S[theta0_S[:,0]!=0],\n",
    "               bins=bins,\n",
    "               weights=weights[i, 0, :][theta0_S[:,0]!=0],\n",
    "               label=r'MC . DCTR wgt.',\n",
    "               **plot_style_1)\n",
    "\n",
    "    ax[0,0].hist(Q2_unknown_S,\n",
    "               bins=bins,\n",
    "               label=r'Data (reco)',\n",
    "               **plot_style_2)\n",
    "    ax[0,0].legend(frameon=False,loc='best')"
   ]
  },
  {
   "cell_type": "code",
   "execution_count": null,
   "metadata": {},
   "outputs": [],
   "source": [
    "for i in range(len(weights)):\n",
    "    print(max(weights[i, 1, :]))\n",
    "    print(min(weights[i, 1, :]))"
   ]
  },
  {
   "cell_type": "code",
   "execution_count": null,
   "metadata": {},
   "outputs": [],
   "source": [
    "K.clear_session()"
   ]
  },
  {
   "cell_type": "markdown",
   "metadata": {},
   "source": [
    "## Define features with data"
   ]
  },
  {
   "cell_type": "code",
   "execution_count": null,
   "metadata": {},
   "outputs": [],
   "source": [
    "Q2_0_G = mc_cut['gen_logQ2']\n",
    "Q2_0_S =mc_cut['logQ2']\n",
    "Q2_unknown_S = data_cut['logQ2']\n",
    "\n",
    "y_0_G = mc_cut['gen_y']\n",
    "y_0_S =mc_cut['y']\n",
    "y_unknown_S = data_cut['y']\n",
    "\n",
    "tau1b_0_G = mc_cut['gen_tau1b']\n",
    "tau1b_0_S =mc_cut['tau1b']\n",
    "tau1b_unknown_S = data_cut['tau1b']"
   ]
  },
  {
   "cell_type": "markdown",
   "metadata": {},
   "source": [
    "## Run unfolding on data"
   ]
  },
  {
   "cell_type": "code",
   "execution_count": null,
   "metadata": {},
   "outputs": [],
   "source": [
    "K.clear_session()"
   ]
  },
  {
   "cell_type": "code",
   "execution_count": null,
   "metadata": {},
   "outputs": [],
   "source": [
    "num_observables = 3\n",
    "\n",
    "# simple / 100. standardization s.t. data is of order ~1\n",
    "\n",
    "weights, _ = multifold(num_observables=num_observables,\n",
    "                       iterations=3,\n",
    "                       theta0_G=(Q2_0_G , y_0_G, tau1b_0_G ),\n",
    "                       theta0_S=(Q2_0_S , y_0_S, tau1b_0_S),\n",
    "                       theta_unknown_S=(Q2_unknown_S , y_unknown_S , tau1b_unknown_S))"
   ]
  },
  {
   "cell_type": "code",
   "execution_count": null,
   "metadata": {},
   "outputs": [],
   "source": [
    "for i in range(len(weights)):\n",
    "    #print (weights.shape)\n",
    "    print((weights[i, :1, :]).shape)\n",
    "    #print((weights[i, :1, :]).shape)\n",
    "    #print((weights[i, 1:2, :][0]).shape)\n",
    "\n",
    "\n",
    "print(len(weights[i, :1, :][0]))    \n",
    "print(len(weights[i, 1:2, :][0]))"
   ]
  },
  {
   "cell_type": "markdown",
   "metadata": {},
   "source": [
    "## MC at reco level reweighted vs data"
   ]
  },
  {
   "cell_type": "code",
   "execution_count": null,
   "metadata": {},
   "outputs": [],
   "source": [
    "for i in range(len(weights)):\n",
    "\n",
    "    print(\"ITERATION: {}\".format(i + 1))\n",
    "    bins = np.linspace(2,5, 100)\n",
    "    #bins = np.linspace(5, 50, 45)\n",
    "\n",
    "    fig, ax = plt.subplots(1,\n",
    "                           3,\n",
    "                           figsize=(16, 5),\n",
    "                           constrained_layout=True)\n",
    "    ax[0].set_xlabel(r'$\\log Q^{2}$',fontsize=22)\n",
    "    ax[0].set_ylabel('Events per bin (Normalized)')\n",
    "    ax[0].hist(Q2_0_S, bins=bins, label=r'Gen.', **plot_style_2)\n",
    "    ax[0].hist(Q2_0_S,\n",
    "               bins=bins,\n",
    "               weights=weights[i, 0, :],\n",
    "               label=r'Gen. DCTR wgt.',\n",
    "               **plot_style_1)\n",
    "\n",
    "    ax[0].hist(Q2_unknown_S,\n",
    "               bins=bins,\n",
    "               label=r'Data (Reco)',\n",
    "               **plot_style_2)\n",
    "    ax[0].legend(frameon=False)\n",
    "\n",
    "    bins = np.linspace(-0.2,1.2, 50)\n",
    "    #bins = np.linspace(0, 2.0, 40)\n",
    "\n",
    "    ax[1].set_xlabel(r'$\\tau_{1b}$',fontsize=22)\n",
    "    ax[1].set_ylabel('Events per bin (Normalized)')\n",
    "    ax[1].hist(tau1b_0_S, bins=bins, label=r'Gen.', **plot_style_2)\n",
    "    ax[1].hist(tau1b_0_S,\n",
    "               bins=bins,\n",
    "               weights=weights[i, 0, :],\n",
    "               label=r'Gen. DCTR wgt. = Unfolded',\n",
    "               **plot_style_1)\n",
    "    ax[1].hist(tau1b_unknown_S,\n",
    "               bins=bins,\n",
    "               **plot_style_2)\n",
    "    #ax[1].legend(frameon=False)\n",
    "\n",
    "    \n",
    "    \n",
    "    bins = np.linspace(0, 1.0, 50)\n",
    "   # bins = np.linspace(0, 2.0, 40)\n",
    "\n",
    "    ax[2].set_xlabel(r'$y$',fontsize=22)\n",
    "    ax[2].set_ylabel('Events per bin (Normalized)')\n",
    "    ax[2].hist(y_0_S, bins=bins, label=r'Gen.', **plot_style_2)\n",
    "    ax[2].hist(y_0_S,\n",
    "               bins=bins,\n",
    "               weights=weights[i, 0, :],\n",
    "               label=r'Gen. DCTR wgt.',\n",
    "               **plot_style_1)\n",
    "    ax[2].hist(y_unknown_S,\n",
    "               bins=bins,\n",
    "               **plot_style_2)\n",
    "    #ax[2].legend(frameon=False)\n",
    " \n",
    "    \n",
    "    \n",
    "    \n",
    "    fig.show()\n",
    "    plt.show()"
   ]
  },
  {
   "cell_type": "markdown",
   "metadata": {},
   "source": [
    "## Plot unfolded results"
   ]
  },
  {
   "cell_type": "code",
   "execution_count": null,
   "metadata": {},
   "outputs": [],
   "source": [
    "for i in range(len(weights)):\n",
    "\n",
    "    print(\"ITERATION: {}\".format(i + 1))\n",
    "    bins = np.linspace(0,1.2, 50)\n",
    "\n",
    "\n",
    "    fig, ax = plt.subplots(1,\n",
    "                           3,\n",
    "                           figsize=(16, 5),\n",
    "                           constrained_layout=True)\n",
    "    ax[0].set_xlabel(r'$\\tau_{1b}$',fontsize=22)\n",
    "    ax[0].set_ylabel('Events per bin (Normalized)')\n",
    "    ax[0].hist(tau1b_0_G, bins=bins, label='Gen', **plot_style_2)\n",
    "    ax[0].hist(tau1b_0_G,\n",
    "               bins=bins,\n",
    "               weights=weights[i, 1:2, :][0],\n",
    "               label=r'unfolded',\n",
    "               **plot_style_1)\n",
    "\n",
    "    ax[0].hist(tau1b_unknown_S,\n",
    "               bins=bins,\n",
    "               label=r'Data (reco)',\n",
    "               **plot_style_2)\n",
    "    ax[0].legend(frameon=False)\n",
    "\n",
    "\n",
    "    \n",
    "    bins = np.linspace(2,5, 100)\n",
    "\n",
    "    ax[1].set_xlabel(r'$\\log Q^{2}$',fontsize=22)\n",
    "    ax[1].set_ylabel('Events per bin (Normalized)')\n",
    "    ax[1].hist(Q2_0_G, bins=bins, label=r'MC (reco)', **plot_style_2)\n",
    "    ax[1].hist(Q2_0_G,\n",
    "               bins=bins,\n",
    "               weights=weights[i, 1:2, :][0],\n",
    "               label=r'MC DCTR wgt. = Unfolded',\n",
    "               **plot_style_1)\n",
    "    ax[1].hist(Q2_unknown_S,\n",
    "               bins=bins,\n",
    "               **plot_style_2)\n",
    "\n",
    "    \n",
    "    \n",
    "    bins = np.linspace(0, 1.0, 50)\n",
    "\n",
    "    ax[2].set_xlabel('y',fontsize=22)\n",
    "    ax[2].set_ylabel('Events per bin (Normalized)')\n",
    "    ax[2].hist(y_0_G, bins=bins, label=r'MC (reco)', **plot_style_2)\n",
    "    ax[2].hist(y_0_G,\n",
    "               bins=bins,\n",
    "               weights=weights[i, 1:2, :][0],\n",
    "               label=r'MC DCTR wgt.',\n",
    "               **plot_style_1)\n",
    "    ax[2].hist(y_unknown_S,\n",
    "               bins=bins,\n",
    "               **plot_style_2)\n",
    "\n",
    "    \n",
    "    \n",
    "    \n",
    "    fig.show()\n",
    "    plt.show()"
   ]
  },
  {
   "cell_type": "markdown",
   "metadata": {},
   "source": [
    "## Create dataframe that includes weights"
   ]
  },
  {
   "cell_type": "code",
   "execution_count": null,
   "metadata": {},
   "outputs": [],
   "source": [
    "d = {'logQ2': Q2_0_G, 'y': y_0_G, 'tau1b': tau1b_0_G, 'weights': weights[i,1,:]}\n",
    "df = pd.DataFrame(data=d)\n",
    "\n"
   ]
  },
  {
   "cell_type": "markdown",
   "metadata": {},
   "source": [
    "## Plot data, and unfolded results and MC truth"
   ]
  },
  {
   "cell_type": "code",
   "execution_count": null,
   "metadata": {},
   "outputs": [],
   "source": [
    "bins = np.linspace(-0.2,1.2 ,100)\n",
    "\n",
    "#plt.hist(df.query('e_pt>15 and e_pt<20')['dphi'],\n",
    "#               bins=bins,\n",
    "#               weights=df.query('e_pt>15 and e_pt<20')['weights'],\n",
    "#               label=r'Gen. DCTR wgt.',\n",
    "#               **plot_style_1)\n",
    "\n",
    "\n",
    "\n",
    "fig, axs = plt.subplots(1, 3,sharey=True, figsize=(20,6), gridspec_kw={'wspace':0, 'hspace':0})\n",
    "\n",
    "nbins = 36#36\n",
    "minimo = 2.8\n",
    "for counter,edges in enumerate([(2,2.5), (2.5,3.0),(3.0,4.0)]):\n",
    "    cut = ' logQ2 > %2.2f and logQ2 <%2.2f'%(edges[0],edges[1])\n",
    "    df_cut = df.query(cut)\n",
    "    #printSummary(df_cut)\n",
    "    print ('###########')\n",
    "    axs[counter].xaxis.set_label_text('tau1b', fontsize=25)\n",
    "    axs[counter].xaxis.set_label_text('tau1b', fontsize=25)\n",
    "\n",
    "    ##Plot data\n",
    "    #Nelectrons = df.query(cut).shape[0]\n",
    "    axs[counter].hist(df_cut['tau1b'],bins=bins,density=True,label='MC true',alpha=0.3)\n",
    "    axs[counter].hist(data_cut.query(cut)['tau1b'],bins=bins,alpha=0.9,density=True, label='Data reco',color='black',lw=3,histtype='step')\n",
    "\n",
    "    axs[counter].hist(df_cut['tau1b'],bins=bins,weights=df_cut['weights'],density=True,label = 'Unfolded',alpha=0.3)\n",
    "\n",
    "    axs[counter].legend(prop={'size': 20}, frameon=False, loc='upper left')\n",
    "    axs[counter].set_title(r' $ %2.0f< $log Q^{2}$ < %2.0f$'%(edges[0],edges[1]))\n",
    "\n",
    "    #axs[counter].text(1.5,2.9,  r'$\\langle x \\rangle = %2.2f, \\langle Q^{2} \\rangle = %2.0f \\ \\mathrm{GeV}^{2}$'%(data_cut.query(cut)['x'].mean(), data_cut.query(cut)['Q2'].mean()), fontsize=18)\n",
    "    #plt.yscale('log')\n",
    "    \n",
    "axs[0].yaxis.set_label_text('Normalized entries', fontsize=25)\n"
   ]
  },
  {
   "cell_type": "markdown",
   "metadata": {},
   "source": [
    "## Bootstrapping"
   ]
  },
  {
   "cell_type": "code",
   "execution_count": null,
   "metadata": {},
   "outputs": [],
   "source": [
    "## define MC first, these will be the same always"
   ]
  },
  {
   "cell_type": "code",
   "execution_count": null,
   "metadata": {},
   "outputs": [],
   "source": [
    "Q2_0_G = mc_cut['gen_logQ2']\n",
    "Q2_0_S =mc_cut['logQ2']\n",
    "\n",
    "y_0_G = mc_cut['gen_y']\n",
    "y_0_S =mc_cut['y']\n",
    "\n",
    "tau1b_0_G = mc_cut['gen_tau1b']\n",
    "tau1b_0_S =mc_cut['tau1b']\n"
   ]
  },
  {
   "cell_type": "code",
   "execution_count": null,
   "metadata": {},
   "outputs": [],
   "source": [
    "data_cut.head()"
   ]
  },
  {
   "cell_type": "code",
   "execution_count": null,
   "metadata": {},
   "outputs": [],
   "source": [
    "K.clear_session()"
   ]
  },
  {
   "cell_type": "code",
   "execution_count": null,
   "metadata": {},
   "outputs": [],
   "source": [
    "bootstraps = 20\n",
    "iterations = 6 \n",
    "nvariables = 3\n",
    "weights = [] \n",
    "\n",
    "import timeit\n",
    "\n",
    "\n",
    "for i in range(bootstraps):\n",
    "    start = timeit.timeit()\n",
    "\n",
    "    print ('%i th jackknifedata'%i)\n",
    "    \n",
    "    ## define the data input for the unfolding\n",
    "    #bootstrap_data = data_cut.sample(data_cut.shape[0], replace=True)\n",
    "    #add Poisson variation of total number of data events used:\n",
    "    bootstrap_data = data_cut.sample(np.random.poisson(data_cut.shape[0],1)[0], replace=True)\n",
    "    \n",
    "    Q2_unknown_S    = bootstrap_data['logQ2']\n",
    "    y_unknown_S     = bootstrap_data['y']\n",
    "    tau1b_unknown_S = bootstrap_data['tau1b']\n",
    "    \n",
    "    num_observables = 3\n",
    "    i_weight, _ = multifold(num_observables=num_observables,\n",
    "                       iterations=iterations,\n",
    "                       theta0_G=(Q2_0_G, y_0_G, tau1b_0_G),\n",
    "                       theta0_S=(Q2_0_S, y_0_S, tau1b_0_S),\n",
    "                       theta_unknown_S=(Q2_unknown_S,y_unknown_S,tau1b_unknown_S)\n",
    "                      )\n",
    "    \n",
    "    weights.append(i_weight)\n",
    "    end = timeit.timeit()\n",
    "    print(end - start)\n"
   ]
  },
  {
   "cell_type": "code",
   "execution_count": null,
   "metadata": {},
   "outputs": [],
   "source": [
    "for i in range(30):\n",
    "    start = timeit.timeit()\n",
    "\n",
    "    print ('%i th jackknifedata'%i)\n",
    "    \n",
    "    ## define the data input for the unfolding\n",
    "    #bootstrap_data = data_cut.sample(data_cut.shape[0], replace=True)\n",
    "    #add Poisson variation of total number of data events used:\n",
    "    bootstrap_data = data_cut.sample(np.random.poisson(data_cut.shape[0],1)[0], replace=True)\n",
    "    \n",
    "    Q2_unknown_S    = bootstrap_data['logQ2']\n",
    "    y_unknown_S     = bootstrap_data['y']\n",
    "    tau1b_unknown_S = bootstrap_data['tau1b']\n",
    "    \n",
    "    num_observables = 3\n",
    "    i_weight, _ = multifold(num_observables=num_observables,\n",
    "                       iterations=iterations,\n",
    "                       theta0_G=(Q2_0_G, y_0_G, tau1b_0_G),\n",
    "                       theta0_S=(Q2_0_S, y_0_S, tau1b_0_S),\n",
    "                       theta_unknown_S=(Q2_unknown_S,y_unknown_S,tau1b_unknown_S)\n",
    "                      )\n",
    "    \n",
    "    weights.append(i_weight)\n",
    "    end = timeit.timeit()\n",
    "    print(end - start)"
   ]
  },
  {
   "cell_type": "code",
   "execution_count": null,
   "metadata": {},
   "outputs": [],
   "source": [
    "for i in range(50):\n",
    "    start = timeit.timeit()\n",
    "\n",
    "    print ('%i th jackknifedata'%i)\n",
    "    \n",
    "    ## define the data input for the unfolding\n",
    "    #bootstrap_data = data_cut.sample(data_cut.shape[0], replace=True)\n",
    "    #add Poisson variation of total number of data events used:\n",
    "    bootstrap_data = data_cut.sample(np.random.poisson(data_cut.shape[0],1)[0], replace=True)\n",
    "    \n",
    "    Q2_unknown_S    = bootstrap_data['logQ2']\n",
    "    y_unknown_S     = bootstrap_data['y']\n",
    "    tau1b_unknown_S = bootstrap_data['tau1b']\n",
    "    \n",
    "    num_observables = 3\n",
    "    i_weight, _ = multifold(num_observables=num_observables,\n",
    "                       iterations=iterations,\n",
    "                       theta0_G=(Q2_0_G, y_0_G, tau1b_0_G),\n",
    "                       theta0_S=(Q2_0_S, y_0_S, tau1b_0_S),\n",
    "                       theta_unknown_S=(Q2_unknown_S,y_unknown_S,tau1b_unknown_S)\n",
    "                      )\n",
    "    \n",
    "    weights.append(i_weight)\n",
    "    end = timeit.timeit()\n",
    "    print(end - start)"
   ]
  },
  {
   "cell_type": "code",
   "execution_count": null,
   "metadata": {},
   "outputs": [],
   "source": [
    "print(len(weights))"
   ]
  },
  {
   "cell_type": "markdown",
   "metadata": {
    "scrolled": true
   },
   "source": [
    "# for k in range(bootstraps):\n",
    "#    for i in range(len(weights[k])):\n",
    "        #print (weights[k].shape)\n",
    "        #print((weights[k][i, 1, :]).shape)\n",
    "        #print((weights[k][i, 1, :]).shape)\n",
    "        #print((weights[k][i, 1:2, :][0]).shape)\n",
    "print(myns[:,1])"
   ]
  },
  {
   "cell_type": "code",
   "execution_count": null,
   "metadata": {},
   "outputs": [],
   "source": [
    "covariance_matrices = []\n",
    "for it in range(6):\n",
    "    myns = []\n",
    "    #bins = np.logspace(np.log10(0.1),np.log10(1.0),8)\n",
    "    #bins = np.logspace(np.log10(0.1),np.log10(np.pi),20)\n",
    "    #bins = np.array([0.0, 2.05491515, 2.45354097, 2.63853135,\n",
    "    #                 2.8145858,  2.98213597, 3.14159265])\n",
    "\n",
    "    bins = np.logspace(0,1.2,100)\n",
    "    #bins = np.flip(2*np.pi - np.logspace(np.log10(np.pi),np.log10(2*np.pi),15)) \n",
    "\n",
    "    #bins = np.logspace(np.log(1.0),np.log10(5.0),12) -1\n",
    "    #bins = np.array([0., 0.1,0.2, 0.33994032, 0.55105852  ,1.07832585,2.0])\n",
    "    #bins = np.flip( 2- np.logspace(np.log10(1),np.log10(2.0),5)) \n",
    "\n",
    "    #bins = np.append(bins,inf)\n",
    "\n",
    "    for k in range(len(weights)-2):\n",
    "        n,b,_ = plt.hist(tau1b_0_S,bins=bins,weights=weights[k][it, 1, :],alpha=0.3)\n",
    "        myns+=[n]\n",
    "        pass\n",
    "    myns = np.array(myns)\n",
    "    #print(myns)\n",
    "    plt.xlabel('tau1b')\n",
    "\n",
    "    cov = np.array([[np.mean((myns[:,j] - np.mean(myns[:,j]))*(myns[:,i] - np.mean(myns[:,i]))) for i in range(len(myns[0]))] for j in range(len(myns[0]))])\n",
    "    corr = np.array([[cov[i,j]/(np.sqrt(cov[i,i])*np.sqrt(cov[j,j])) for i in range(len(myns[0]))] for j in range(len(myns[0]))])\n",
    "\n",
    "    covariance_matrices.append(corr)\n",
    "    #fig, ax = plt.subplots() \n",
    "    #im = ax.imshow(corr,cmap='RdBu', vmin=0.0, vmax=1.0,\n",
    "    #                         interpolation='none')\n",
    "    #fig.colorbar(im,ax=ax)\n",
    "\n",
    "print(covariance_matrices[0])\n",
    "plt.show()\n",
    "\n",
    "#print (len(myns))\n",
    "#print (len(myns[0]))"
   ]
  },
  {
   "cell_type": "code",
   "execution_count": null,
   "metadata": {},
   "outputs": [],
   "source": [
    "#bins = np.flip(2*np.pi - np.logspace(np.log10(np.pi),np.log10(2*np.pi),15)) \n",
    "#\n",
    "#bins = np.array([0.0,1.37784484, 1.84030237, 2.05491515, 2.25916109, 2.45354097, 2.63853135,\n",
    "# 2.8145858,  2.98213597, 3.14159265])\n",
    "bins = np.linspace(0,1.0,100)#print(bins)\n",
    "n,b,_ = plt.hist(tau1b_0_G,bins=bins,weights=weights[0][-1, 1, :],alpha=0.3)\n",
    "#plt.yscale('log')\n",
    "#plt.xscale('log')"
   ]
  },
  {
   "cell_type": "code",
   "execution_count": null,
   "metadata": {},
   "outputs": [],
   "source": [
    "bins = np.logspace(np.log(1.0),np.log10(2.0),9) -1\n",
    "print(bins)\n",
    "n,b,_ = plt.hist(z_0_G,bins=bins,weights=weights[0][-1, 1, :],alpha=0.3)"
   ]
  },
  {
   "cell_type": "code",
   "execution_count": null,
   "metadata": {},
   "outputs": [],
   "source": [
    "weights[75][it, 1, :] = 0"
   ]
  },
  {
   "cell_type": "code",
   "execution_count": null,
   "metadata": {},
   "outputs": [],
   "source": [
    "for k in range(80):\n",
    "    n,b,_ = plt.hist(qt_0_S,bins=bins,weights=weights[k][-1, 1, :],alpha=0.3)"
   ]
  },
  {
   "cell_type": "code",
   "execution_count": null,
   "metadata": {},
   "outputs": [],
   "source": [
    "print(covariance_matrices[0])\n",
    "print(covariance_matrices[1])\n",
    "print(covariance_matrices[2])\n"
   ]
  },
  {
   "cell_type": "code",
   "execution_count": null,
   "metadata": {},
   "outputs": [],
   "source": [
    "fig, ax = plt.subplots(2,3,figsize=(12,12)) \n",
    "minimo =-.40\n",
    "maximo = 1.0\n",
    "im = ax[0,0].imshow(covariance_matrices[0],cmap='RdBu', vmin=minimo, vmax=1.0,\n",
    "                             interpolation='none')\n",
    "im = ax[0,1].imshow(covariance_matrices[1],cmap='RdBu', vmin=minimo, vmax=1.0,\n",
    "                             interpolation='none')\n",
    "im = ax[0,2].imshow(covariance_matrices[2],cmap='RdBu', vmin=minimo, vmax=1.0,\n",
    "                  interpolation='none')\n",
    "im = ax[1,0].imshow(covariance_matrices[3],cmap='RdBu', vmin=minimo, vmax=1.0,\n",
    "                  interpolation='none')\n",
    "im = ax[1,1].imshow(covariance_matrices[4],cmap='RdBu', vmin=minimo, vmax =1.0,\n",
    "                  interpolation='none')\n",
    "im = ax[1,2].imshow(covariance_matrices[5],cmap='RdBu', vmin=minimo, vmax=1.0,\n",
    "                  interpolation='none')\n",
    "\n",
    "\n",
    "ax[0,0].set_title('iteration #0')\n",
    "ax[0,1].set_title('iteration #1')\n",
    "ax[0,2].set_title('iteration #2')\n",
    "ax[1,0].set_title('iteration #3')\n",
    "ax[1,1].set_title('iteration #4')\n",
    "ax[1,2].set_title('iteration #5')\n",
    "\n",
    "\n",
    "plt.colorbar(im,ax=ax)\n",
    "plt.show()"
   ]
  },
  {
   "cell_type": "code",
   "execution_count": null,
   "metadata": {},
   "outputs": [],
   "source": [
    "covariance_matrices[4]"
   ]
  },
  {
   "cell_type": "code",
   "execution_count": null,
   "metadata": {},
   "outputs": [],
   "source": [
    "from numpy.linalg import inv\n",
    "x = [] \n",
    "rhos= []\n",
    "for it in range(6): #iterations\n",
    "    temp = []\n",
    "    cov = np.matrix(covariance_matrices[it])\n",
    "    inversecov = inv(cov)\n",
    "    for i in range(cov.shape[0]):\n",
    "         if(cov[i,i]*inversecov[i,i]!=0):\n",
    "            temp.append( np.sqrt(1- 1.0/(cov[i,i]*inversecov[i,i])))\n",
    "    rho_it = np.average(temp)\n",
    "    rhos.append(rho_it)\n",
    "    x.append(it)\n",
    "    print (rho_it)\n",
    "print (x)\n",
    "print (rhos)"
   ]
  },
  {
   "cell_type": "code",
   "execution_count": null,
   "metadata": {},
   "outputs": [],
   "source": [
    "fig = plt.figure(figsize=(8,6))\n",
    "plt.plot(x,rhos,'-o')\n",
    "plt.xlabel('Number of Multifold iterations',fontsize=20)\n",
    "plt.ylabel('Mean global-correlation coefficient',fontsize=20)\n",
    "plt.yticks(fontsize=20)\n",
    "plt.xticks(fontsize=20)"
   ]
  },
  {
   "cell_type": "code",
   "execution_count": null,
   "metadata": {},
   "outputs": [],
   "source": [
    "cov = np.array([[np.mean((myns[:,j] - np.mean(myns[:,j]))*(myns[:,i] - np.mean(myns[:,i]))) for i in range(len(myns[0]))] for j in range(len(myns[0]))])"
   ]
  },
  {
   "cell_type": "code",
   "execution_count": null,
   "metadata": {},
   "outputs": [],
   "source": [
    "corr = np.array([[cov[i,j]/(np.sqrt(cov[i,i])*np.sqrt(cov[j,j])) for i in range(len(myns[0]))] for j in range(len(myns[0]))])"
   ]
  },
  {
   "cell_type": "code",
   "execution_count": null,
   "metadata": {},
   "outputs": [],
   "source": [
    "fig, ax = plt.subplots() \n",
    "im = ax.imshow(corr,cmap='RdBu', vmin=0.0, vmax=1.0,\n",
    "                             interpolation='none')\n",
    "fig.colorbar(im,ax=ax)\n",
    "plt.show()"
   ]
  },
  {
   "cell_type": "code",
   "execution_count": null,
   "metadata": {},
   "outputs": [],
   "source": [
    "print(corr)"
   ]
  },
  {
   "cell_type": "code",
   "execution_count": null,
   "metadata": {},
   "outputs": [],
   "source": [
    "\n",
    "l = dphi_unknown_S\n",
    "for i in range(10):\n",
    "    ll = np.random.choice(l, size=l.shape, replace=False) \n",
    "    print(ll)\n",
    "    print(len(ll))"
   ]
  },
  {
   "cell_type": "code",
   "execution_count": null,
   "metadata": {},
   "outputs": [],
   "source": [
    "np.mean(ll)"
   ]
  },
  {
   "cell_type": "code",
   "execution_count": null,
   "metadata": {},
   "outputs": [],
   "source": []
  }
 ],
 "metadata": {
  "kernelspec": {
   "display_name": "Python 3",
   "language": "python",
   "name": "python3"
  },
  "language_info": {
   "codemirror_mode": {
    "name": "ipython",
    "version": 3
   },
   "file_extension": ".py",
   "mimetype": "text/x-python",
   "name": "python",
   "nbconvert_exporter": "python",
   "pygments_lexer": "ipython3",
   "version": "3.6.5"
  }
 },
 "nbformat": 4,
 "nbformat_minor": 4
}
