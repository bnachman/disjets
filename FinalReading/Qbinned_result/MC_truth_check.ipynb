{
 "cells": [
  {
   "cell_type": "code",
   "execution_count": 1,
   "id": "23d9249e",
   "metadata": {},
   "outputs": [],
   "source": [
    "import numpy as np\n",
    "import pandas as pd\n",
    "import matplotlib.pyplot as plt\n",
    "import gc\n",
    "from matplotlib import gridspec\n",
    "import time\n",
    "import tensorflow as tf\n",
    "\n",
    "import os\n",
    "os.environ['CUDA_VISIBLE_DEVICES']=\"0\" \n",
    "\n",
    "physical_devices = tf.config.list_physical_devices('GPU') \n",
    "tf.config.experimental.set_memory_growth(physical_devices[0], True)"
   ]
  },
  {
   "cell_type": "code",
   "execution_count": 2,
   "id": "71a59371",
   "metadata": {},
   "outputs": [
    {
     "name": "stderr",
     "output_type": "stream",
     "text": [
      "<ipython-input-2-99a23e5daf14>:21: FutureWarning: ``set_style`` is deprecated: Naming convention is changing to match mpl. Use ``mplhep.style.use()``.\n",
      "  hep.set_style(\"CMS\")\n"
     ]
    }
   ],
   "source": [
    "from matplotlib import rc\n",
    "rc('text', usetex=True)\n",
    "\n",
    "import matplotlib as mpl\n",
    "rc('font', family='serif')\n",
    "rc('text', usetex=True)\n",
    "rc('font', size=22)\n",
    "rc('xtick', labelsize=15)\n",
    "rc('ytick', labelsize=15)\n",
    "rc('legend', fontsize=15)\n",
    "\n",
    "mpl.rcParams.update({'font.size': 19})\n",
    "mpl.rcParams.update({'xtick.labelsize': 18}) \n",
    "mpl.rcParams.update({'ytick.labelsize': 18}) \n",
    "mpl.rcParams.update({'text.usetex' : False})\n",
    "mpl.rcParams.update({'axes.labelsize': 18}) \n",
    "mpl.rcParams.update({'legend.frameon': False}) \n",
    "\n",
    "import matplotlib.pyplot as plt\n",
    "import mplhep as hep\n",
    "hep.set_style(\"CMS\") "
   ]
  },
  {
   "cell_type": "code",
   "execution_count": 3,
   "id": "ccaafcbf",
   "metadata": {},
   "outputs": [],
   "source": [
    "bins = {}\n",
    "\n",
    "#jet pt\n",
    "bins['jetpt'] = np.logspace(np.log10(10),np.log10(100),7)\n",
    "\n",
    "#jet eta\n",
    "bins['jeteta'] = np.linspace(-1,2.5,6)\n",
    "\n",
    "#dphi\n",
    "bins['dphi'] = np.logspace(np.log10(0.03),np.log10(np.pi/2.0),9) - 0.03\n",
    "bins['dphi'] = bins['dphi'][1:]\n",
    "bins['dphi'][0] = 0.0\n",
    "\n",
    "#qt\n",
    "bins['qt'] = np.logspace(np.log10(0.03),np.log10(3.03),9) - 0.03\n",
    "bins['qt'] = bins['qt'][1:]\n",
    "bins['qt'][0] = 0.0"
   ]
  },
  {
   "cell_type": "code",
   "execution_count": 4,
   "id": "80521693",
   "metadata": {},
   "outputs": [],
   "source": [
    "#Read in the MC\n",
    "mc = pd.read_pickle(\"/clusterfs/ml4hep/yxu2/unfolding_mc_inputs/Rapgap_nominal.pkl\")\n",
    "#mc = pd.read_pickle(\"/clusterfs/ml4hep/bpnachman/H1/july16/datasets/Rapgap_nominal.pkl\")\n",
    "\n",
    "\n",
    "theta0_G = mc[['gene_px','gene_py','gene_pz','genjet_pt','genjet_eta','genjet_phi','genjet_dphi','genjet_qtnorm']].to_numpy()\n",
    "weights_MC_sim = mc['wgt']\n",
    "pass_reco = np.array(mc['pass_reco'])\n",
    "pass_truth = np.array(mc['pass_truth'])\n",
    "pass_fiducial = np.array(mc['pass_fiducial'])\n",
    "#pass_truth = pass_truth[pass_fiducial==1]\n",
    "#pass_reco = pass_reco[pass_fiducial==1][pass_truth==1]"
   ]
  },
  {
   "cell_type": "code",
   "execution_count": 6,
   "id": "b896ce48",
   "metadata": {},
   "outputs": [],
   "source": [
    "#Read in the MC\n",
    "mc = pd.read_pickle(\"/clusterfs/ml4hep/yxu2/Rapgap_nominal_full.pkl\")\n",
    "#mc = pd.read_pickle(\"/clusterfs/ml4hep/bpnachman/H1/july16/datasets/Rapgap_nominal.pkl\")\n",
    "\n",
    "\n",
    "theta0_G1 = mc[['gene_px','gene_py','gene_pz','genjet_pt','genjet_eta','genjet_phi','genjet_dphi','genjet_qtnorm']].to_numpy()\n",
    "weights_MC_sim1 = mc['wgt']\n",
    "pass_reco1 = np.array(mc['pass_reco'])\n",
    "pass_truth1 = np.array(mc['pass_truth'])\n",
    "pass_fiducial1 = np.array(mc['pass_fiducial'])\n",
    "#pass_truth = pass_truth[pass_fiducial==1]\n",
    "#pass_reco = pass_reco[pass_fiducial==1][pass_truth==1]"
   ]
  },
  {
   "cell_type": "code",
   "execution_count": 7,
   "id": "2b14b8bc",
   "metadata": {},
   "outputs": [],
   "source": [
    "obs_idx = {}\n",
    "obs_idx['dphi'] = 6\n",
    "obs_idx['jetpt'] = 3\n",
    "obs_idx['qt'] = 7\n",
    "obs_idx['jeteta'] = 4"
   ]
  },
  {
   "cell_type": "code",
   "execution_count": null,
   "id": "4672f756",
   "metadata": {},
   "outputs": [
    {
     "name": "stdout",
     "output_type": "stream",
     "text": [
      "dphi\n",
      "[7.06314116 3.63980127 1.83770607 0.876159   0.38744182 0.14803001\n",
      " 0.05350586]\n",
      "[7.06314116 3.63980127 1.83770607 0.876159   0.38744182 0.14803001\n",
      " 0.05350586]\n",
      "\n",
      "\n",
      "jetpt\n",
      "[1.18142133e-01 4.23369118e-02 1.07452559e-02 2.41144543e-03\n",
      " 4.85594434e-04 6.65117191e-05]\n",
      "[1.18142133e-01 4.23369118e-02 1.07452559e-02 2.41144543e-03\n",
      " 4.85594434e-04 6.65117191e-05]\n",
      "\n",
      "\n"
     ]
    }
   ],
   "source": [
    "for observable in ['dphi','jetpt','qt','jeteta']:\n",
    "    n_MC,_,_=plt.hist(theta0_G[pass_fiducial==1][:,obs_idx[observable]],bins=bins[observable],weights=weights_MC_sim[pass_fiducial==1],density=True,histtype=\"step\",color=\"black\",label=\"MC\")\n",
    "    n_MC1,_,_=plt.hist(theta0_G1[pass_fiducial1==1][:,obs_idx[observable]],bins=bins[observable],weights=weights_MC_sim1[pass_fiducial1==1],density=True,histtype=\"step\",color=\"black\",label=\"MC\")\n",
    "    print(observable)\n",
    "    print(n_MC)\n",
    "    print(n_MC1)\n",
    "    print(\"\\n\")"
   ]
  },
  {
   "cell_type": "code",
   "execution_count": null,
   "id": "6e2689f2",
   "metadata": {},
   "outputs": [],
   "source": [
    "for observable in ['dphi','jetpt','qt','jeteta']:\n",
    "\n",
    "        \n",
    "    with open('outputfiles/MCCrossSection_%s_Rapgap_nominal_ep0607_data_nominal.npy'%(observable),'rb') as f:\n",
    "        Rapgap = np.load(f)\n",
    "        Rapgap_x = np.load(f)\n",
    "        print(observable)\n",
    "        print(\"Last round paper\", Rapgap)\n",
    "        \n",
    "    n_MC,_,_=plt.hist(theta0_G[pass_fiducial==1][:,obs_idx[observable]],bins=bins[observable],weights=weights_MC_sim[pass_fiducial==1],density=True,histtype=\"step\",color=\"black\",label=\"MC\")\n",
    "    print(\"MC truth with fiducial cut\",n_MC)\n",
    "    print(\"\\n\")\n",
    "    \n",
    "    plt.figure()\n",
    "    plt.plot(Rapgap_x, Rapgap, label =\"Last paper Rapgap truth prediction\")\n",
    "    plt.plot(Rapgap_x, n_MC, label =\"Rapgap truth from training input file with pass_fiducial==1\")\n",
    "    plt.legend()\n",
    "    plt.title(observable)\n",
    "    #plt.show()\n",
    "    "
   ]
  },
  {
   "cell_type": "code",
   "execution_count": null,
   "id": "27f00db8",
   "metadata": {},
   "outputs": [],
   "source": [
    "    with open('outputfiles/MCCrossSection_%s_Django_nominal_ep0607_data_nominal.npy'%(observable),'rb') as f:\n",
    "        Djangoh = np.load(f)\n",
    "        Djangoh_x = np.load(f)"
   ]
  }
 ],
 "metadata": {
  "kernelspec": {
   "display_name": "TF2",
   "language": "python",
   "name": "tf2"
  },
  "language_info": {
   "codemirror_mode": {
    "name": "ipython",
    "version": 3
   },
   "file_extension": ".py",
   "mimetype": "text/x-python",
   "name": "python",
   "nbconvert_exporter": "python",
   "pygments_lexer": "ipython3",
   "version": "3.8.11"
  }
 },
 "nbformat": 4,
 "nbformat_minor": 5
}
