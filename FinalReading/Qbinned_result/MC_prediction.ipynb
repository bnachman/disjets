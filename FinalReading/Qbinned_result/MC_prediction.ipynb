{
 "cells": [
  {
   "cell_type": "code",
   "execution_count": 1,
   "id": "23d9249e",
   "metadata": {},
   "outputs": [],
   "source": [
    "import numpy as np\n",
    "import pandas as pd\n",
    "import matplotlib.pyplot as plt\n",
    "import gc\n",
    "from matplotlib import gridspec\n",
    "import time\n",
    "import tensorflow as tf\n",
    "\n",
    "import os\n",
    "os.environ['CUDA_VISIBLE_DEVICES']=\"0\" \n",
    "\n",
    "physical_devices = tf.config.list_physical_devices('GPU') \n",
    "tf.config.experimental.set_memory_growth(physical_devices[0], True)"
   ]
  },
  {
   "cell_type": "code",
   "execution_count": 2,
   "id": "71a59371",
   "metadata": {},
   "outputs": [
    {
     "name": "stderr",
     "output_type": "stream",
     "text": [
      "<ipython-input-2-99a23e5daf14>:21: FutureWarning: ``set_style`` is deprecated: Naming convention is changing to match mpl. Use ``mplhep.style.use()``.\n",
      "  hep.set_style(\"CMS\")\n"
     ]
    }
   ],
   "source": [
    "from matplotlib import rc\n",
    "rc('text', usetex=True)\n",
    "\n",
    "import matplotlib as mpl\n",
    "rc('font', family='serif')\n",
    "rc('text', usetex=True)\n",
    "rc('font', size=22)\n",
    "rc('xtick', labelsize=15)\n",
    "rc('ytick', labelsize=15)\n",
    "rc('legend', fontsize=15)\n",
    "\n",
    "mpl.rcParams.update({'font.size': 19})\n",
    "mpl.rcParams.update({'xtick.labelsize': 18}) \n",
    "mpl.rcParams.update({'ytick.labelsize': 18}) \n",
    "mpl.rcParams.update({'text.usetex' : False})\n",
    "mpl.rcParams.update({'axes.labelsize': 18}) \n",
    "mpl.rcParams.update({'legend.frameon': False}) \n",
    "\n",
    "import matplotlib.pyplot as plt\n",
    "import mplhep as hep\n",
    "hep.set_style(\"CMS\") "
   ]
  },
  {
   "cell_type": "code",
   "execution_count": 3,
   "id": "ccaafcbf",
   "metadata": {},
   "outputs": [],
   "source": [
    "bins = {}\n",
    "\n",
    "#jet pt\n",
    "bins['jetpt'] = np.logspace(np.log10(10),np.log10(100),7)\n",
    "\n",
    "#jet eta\n",
    "bins['jeteta'] = np.linspace(-1,2.5,6)\n",
    "\n",
    "#dphi\n",
    "bins['dphi'] = np.logspace(np.log10(0.03),np.log10(np.pi/2.0),9) - 0.03\n",
    "bins['dphi'] = bins['dphi'][1:]\n",
    "bins['dphi'][0] = 0.0\n",
    "\n",
    "#qt\n",
    "bins['qt'] = np.logspace(np.log10(0.03),np.log10(3.03),9) - 0.03\n",
    "bins['qt'] = bins['qt'][1:]\n",
    "bins['qt'][0] = 0.0\n",
    "\n",
    "bins['Q2'] = np.logspace(np.log10(100),np.log10(100000),5)"
   ]
  },
  {
   "cell_type": "code",
   "execution_count": null,
   "id": "388b8c48",
   "metadata": {},
   "outputs": [],
   "source": [
    "#Read in the MC\n",
    "mc = pd.read_pickle(\"/clusterfs/ml4hep/yxu2/unfolding_mc_inputs/Rapgap_nominal.pkl\")\n",
    "\n",
    "\n",
    "theta0_G = mc[['gene_px','gene_py','gene_pz','genjet_pt','genjet_eta','genjet_phi','genjet_dphi','genjet_qtnorm', 'gen_Q2']].to_numpy()\n",
    "\n",
    "\n",
    "weights_MC_sim = mc['wgt']\n",
    "pass_reco = np.array(mc['pass_reco'])\n",
    "pass_truth = np.array(mc['pass_truth'])\n",
    "pass_fiducial = np.array(mc['pass_fiducial'])\n",
    "\n",
    "Q2 = theta0_G[:,8]\n",
    "Q2 = Q2[pass_fiducial==1]\n",
    "theta0_G = theta0_G[:,0:8]\n",
    "#pass_truth = pass_truth[pass_fiducial==1]\n",
    "#pass_reco = pass_reco[pass_fiducial==1][pass_truth==1]"
   ]
  },
  {
   "cell_type": "code",
   "execution_count": null,
   "id": "80521693",
   "metadata": {},
   "outputs": [],
   "source": [
    "n_MC,_,_=plt.hist(Q2,bins=bins[\"Q2\"],weights=weights_MC_sim[pass_fiducial==1],density=True,histtype=\"step\",color=\"black\",label=\"MC\")\n",
    "np.save(\"outputfiles/MCCrossSection_Q2_Rapgap_nominal_ep0607_data_nominal.npy\", n_MC)\n",
    "\n"
   ]
  },
  {
   "cell_type": "code",
   "execution_count": null,
   "id": "d5830726",
   "metadata": {},
   "outputs": [],
   "source": [
    "obs_idx = {}\n",
    "obs_idx['dphi'] = 6\n",
    "obs_idx['jetpt'] = 3\n",
    "obs_idx['qt'] = 7\n",
    "obs_idx['jeteta'] = 4\n",
    "\n",
    "cuts = [150,200,250,48000]"
   ]
  },
  {
   "cell_type": "code",
   "execution_count": null,
   "id": "2b14b8bc",
   "metadata": {},
   "outputs": [],
   "source": [
    "for k in range(len(cuts)-1):\n",
    "    Q2_cut = np.where((cuts[k] < Q2) & (Q2 < cuts[k+1]), True, False)\n",
    "    cut_label = str(cuts[k])+\" < Q2 < \"+str(cuts[k+1]) #+ \" (GeV^2)\"\n",
    "    \n",
    "    for observable in ['dphi','jetpt','qt','jeteta']:\n",
    "        n_MC,_,_=plt.hist(theta0_G[pass_fiducial==1][:,obs_idx[observable]][Q2_cut],bins=bins[observable],weights=weights_MC_sim[pass_fiducial==1][Q2_cut],density=True,histtype=\"step\",color=\"black\",label=\"MC\")\n",
    "        np.save(\"outputfiles/MCCrossSection_\"+observable+\"_Django_nominal_ep0607_data_nominal_\"+cut_label+\".npy\", n_MC)\n",
    "        \n"
   ]
  }
 ],
 "metadata": {
  "kernelspec": {
   "display_name": "TF2",
   "language": "python",
   "name": "tf2"
  },
  "language_info": {
   "codemirror_mode": {
    "name": "ipython",
    "version": 3
   },
   "file_extension": ".py",
   "mimetype": "text/x-python",
   "name": "python",
   "nbconvert_exporter": "python",
   "pygments_lexer": "ipython3",
   "version": "3.8.11"
  }
 },
 "nbformat": 4,
 "nbformat_minor": 5
}
